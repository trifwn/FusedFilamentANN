{
 "cells": [
  {
   "cell_type": "code",
   "execution_count": 1,
   "metadata": {},
   "outputs": [
    {
     "name": "stderr",
     "output_type": "stream",
     "text": [
      "2022-11-21 09:36:38.038786: W tensorflow/stream_executor/platform/default/dso_loader.cc:64] Could not load dynamic library 'libcudart.so.11.0'; dlerror: libcudart.so.11.0: cannot open shared object file: No such file or directory; LD_LIBRARY_PATH: /app/lib\n",
      "2022-11-21 09:36:38.038823: I tensorflow/stream_executor/cuda/cudart_stub.cc:29] Ignore above cudart dlerror if you do not have a GPU set up on your machine.\n"
     ]
    }
   ],
   "source": [
    "import os\n",
    "import time\n",
    "from datetime import datetime\n",
    "\n",
    "import IPython\n",
    "import IPython.display\n",
    "\n",
    "import numpy as np\n",
    "from math import *\n",
    "\n",
    "import tensorflow as tf\n",
    "from tensorflow.keras.layers import Input, Dense\n",
    "from tensorflow.keras.callbacks import TensorBoard, ModelCheckpoint\n",
    "\n",
    "import matplotlib.pyplot as plt\n",
    "import pandas as pd\n",
    "import random "
   ]
  },
  {
   "cell_type": "markdown",
   "metadata": {},
   "source": [
    "# Tensorflow"
   ]
  },
  {
   "cell_type": "code",
   "execution_count": 2,
   "metadata": {},
   "outputs": [
    {
     "name": "stderr",
     "output_type": "stream",
     "text": [
      "2022-11-21 09:36:41.745888: W tensorflow/stream_executor/platform/default/dso_loader.cc:64] Could not load dynamic library 'libcuda.so.1'; dlerror: libcuda.so.1: cannot open shared object file: No such file or directory; LD_LIBRARY_PATH: /app/lib\n",
      "2022-11-21 09:36:41.745955: W tensorflow/stream_executor/cuda/cuda_driver.cc:269] failed call to cuInit: UNKNOWN ERROR (303)\n",
      "2022-11-21 09:36:41.745996: I tensorflow/stream_executor/cuda/cuda_diagnostics.cc:169] retrieving CUDA diagnostic information for host: hydra\n",
      "2022-11-21 09:36:41.746010: I tensorflow/stream_executor/cuda/cuda_diagnostics.cc:176] hostname: hydra\n",
      "2022-11-21 09:36:41.746133: I tensorflow/stream_executor/cuda/cuda_diagnostics.cc:200] libcuda reported version is: NOT_FOUND: was unable to find libcuda.so DSO loaded into this program\n",
      "2022-11-21 09:36:41.746196: I tensorflow/stream_executor/cuda/cuda_diagnostics.cc:204] kernel reported version is: 520.56.6\n"
     ]
    },
    {
     "data": {
      "text/plain": [
       "True"
      ]
     },
     "execution_count": 2,
     "metadata": {},
     "output_type": "execute_result"
    }
   ],
   "source": [
    "gpus = tf.config.experimental.list_physical_devices('GPU')\n",
    "if gpus:\n",
    "    try:\n",
    "        # Currently, memory growth needs to be the same across GPUs\n",
    "        for gpu in gpus:\n",
    "            tf.config.experimental.set_memory_growth(gpu, True)\n",
    "        logical_gpus = tf.config.experimental.list_logical_devices('GPU')\n",
    "        print(len(gpus), \"Physical GPUs,\", len(logical_gpus), \"Logical GPUs\")\n",
    "    except RuntimeError as e:\n",
    "        # Memory growth must be set before GPUs have been initialized\n",
    "        print(e)\n",
    "tf.test.is_built_with_cuda()"
   ]
  },
  {
   "cell_type": "markdown",
   "metadata": {},
   "source": [
    "# Case "
   ]
  },
  {
   "cell_type": "code",
   "execution_count": 3,
   "metadata": {},
   "outputs": [],
   "source": [
    "folders = ['Rough','UTS','Elon']\n",
    "index = 1\n",
    "CASE = folders[index]"
   ]
  },
  {
   "cell_type": "code",
   "execution_count": 4,
   "metadata": {},
   "outputs": [],
   "source": [
    "from prepross import importAndProcess\n",
    "xtrain,xval,xtest,ytrain,yval,ytest = importAndProcess(index)\n",
    "x = pd.concat((xtrain,xtest,xval),axis=0)\n",
    "y = pd.concat((ytrain,ytest,yval),axis=0)"
   ]
  },
  {
   "cell_type": "markdown",
   "metadata": {},
   "source": [
    "# Network"
   ]
  },
  {
   "cell_type": "code",
   "execution_count": 5,
   "metadata": {},
   "outputs": [],
   "source": [
    "# Hyperparameters\n",
    "lossfn = [tf.keras.losses.MeanSquaredError(),tf.keras.losses.MeanAbsolutePercentageError(),tf.keras.losses.MeanAbsoluteError()]\n",
    "lossfn = lossfn[1]\n",
    "optimizer = [tf.keras.optimizers.Adam(learning_rate=i,beta_1=0.09,beta_2=0.9) for i in [5e-2,1e-2,5e-3]]\n",
    "optimizer = optimizer[index]\n",
    "metrics = ['mean_squared_error','mean_absolute_error',tf.keras.losses.MeanAbsolutePercentageError()]"
   ]
  },
  {
   "cell_type": "code",
   "execution_count": 6,
   "metadata": {},
   "outputs": [],
   "source": [
    "modelArchitecture = [[7,'tanh',1],[2,'relu',1],[1,'linear',1]]"
   ]
  },
  {
   "cell_type": "code",
   "execution_count": 7,
   "metadata": {},
   "outputs": [],
   "source": [
    "#Give a random seed\n",
    "tf.random.set_seed(random.randint(1,1000))\n",
    "from networks import create_model"
   ]
  },
  {
   "cell_type": "code",
   "execution_count": 8,
   "metadata": {},
   "outputs": [
    {
     "name": "stdout",
     "output_type": "stream",
     "text": [
      "Model: \"7tanh1_2relu1_1linear1_\"\n",
      "_________________________________________________________________\n",
      " Layer (type)                Output Shape              Param #   \n",
      "=================================================================\n",
      " dense (Dense)               (None, 7)                 63        \n",
      "                                                                 \n",
      " dense_1 (Dense)             (None, 2)                 16        \n",
      "                                                                 \n",
      " dense_2 (Dense)             (None, 1)                 3         \n",
      "                                                                 \n",
      "=================================================================\n",
      "Total params: 82\n",
      "Trainable params: 82\n",
      "Non-trainable params: 0\n",
      "_________________________________________________________________\n"
     ]
    },
    {
     "name": "stderr",
     "output_type": "stream",
     "text": [
      "2022-11-21 09:36:43.062018: I tensorflow/core/platform/cpu_feature_guard.cc:151] This TensorFlow binary is optimized with oneAPI Deep Neural Network Library (oneDNN) to use the following CPU instructions in performance-critical operations:  AVX2 FMA\n",
      "To enable them in other operations, rebuild TensorFlow with the appropriate compiler flags.\n"
     ]
    }
   ],
   "source": [
    "# Create a basic model Architecture\n",
    "modelName = ''\n",
    "for u,fn,b in modelArchitecture:\n",
    "    modelName += str(u)+fn+str(b)+'_'\n",
    "# Create Model\n",
    "model = create_model(modelArchitecture,modelName,len(xtrain.columns))\n",
    "# Display the model's architecture\n",
    "model.summary()\n",
    "model.compile(optimizer=optimizer,\n",
    "                loss=lossfn, #tf.keras.losses.MSE\n",
    "                metrics=metrics) #tf.keras.losses.Huber()\n"
   ]
  },
  {
   "cell_type": "code",
   "execution_count": 9,
   "metadata": {},
   "outputs": [
    {
     "name": "stdout",
     "output_type": "stream",
     "text": [
      "Epoch 1/3500\n",
      "12/12 - 1s - loss: 95.5946 - mean_squared_error: 459.6011 - mean_absolute_error: 19.8199 - mean_absolute_percentage_error: 95.5946 - val_loss: 84.0838 - val_mean_squared_error: 415.8648 - val_mean_absolute_error: 17.4254 - val_mean_absolute_percentage_error: 86.4706 - 967ms/epoch - 81ms/step\n",
      "Epoch 2/3500\n",
      "12/12 - 0s - loss: 84.6041 - mean_squared_error: 392.6790 - mean_absolute_error: 17.9945 - mean_absolute_percentage_error: 84.6041 - val_loss: 68.2602 - val_mean_squared_error: 335.6799 - val_mean_absolute_error: 15.2099 - val_mean_absolute_percentage_error: 72.5563 - 56ms/epoch - 5ms/step\n",
      "Epoch 3/3500\n",
      "12/12 - 0s - loss: 68.5001 - mean_squared_error: 304.2100 - mean_absolute_error: 15.2753 - mean_absolute_percentage_error: 68.5001 - val_loss: 66.4086 - val_mean_squared_error: 247.3610 - val_mean_absolute_error: 13.0143 - val_mean_absolute_percentage_error: 69.0608 - 62ms/epoch - 5ms/step\n",
      "Epoch 4/3500\n",
      "12/12 - 0s - loss: 51.5197 - mean_squared_error: 211.3325 - mean_absolute_error: 12.1232 - mean_absolute_percentage_error: 51.5197 - val_loss: 64.1577 - val_mean_squared_error: 188.3916 - val_mean_absolute_error: 11.0763 - val_mean_absolute_percentage_error: 65.7084 - 68ms/epoch - 6ms/step\n",
      "Epoch 5/3500\n",
      "12/12 - 0s - loss: 42.5719 - mean_squared_error: 159.3435 - mean_absolute_error: 10.2184 - mean_absolute_percentage_error: 42.5719 - val_loss: 62.6852 - val_mean_squared_error: 159.1912 - val_mean_absolute_error: 9.9710 - val_mean_absolute_percentage_error: 63.6441 - 53ms/epoch - 4ms/step\n",
      "Epoch 6/3500\n",
      "12/12 - 0s - loss: 38.6103 - mean_squared_error: 127.6118 - mean_absolute_error: 9.1618 - mean_absolute_percentage_error: 38.6103 - val_loss: 62.5824 - val_mean_squared_error: 136.8988 - val_mean_absolute_error: 9.1035 - val_mean_absolute_percentage_error: 62.7109 - 40ms/epoch - 3ms/step\n",
      "Epoch 7/3500\n",
      "12/12 - 0s - loss: 35.6959 - mean_squared_error: 97.7072 - mean_absolute_error: 8.1255 - mean_absolute_percentage_error: 35.6959 - val_loss: 61.0328 - val_mean_squared_error: 124.9950 - val_mean_absolute_error: 8.5816 - val_mean_absolute_percentage_error: 61.0891 - 43ms/epoch - 4ms/step\n",
      "Epoch 8/3500\n",
      "12/12 - 0s - loss: 32.8533 - mean_squared_error: 88.9596 - mean_absolute_error: 7.6504 - mean_absolute_percentage_error: 32.8533 - val_loss: 60.4416 - val_mean_squared_error: 114.9827 - val_mean_absolute_error: 8.1145 - val_mean_absolute_percentage_error: 60.1999 - 41ms/epoch - 3ms/step\n",
      "Epoch 9/3500\n",
      "12/12 - 0s - loss: 31.2072 - mean_squared_error: 74.9078 - mean_absolute_error: 7.0505 - mean_absolute_percentage_error: 31.2072 - val_loss: 59.8660 - val_mean_squared_error: 103.4258 - val_mean_absolute_error: 7.5190 - val_mean_absolute_percentage_error: 59.1693 - 45ms/epoch - 4ms/step\n",
      "Epoch 10/3500\n",
      "12/12 - 0s - loss: 29.3560 - mean_squared_error: 65.1403 - mean_absolute_error: 6.5677 - mean_absolute_percentage_error: 29.3560 - val_loss: 58.9361 - val_mean_squared_error: 92.7207 - val_mean_absolute_error: 6.8867 - val_mean_absolute_percentage_error: 57.7954 - 42ms/epoch - 3ms/step\n",
      "Epoch 11/3500\n",
      "12/12 - 0s - loss: 28.4364 - mean_squared_error: 52.1058 - mean_absolute_error: 6.0034 - mean_absolute_percentage_error: 28.4364 - val_loss: 61.2434 - val_mean_squared_error: 85.6350 - val_mean_absolute_error: 6.5390 - val_mean_absolute_percentage_error: 58.9243 - 42ms/epoch - 3ms/step\n",
      "Epoch 12/3500\n",
      "12/12 - 0s - loss: 26.6528 - mean_squared_error: 45.5370 - mean_absolute_error: 5.5926 - mean_absolute_percentage_error: 26.6528 - val_loss: 61.0378 - val_mean_squared_error: 84.9997 - val_mean_absolute_error: 6.3897 - val_mean_absolute_percentage_error: 58.8228 - 47ms/epoch - 4ms/step\n",
      "Epoch 13/3500\n",
      "12/12 - 0s - loss: 25.3622 - mean_squared_error: 42.8587 - mean_absolute_error: 5.3803 - mean_absolute_percentage_error: 25.3622 - val_loss: 66.6162 - val_mean_squared_error: 85.5426 - val_mean_absolute_error: 6.5077 - val_mean_absolute_percentage_error: 62.8914 - 46ms/epoch - 4ms/step\n",
      "Epoch 14/3500\n",
      "12/12 - 0s - loss: 24.8460 - mean_squared_error: 33.8637 - mean_absolute_error: 4.8452 - mean_absolute_percentage_error: 24.8460 - val_loss: 67.6162 - val_mean_squared_error: 84.4411 - val_mean_absolute_error: 6.4630 - val_mean_absolute_percentage_error: 63.5766 - 53ms/epoch - 4ms/step\n",
      "Epoch 15/3500\n",
      "12/12 - 0s - loss: 23.0112 - mean_squared_error: 30.7991 - mean_absolute_error: 4.5672 - mean_absolute_percentage_error: 23.0112 - val_loss: 69.5293 - val_mean_squared_error: 84.9685 - val_mean_absolute_error: 6.5693 - val_mean_absolute_percentage_error: 65.0493 - 42ms/epoch - 4ms/step\n",
      "Epoch 16/3500\n",
      "12/12 - 0s - loss: 21.8841 - mean_squared_error: 26.4415 - mean_absolute_error: 4.1752 - mean_absolute_percentage_error: 21.8841 - val_loss: 72.5266 - val_mean_squared_error: 85.8066 - val_mean_absolute_error: 6.6766 - val_mean_absolute_percentage_error: 67.1333 - 42ms/epoch - 3ms/step\n",
      "Epoch 17/3500\n",
      "12/12 - 0s - loss: 21.0929 - mean_squared_error: 24.9736 - mean_absolute_error: 3.9661 - mean_absolute_percentage_error: 21.0929 - val_loss: 74.1975 - val_mean_squared_error: 92.4847 - val_mean_absolute_error: 6.8106 - val_mean_absolute_percentage_error: 68.9449 - 55ms/epoch - 5ms/step\n",
      "Epoch 18/3500\n",
      "12/12 - 0s - loss: 20.0070 - mean_squared_error: 23.4277 - mean_absolute_error: 3.7402 - mean_absolute_percentage_error: 20.0070 - val_loss: 79.5784 - val_mean_squared_error: 90.7516 - val_mean_absolute_error: 7.1447 - val_mean_absolute_percentage_error: 72.3688 - 45ms/epoch - 4ms/step\n",
      "Epoch 19/3500\n",
      "12/12 - 0s - loss: 18.3150 - mean_squared_error: 20.6131 - mean_absolute_error: 3.4207 - mean_absolute_percentage_error: 18.3150 - val_loss: 73.9278 - val_mean_squared_error: 93.1026 - val_mean_absolute_error: 6.7934 - val_mean_absolute_percentage_error: 68.8702 - 45ms/epoch - 4ms/step\n",
      "Epoch 20/3500\n",
      "12/12 - 0s - loss: 19.0793 - mean_squared_error: 20.2865 - mean_absolute_error: 3.5902 - mean_absolute_percentage_error: 19.0793 - val_loss: 81.1419 - val_mean_squared_error: 94.7744 - val_mean_absolute_error: 7.2652 - val_mean_absolute_percentage_error: 73.8355 - 49ms/epoch - 4ms/step\n",
      "Epoch 21/3500\n",
      "12/12 - 0s - loss: 17.5964 - mean_squared_error: 18.9973 - mean_absolute_error: 3.3421 - mean_absolute_percentage_error: 17.5964 - val_loss: 88.1953 - val_mean_squared_error: 99.0610 - val_mean_absolute_error: 7.7313 - val_mean_absolute_percentage_error: 78.7117 - 40ms/epoch - 3ms/step\n",
      "Epoch 22/3500\n",
      "12/12 - 0s - loss: 17.4573 - mean_squared_error: 16.9640 - mean_absolute_error: 3.2160 - mean_absolute_percentage_error: 17.4573 - val_loss: 81.5559 - val_mean_squared_error: 96.6226 - val_mean_absolute_error: 7.3629 - val_mean_absolute_percentage_error: 74.4211 - 53ms/epoch - 4ms/step\n",
      "Epoch 23/3500\n",
      "12/12 - 0s - loss: 16.8547 - mean_squared_error: 17.3763 - mean_absolute_error: 3.2602 - mean_absolute_percentage_error: 16.8547 - val_loss: 84.3180 - val_mean_squared_error: 95.3329 - val_mean_absolute_error: 7.3835 - val_mean_absolute_percentage_error: 75.7922 - 41ms/epoch - 3ms/step\n",
      "Epoch 24/3500\n",
      "12/12 - 0s - loss: 16.7969 - mean_squared_error: 16.3898 - mean_absolute_error: 3.1524 - mean_absolute_percentage_error: 16.7969 - val_loss: 90.3961 - val_mean_squared_error: 103.1496 - val_mean_absolute_error: 7.8647 - val_mean_absolute_percentage_error: 80.4715 - 47ms/epoch - 4ms/step\n",
      "Epoch 25/3500\n",
      "12/12 - 0s - loss: 16.5825 - mean_squared_error: 14.7872 - mean_absolute_error: 2.9733 - mean_absolute_percentage_error: 16.5825 - val_loss: 88.1137 - val_mean_squared_error: 106.2850 - val_mean_absolute_error: 7.7570 - val_mean_absolute_percentage_error: 79.4853 - 44ms/epoch - 4ms/step\n",
      "Epoch 26/3500\n",
      "12/12 - 0s - loss: 16.1562 - mean_squared_error: 14.4578 - mean_absolute_error: 2.9000 - mean_absolute_percentage_error: 16.1562 - val_loss: 85.1849 - val_mean_squared_error: 100.4598 - val_mean_absolute_error: 7.5755 - val_mean_absolute_percentage_error: 77.1047 - 47ms/epoch - 4ms/step\n",
      "Epoch 27/3500\n",
      "12/12 - 0s - loss: 15.2794 - mean_squared_error: 13.4213 - mean_absolute_error: 2.8875 - mean_absolute_percentage_error: 15.2794 - val_loss: 88.2177 - val_mean_squared_error: 101.2075 - val_mean_absolute_error: 7.7092 - val_mean_absolute_percentage_error: 78.9021 - 46ms/epoch - 4ms/step\n",
      "Epoch 28/3500\n",
      "12/12 - 0s - loss: 15.3242 - mean_squared_error: 13.0565 - mean_absolute_error: 2.8554 - mean_absolute_percentage_error: 15.3242 - val_loss: 90.0040 - val_mean_squared_error: 107.4389 - val_mean_absolute_error: 7.9078 - val_mean_absolute_percentage_error: 80.7968 - 43ms/epoch - 4ms/step\n",
      "Epoch 29/3500\n",
      "12/12 - 0s - loss: 14.4180 - mean_squared_error: 12.3835 - mean_absolute_error: 2.6855 - mean_absolute_percentage_error: 14.4180 - val_loss: 82.6615 - val_mean_squared_error: 101.4914 - val_mean_absolute_error: 7.3890 - val_mean_absolute_percentage_error: 75.4928 - 48ms/epoch - 4ms/step\n",
      "Epoch 30/3500\n",
      "12/12 - 0s - loss: 14.0435 - mean_squared_error: 12.3045 - mean_absolute_error: 2.7142 - mean_absolute_percentage_error: 14.0435 - val_loss: 86.1313 - val_mean_squared_error: 104.1028 - val_mean_absolute_error: 7.7067 - val_mean_absolute_percentage_error: 78.1339 - 67ms/epoch - 6ms/step\n",
      "Epoch 31/3500\n",
      "12/12 - 0s - loss: 13.6011 - mean_squared_error: 11.5674 - mean_absolute_error: 2.6453 - mean_absolute_percentage_error: 13.6011 - val_loss: 88.8021 - val_mean_squared_error: 110.9552 - val_mean_absolute_error: 7.8292 - val_mean_absolute_percentage_error: 80.3908 - 47ms/epoch - 4ms/step\n",
      "Epoch 32/3500\n",
      "12/12 - 0s - loss: 14.3265 - mean_squared_error: 14.8664 - mean_absolute_error: 2.8596 - mean_absolute_percentage_error: 14.3265 - val_loss: 85.8773 - val_mean_squared_error: 107.0719 - val_mean_absolute_error: 7.6300 - val_mean_absolute_percentage_error: 78.1012 - 50ms/epoch - 4ms/step\n",
      "Epoch 33/3500\n",
      "12/12 - 0s - loss: 14.1824 - mean_squared_error: 12.8846 - mean_absolute_error: 2.7615 - mean_absolute_percentage_error: 14.1824 - val_loss: 91.2744 - val_mean_squared_error: 109.5781 - val_mean_absolute_error: 7.9476 - val_mean_absolute_percentage_error: 81.6357 - 59ms/epoch - 5ms/step\n",
      "Epoch 34/3500\n",
      "12/12 - 0s - loss: 13.0752 - mean_squared_error: 10.7949 - mean_absolute_error: 2.5087 - mean_absolute_percentage_error: 13.0752 - val_loss: 89.4456 - val_mean_squared_error: 106.8447 - val_mean_absolute_error: 7.7897 - val_mean_absolute_percentage_error: 80.0582 - 52ms/epoch - 4ms/step\n",
      "Epoch 35/3500\n",
      "12/12 - 0s - loss: 13.3509 - mean_squared_error: 11.0802 - mean_absolute_error: 2.5448 - mean_absolute_percentage_error: 13.3509 - val_loss: 84.3462 - val_mean_squared_error: 101.2323 - val_mean_absolute_error: 7.4121 - val_mean_absolute_percentage_error: 76.2602 - 58ms/epoch - 5ms/step\n",
      "Epoch 36/3500\n",
      "12/12 - 0s - loss: 12.7794 - mean_squared_error: 10.7811 - mean_absolute_error: 2.4785 - mean_absolute_percentage_error: 12.7794 - val_loss: 89.6400 - val_mean_squared_error: 107.9281 - val_mean_absolute_error: 7.7701 - val_mean_absolute_percentage_error: 80.4146 - 62ms/epoch - 5ms/step\n",
      "Epoch 37/3500\n",
      "12/12 - 0s - loss: 13.2338 - mean_squared_error: 10.8621 - mean_absolute_error: 2.5085 - mean_absolute_percentage_error: 13.2338 - val_loss: 83.4923 - val_mean_squared_error: 106.2181 - val_mean_absolute_error: 7.3934 - val_mean_absolute_percentage_error: 76.3948 - 48ms/epoch - 4ms/step\n",
      "Epoch 38/3500\n",
      "12/12 - 0s - loss: 13.5790 - mean_squared_error: 10.3867 - mean_absolute_error: 2.5541 - mean_absolute_percentage_error: 13.5790 - val_loss: 88.6830 - val_mean_squared_error: 106.4877 - val_mean_absolute_error: 7.7764 - val_mean_absolute_percentage_error: 79.5854 - 60ms/epoch - 5ms/step\n",
      "Epoch 39/3500\n",
      "12/12 - 0s - loss: 12.9216 - mean_squared_error: 10.3751 - mean_absolute_error: 2.4897 - mean_absolute_percentage_error: 12.9216 - val_loss: 92.8479 - val_mean_squared_error: 112.1409 - val_mean_absolute_error: 8.1016 - val_mean_absolute_percentage_error: 82.8251 - 57ms/epoch - 5ms/step\n",
      "Epoch 40/3500\n",
      "12/12 - 0s - loss: 12.5728 - mean_squared_error: 10.0813 - mean_absolute_error: 2.4955 - mean_absolute_percentage_error: 12.5728 - val_loss: 92.4235 - val_mean_squared_error: 109.7720 - val_mean_absolute_error: 8.0886 - val_mean_absolute_percentage_error: 82.1607 - 58ms/epoch - 5ms/step\n",
      "Epoch 41/3500\n",
      "12/12 - 0s - loss: 12.3038 - mean_squared_error: 10.4645 - mean_absolute_error: 2.4579 - mean_absolute_percentage_error: 12.3038 - val_loss: 87.8750 - val_mean_squared_error: 107.6528 - val_mean_absolute_error: 7.7337 - val_mean_absolute_percentage_error: 79.2770 - 59ms/epoch - 5ms/step\n",
      "Epoch 42/3500\n",
      "12/12 - 0s - loss: 12.8569 - mean_squared_error: 9.8944 - mean_absolute_error: 2.4877 - mean_absolute_percentage_error: 12.8569 - val_loss: 92.1922 - val_mean_squared_error: 109.8384 - val_mean_absolute_error: 8.0589 - val_mean_absolute_percentage_error: 82.0021 - 45ms/epoch - 4ms/step\n",
      "Epoch 43/3500\n",
      "12/12 - 0s - loss: 12.2750 - mean_squared_error: 9.1549 - mean_absolute_error: 2.3986 - mean_absolute_percentage_error: 12.2750 - val_loss: 91.7450 - val_mean_squared_error: 113.6329 - val_mean_absolute_error: 8.1173 - val_mean_absolute_percentage_error: 82.2465 - 51ms/epoch - 4ms/step\n",
      "Epoch 44/3500\n",
      "12/12 - 0s - loss: 11.0880 - mean_squared_error: 8.4624 - mean_absolute_error: 2.2260 - mean_absolute_percentage_error: 11.0880 - val_loss: 85.5233 - val_mean_squared_error: 106.3707 - val_mean_absolute_error: 7.5192 - val_mean_absolute_percentage_error: 77.4772 - 47ms/epoch - 4ms/step\n",
      "Epoch 45/3500\n",
      "12/12 - 0s - loss: 11.9627 - mean_squared_error: 8.4122 - mean_absolute_error: 2.3148 - mean_absolute_percentage_error: 11.9627 - val_loss: 93.9204 - val_mean_squared_error: 110.0403 - val_mean_absolute_error: 8.2902 - val_mean_absolute_percentage_error: 82.8898 - 50ms/epoch - 4ms/step\n",
      "Epoch 46/3500\n",
      "12/12 - 0s - loss: 11.8461 - mean_squared_error: 7.5799 - mean_absolute_error: 2.2459 - mean_absolute_percentage_error: 11.8461 - val_loss: 95.2419 - val_mean_squared_error: 115.1573 - val_mean_absolute_error: 8.3216 - val_mean_absolute_percentage_error: 84.3066 - 47ms/epoch - 4ms/step\n",
      "Epoch 47/3500\n",
      "12/12 - 0s - loss: 10.9551 - mean_squared_error: 7.4649 - mean_absolute_error: 2.1045 - mean_absolute_percentage_error: 10.9551 - val_loss: 86.0989 - val_mean_squared_error: 105.8414 - val_mean_absolute_error: 7.5431 - val_mean_absolute_percentage_error: 77.8332 - 43ms/epoch - 4ms/step\n",
      "Epoch 48/3500\n",
      "12/12 - 0s - loss: 11.5326 - mean_squared_error: 8.9657 - mean_absolute_error: 2.3434 - mean_absolute_percentage_error: 11.5326 - val_loss: 91.6702 - val_mean_squared_error: 109.0806 - val_mean_absolute_error: 7.9735 - val_mean_absolute_percentage_error: 81.4323 - 44ms/epoch - 4ms/step\n",
      "Epoch 49/3500\n",
      "12/12 - 0s - loss: 10.9853 - mean_squared_error: 7.1873 - mean_absolute_error: 2.1120 - mean_absolute_percentage_error: 10.9853 - val_loss: 83.4503 - val_mean_squared_error: 106.5051 - val_mean_absolute_error: 7.3339 - val_mean_absolute_percentage_error: 76.1513 - 53ms/epoch - 4ms/step\n",
      "Epoch 50/3500\n",
      "12/12 - 0s - loss: 10.8699 - mean_squared_error: 7.3890 - mean_absolute_error: 2.1055 - mean_absolute_percentage_error: 10.8699 - val_loss: 88.7646 - val_mean_squared_error: 107.2661 - val_mean_absolute_error: 7.7649 - val_mean_absolute_percentage_error: 79.1787 - 46ms/epoch - 4ms/step\n",
      "Epoch 51/3500\n",
      "12/12 - 0s - loss: 10.9792 - mean_squared_error: 7.3784 - mean_absolute_error: 2.1204 - mean_absolute_percentage_error: 10.9792 - val_loss: 86.5019 - val_mean_squared_error: 109.3487 - val_mean_absolute_error: 7.6563 - val_mean_absolute_percentage_error: 78.2577 - 54ms/epoch - 5ms/step\n",
      "Epoch 52/3500\n",
      "12/12 - 0s - loss: 10.7787 - mean_squared_error: 6.7145 - mean_absolute_error: 2.0614 - mean_absolute_percentage_error: 10.7787 - val_loss: 88.6814 - val_mean_squared_error: 109.5048 - val_mean_absolute_error: 7.7799 - val_mean_absolute_percentage_error: 79.4666 - 47ms/epoch - 4ms/step\n",
      "Epoch 53/3500\n",
      "12/12 - 0s - loss: 11.1767 - mean_squared_error: 8.3246 - mean_absolute_error: 2.2190 - mean_absolute_percentage_error: 11.1767 - val_loss: 91.0009 - val_mean_squared_error: 114.7263 - val_mean_absolute_error: 8.0426 - val_mean_absolute_percentage_error: 81.6833 - 44ms/epoch - 4ms/step\n",
      "Epoch 54/3500\n",
      "12/12 - 0s - loss: 10.6421 - mean_squared_error: 7.2698 - mean_absolute_error: 2.0696 - mean_absolute_percentage_error: 10.6421 - val_loss: 93.5849 - val_mean_squared_error: 115.3717 - val_mean_absolute_error: 8.3222 - val_mean_absolute_percentage_error: 83.2520 - 47ms/epoch - 4ms/step\n",
      "Epoch 55/3500\n",
      "12/12 - 0s - loss: 10.1080 - mean_squared_error: 6.0537 - mean_absolute_error: 1.9182 - mean_absolute_percentage_error: 10.1080 - val_loss: 95.0106 - val_mean_squared_error: 113.7642 - val_mean_absolute_error: 8.3197 - val_mean_absolute_percentage_error: 83.8900 - 46ms/epoch - 4ms/step\n",
      "Epoch 56/3500\n",
      "12/12 - 0s - loss: 10.1366 - mean_squared_error: 6.5919 - mean_absolute_error: 1.9619 - mean_absolute_percentage_error: 10.1366 - val_loss: 93.8791 - val_mean_squared_error: 112.1736 - val_mean_absolute_error: 8.3055 - val_mean_absolute_percentage_error: 82.6090 - 43ms/epoch - 4ms/step\n",
      "Epoch 57/3500\n",
      "12/12 - 0s - loss: 10.7172 - mean_squared_error: 6.7652 - mean_absolute_error: 2.0705 - mean_absolute_percentage_error: 10.7172 - val_loss: 93.6411 - val_mean_squared_error: 115.2900 - val_mean_absolute_error: 8.2846 - val_mean_absolute_percentage_error: 82.9314 - 40ms/epoch - 3ms/step\n",
      "Epoch 58/3500\n",
      "12/12 - 0s - loss: 10.4696 - mean_squared_error: 6.0271 - mean_absolute_error: 1.9194 - mean_absolute_percentage_error: 10.4696 - val_loss: 93.4230 - val_mean_squared_error: 115.2495 - val_mean_absolute_error: 8.3169 - val_mean_absolute_percentage_error: 82.8331 - 50ms/epoch - 4ms/step\n",
      "Epoch 59/3500\n",
      "12/12 - 0s - loss: 10.7495 - mean_squared_error: 6.9985 - mean_absolute_error: 1.9909 - mean_absolute_percentage_error: 10.7495 - val_loss: 94.2822 - val_mean_squared_error: 113.3793 - val_mean_absolute_error: 8.3905 - val_mean_absolute_percentage_error: 83.1734 - 54ms/epoch - 5ms/step\n",
      "Epoch 60/3500\n",
      "12/12 - 0s - loss: 9.5545 - mean_squared_error: 6.7445 - mean_absolute_error: 1.8880 - mean_absolute_percentage_error: 9.5545 - val_loss: 91.9258 - val_mean_squared_error: 113.1441 - val_mean_absolute_error: 8.1806 - val_mean_absolute_percentage_error: 81.4116 - 50ms/epoch - 4ms/step\n",
      "Epoch 61/3500\n",
      "12/12 - 0s - loss: 9.2896 - mean_squared_error: 6.1006 - mean_absolute_error: 1.8273 - mean_absolute_percentage_error: 9.2896 - val_loss: 91.1282 - val_mean_squared_error: 114.1832 - val_mean_absolute_error: 8.1761 - val_mean_absolute_percentage_error: 81.3570 - 46ms/epoch - 4ms/step\n",
      "Epoch 62/3500\n",
      "12/12 - 0s - loss: 9.5686 - mean_squared_error: 6.4828 - mean_absolute_error: 1.8888 - mean_absolute_percentage_error: 9.5686 - val_loss: 89.2714 - val_mean_squared_error: 107.0405 - val_mean_absolute_error: 8.0244 - val_mean_absolute_percentage_error: 79.1351 - 52ms/epoch - 4ms/step\n",
      "Epoch 63/3500\n",
      "12/12 - 0s - loss: 10.0864 - mean_squared_error: 6.0194 - mean_absolute_error: 1.9087 - mean_absolute_percentage_error: 10.0864 - val_loss: 92.3694 - val_mean_squared_error: 110.7289 - val_mean_absolute_error: 8.3257 - val_mean_absolute_percentage_error: 81.7479 - 40ms/epoch - 3ms/step\n",
      "Epoch 64/3500\n",
      "12/12 - 0s - loss: 8.9972 - mean_squared_error: 5.8175 - mean_absolute_error: 1.6910 - mean_absolute_percentage_error: 8.9972 - val_loss: 87.4328 - val_mean_squared_error: 102.7816 - val_mean_absolute_error: 7.9334 - val_mean_absolute_percentage_error: 77.6285 - 45ms/epoch - 4ms/step\n",
      "Epoch 65/3500\n",
      "12/12 - 0s - loss: 8.9483 - mean_squared_error: 5.9549 - mean_absolute_error: 1.7366 - mean_absolute_percentage_error: 8.9483 - val_loss: 88.2432 - val_mean_squared_error: 105.5658 - val_mean_absolute_error: 7.9073 - val_mean_absolute_percentage_error: 78.7076 - 41ms/epoch - 3ms/step\n",
      "Epoch 66/3500\n",
      "12/12 - 0s - loss: 9.4151 - mean_squared_error: 6.6765 - mean_absolute_error: 1.8804 - mean_absolute_percentage_error: 9.4151 - val_loss: 87.2970 - val_mean_squared_error: 111.8930 - val_mean_absolute_error: 7.9718 - val_mean_absolute_percentage_error: 78.5587 - 43ms/epoch - 4ms/step\n",
      "Epoch 67/3500\n",
      "12/12 - 0s - loss: 9.1135 - mean_squared_error: 5.8584 - mean_absolute_error: 1.7794 - mean_absolute_percentage_error: 9.1135 - val_loss: 87.3864 - val_mean_squared_error: 105.8789 - val_mean_absolute_error: 7.9534 - val_mean_absolute_percentage_error: 77.9522 - 44ms/epoch - 4ms/step\n",
      "Epoch 68/3500\n",
      "12/12 - 0s - loss: 9.6652 - mean_squared_error: 6.1631 - mean_absolute_error: 1.8432 - mean_absolute_percentage_error: 9.6652 - val_loss: 90.4912 - val_mean_squared_error: 106.7721 - val_mean_absolute_error: 8.1496 - val_mean_absolute_percentage_error: 79.6311 - 59ms/epoch - 5ms/step\n",
      "Epoch 69/3500\n",
      "12/12 - 0s - loss: 8.7333 - mean_squared_error: 5.7206 - mean_absolute_error: 1.6997 - mean_absolute_percentage_error: 8.7333 - val_loss: 88.3875 - val_mean_squared_error: 108.2513 - val_mean_absolute_error: 8.1249 - val_mean_absolute_percentage_error: 78.7996 - 59ms/epoch - 5ms/step\n",
      "Epoch 70/3500\n",
      "12/12 - 0s - loss: 8.3025 - mean_squared_error: 5.4491 - mean_absolute_error: 1.6037 - mean_absolute_percentage_error: 8.3025 - val_loss: 91.3714 - val_mean_squared_error: 109.3081 - val_mean_absolute_error: 8.3862 - val_mean_absolute_percentage_error: 80.3281 - 57ms/epoch - 5ms/step\n",
      "Epoch 71/3500\n",
      "12/12 - 0s - loss: 8.8983 - mean_squared_error: 6.1662 - mean_absolute_error: 1.7598 - mean_absolute_percentage_error: 8.8983 - val_loss: 86.4817 - val_mean_squared_error: 104.5717 - val_mean_absolute_error: 7.9319 - val_mean_absolute_percentage_error: 77.1581 - 52ms/epoch - 4ms/step\n",
      "Epoch 72/3500\n",
      "12/12 - 0s - loss: 9.4557 - mean_squared_error: 6.4006 - mean_absolute_error: 1.8219 - mean_absolute_percentage_error: 9.4557 - val_loss: 84.0944 - val_mean_squared_error: 102.4876 - val_mean_absolute_error: 7.7534 - val_mean_absolute_percentage_error: 75.4065 - 50ms/epoch - 4ms/step\n",
      "Epoch 73/3500\n",
      "12/12 - 0s - loss: 8.4194 - mean_squared_error: 5.7815 - mean_absolute_error: 1.6473 - mean_absolute_percentage_error: 8.4194 - val_loss: 86.1723 - val_mean_squared_error: 101.6198 - val_mean_absolute_error: 8.0340 - val_mean_absolute_percentage_error: 76.8553 - 55ms/epoch - 5ms/step\n",
      "Epoch 74/3500\n",
      "12/12 - 0s - loss: 8.3403 - mean_squared_error: 5.8194 - mean_absolute_error: 1.6667 - mean_absolute_percentage_error: 8.3403 - val_loss: 85.4623 - val_mean_squared_error: 101.1592 - val_mean_absolute_error: 8.0335 - val_mean_absolute_percentage_error: 75.9055 - 50ms/epoch - 4ms/step\n",
      "Epoch 75/3500\n",
      "12/12 - 0s - loss: 8.6692 - mean_squared_error: 5.6593 - mean_absolute_error: 1.6779 - mean_absolute_percentage_error: 8.6692 - val_loss: 85.7764 - val_mean_squared_error: 104.7732 - val_mean_absolute_error: 7.9699 - val_mean_absolute_percentage_error: 76.7020 - 53ms/epoch - 4ms/step\n",
      "Epoch 76/3500\n",
      "12/12 - 0s - loss: 8.6840 - mean_squared_error: 5.6718 - mean_absolute_error: 1.6942 - mean_absolute_percentage_error: 8.6840 - val_loss: 89.1070 - val_mean_squared_error: 103.1514 - val_mean_absolute_error: 8.2652 - val_mean_absolute_percentage_error: 78.1747 - 49ms/epoch - 4ms/step\n",
      "Epoch 77/3500\n",
      "12/12 - 0s - loss: 8.0693 - mean_squared_error: 5.2928 - mean_absolute_error: 1.6164 - mean_absolute_percentage_error: 8.0693 - val_loss: 86.1767 - val_mean_squared_error: 101.6221 - val_mean_absolute_error: 8.1133 - val_mean_absolute_percentage_error: 76.5088 - 46ms/epoch - 4ms/step\n",
      "Epoch 78/3500\n",
      "12/12 - 0s - loss: 8.3768 - mean_squared_error: 5.7149 - mean_absolute_error: 1.6242 - mean_absolute_percentage_error: 8.3768 - val_loss: 86.1205 - val_mean_squared_error: 106.1919 - val_mean_absolute_error: 8.0099 - val_mean_absolute_percentage_error: 76.7758 - 56ms/epoch - 5ms/step\n",
      "Epoch 79/3500\n",
      "12/12 - 0s - loss: 7.6469 - mean_squared_error: 4.8702 - mean_absolute_error: 1.4777 - mean_absolute_percentage_error: 7.6469 - val_loss: 89.1022 - val_mean_squared_error: 101.5411 - val_mean_absolute_error: 8.3166 - val_mean_absolute_percentage_error: 77.5864 - 44ms/epoch - 4ms/step\n",
      "Epoch 80/3500\n",
      "12/12 - 0s - loss: 8.6863 - mean_squared_error: 5.6361 - mean_absolute_error: 1.7144 - mean_absolute_percentage_error: 8.6863 - val_loss: 85.8730 - val_mean_squared_error: 100.9105 - val_mean_absolute_error: 8.0518 - val_mean_absolute_percentage_error: 76.1604 - 52ms/epoch - 4ms/step\n",
      "Epoch 81/3500\n",
      "12/12 - 0s - loss: 7.8084 - mean_squared_error: 4.9005 - mean_absolute_error: 1.5063 - mean_absolute_percentage_error: 7.8084 - val_loss: 85.1348 - val_mean_squared_error: 94.9331 - val_mean_absolute_error: 7.9354 - val_mean_absolute_percentage_error: 74.8683 - 62ms/epoch - 5ms/step\n",
      "Epoch 82/3500\n",
      "12/12 - 0s - loss: 8.1780 - mean_squared_error: 4.9434 - mean_absolute_error: 1.5263 - mean_absolute_percentage_error: 8.1780 - val_loss: 85.0351 - val_mean_squared_error: 95.1871 - val_mean_absolute_error: 7.9932 - val_mean_absolute_percentage_error: 74.8969 - 44ms/epoch - 4ms/step\n",
      "Epoch 83/3500\n",
      "12/12 - 0s - loss: 7.9458 - mean_squared_error: 5.0567 - mean_absolute_error: 1.4761 - mean_absolute_percentage_error: 7.9458 - val_loss: 84.8090 - val_mean_squared_error: 100.2790 - val_mean_absolute_error: 8.0267 - val_mean_absolute_percentage_error: 75.5100 - 61ms/epoch - 5ms/step\n",
      "Epoch 84/3500\n",
      "12/12 - 0s - loss: 8.4315 - mean_squared_error: 5.0443 - mean_absolute_error: 1.5466 - mean_absolute_percentage_error: 8.4315 - val_loss: 84.3065 - val_mean_squared_error: 99.0712 - val_mean_absolute_error: 8.1161 - val_mean_absolute_percentage_error: 75.0729 - 63ms/epoch - 5ms/step\n",
      "Epoch 85/3500\n",
      "12/12 - 0s - loss: 7.6612 - mean_squared_error: 5.3356 - mean_absolute_error: 1.5174 - mean_absolute_percentage_error: 7.6612 - val_loss: 86.1464 - val_mean_squared_error: 98.8904 - val_mean_absolute_error: 8.1019 - val_mean_absolute_percentage_error: 75.7928 - 56ms/epoch - 5ms/step\n",
      "Epoch 86/3500\n",
      "12/12 - 0s - loss: 7.7292 - mean_squared_error: 4.5581 - mean_absolute_error: 1.4370 - mean_absolute_percentage_error: 7.7292 - val_loss: 79.4670 - val_mean_squared_error: 91.1227 - val_mean_absolute_error: 7.7485 - val_mean_absolute_percentage_error: 71.4308 - 55ms/epoch - 5ms/step\n",
      "Epoch 87/3500\n",
      "12/12 - 0s - loss: 8.1116 - mean_squared_error: 5.0930 - mean_absolute_error: 1.6077 - mean_absolute_percentage_error: 8.1116 - val_loss: 86.0589 - val_mean_squared_error: 99.6046 - val_mean_absolute_error: 8.3179 - val_mean_absolute_percentage_error: 76.0898 - 61ms/epoch - 5ms/step\n",
      "Epoch 88/3500\n",
      "12/12 - 0s - loss: 7.6049 - mean_squared_error: 4.9377 - mean_absolute_error: 1.4766 - mean_absolute_percentage_error: 7.6049 - val_loss: 83.9886 - val_mean_squared_error: 98.8658 - val_mean_absolute_error: 8.0602 - val_mean_absolute_percentage_error: 74.5174 - 55ms/epoch - 5ms/step\n",
      "Epoch 89/3500\n",
      "12/12 - 0s - loss: 7.7978 - mean_squared_error: 5.1168 - mean_absolute_error: 1.5342 - mean_absolute_percentage_error: 7.7978 - val_loss: 86.6076 - val_mean_squared_error: 102.1252 - val_mean_absolute_error: 8.3527 - val_mean_absolute_percentage_error: 76.6364 - 52ms/epoch - 4ms/step\n",
      "Epoch 90/3500\n",
      "12/12 - 0s - loss: 7.3475 - mean_squared_error: 5.3410 - mean_absolute_error: 1.4351 - mean_absolute_percentage_error: 7.3475 - val_loss: 85.7850 - val_mean_squared_error: 99.8164 - val_mean_absolute_error: 8.2532 - val_mean_absolute_percentage_error: 75.8190 - 53ms/epoch - 4ms/step\n",
      "Epoch 91/3500\n",
      "12/12 - 0s - loss: 7.3193 - mean_squared_error: 5.2101 - mean_absolute_error: 1.3876 - mean_absolute_percentage_error: 7.3193 - val_loss: 84.5956 - val_mean_squared_error: 98.6765 - val_mean_absolute_error: 8.2242 - val_mean_absolute_percentage_error: 75.4019 - 55ms/epoch - 5ms/step\n",
      "Epoch 92/3500\n",
      "12/12 - 0s - loss: 8.5059 - mean_squared_error: 6.0274 - mean_absolute_error: 1.6173 - mean_absolute_percentage_error: 8.5059 - val_loss: 85.1009 - val_mean_squared_error: 99.9157 - val_mean_absolute_error: 8.2081 - val_mean_absolute_percentage_error: 75.4052 - 57ms/epoch - 5ms/step\n",
      "Epoch 93/3500\n",
      "12/12 - 0s - loss: 7.0482 - mean_squared_error: 5.0267 - mean_absolute_error: 1.3796 - mean_absolute_percentage_error: 7.0482 - val_loss: 85.2406 - val_mean_squared_error: 103.1399 - val_mean_absolute_error: 8.3361 - val_mean_absolute_percentage_error: 75.6761 - 72ms/epoch - 6ms/step\n",
      "Epoch 94/3500\n",
      "12/12 - 0s - loss: 7.1632 - mean_squared_error: 5.1171 - mean_absolute_error: 1.3813 - mean_absolute_percentage_error: 7.1632 - val_loss: 84.4212 - val_mean_squared_error: 98.5093 - val_mean_absolute_error: 8.1879 - val_mean_absolute_percentage_error: 74.8341 - 47ms/epoch - 4ms/step\n",
      "Epoch 95/3500\n",
      "12/12 - 0s - loss: 7.1945 - mean_squared_error: 4.3135 - mean_absolute_error: 1.3454 - mean_absolute_percentage_error: 7.1945 - val_loss: 80.6866 - val_mean_squared_error: 90.4304 - val_mean_absolute_error: 7.9110 - val_mean_absolute_percentage_error: 71.8238 - 53ms/epoch - 4ms/step\n",
      "Epoch 96/3500\n",
      "12/12 - 0s - loss: 7.6010 - mean_squared_error: 4.8403 - mean_absolute_error: 1.4734 - mean_absolute_percentage_error: 7.6010 - val_loss: 80.8779 - val_mean_squared_error: 96.9155 - val_mean_absolute_error: 7.9564 - val_mean_absolute_percentage_error: 72.6323 - 48ms/epoch - 4ms/step\n",
      "Epoch 97/3500\n",
      "12/12 - 0s - loss: 7.2154 - mean_squared_error: 4.9034 - mean_absolute_error: 1.3944 - mean_absolute_percentage_error: 7.2154 - val_loss: 84.6002 - val_mean_squared_error: 97.5145 - val_mean_absolute_error: 8.1581 - val_mean_absolute_percentage_error: 74.6739 - 49ms/epoch - 4ms/step\n",
      "Epoch 98/3500\n",
      "12/12 - 0s - loss: 7.6384 - mean_squared_error: 5.1187 - mean_absolute_error: 1.4890 - mean_absolute_percentage_error: 7.6384 - val_loss: 87.0168 - val_mean_squared_error: 104.3896 - val_mean_absolute_error: 8.3553 - val_mean_absolute_percentage_error: 76.8815 - 48ms/epoch - 4ms/step\n",
      "Epoch 99/3500\n",
      "12/12 - 0s - loss: 6.8723 - mean_squared_error: 4.6183 - mean_absolute_error: 1.3435 - mean_absolute_percentage_error: 6.8723 - val_loss: 84.1626 - val_mean_squared_error: 99.7827 - val_mean_absolute_error: 8.1258 - val_mean_absolute_percentage_error: 74.4216 - 56ms/epoch - 5ms/step\n",
      "Epoch 100/3500\n",
      "12/12 - 0s - loss: 7.1818 - mean_squared_error: 4.6374 - mean_absolute_error: 1.3874 - mean_absolute_percentage_error: 7.1818 - val_loss: 85.5762 - val_mean_squared_error: 100.4416 - val_mean_absolute_error: 8.1587 - val_mean_absolute_percentage_error: 75.3932 - 53ms/epoch - 4ms/step\n",
      "Epoch 101/3500\n",
      "12/12 - 0s - loss: 6.8852 - mean_squared_error: 4.7026 - mean_absolute_error: 1.3294 - mean_absolute_percentage_error: 6.8852 - val_loss: 84.9218 - val_mean_squared_error: 101.4534 - val_mean_absolute_error: 8.2079 - val_mean_absolute_percentage_error: 75.5131 - 60ms/epoch - 5ms/step\n",
      "Epoch 102/3500\n",
      "12/12 - 0s - loss: 7.2949 - mean_squared_error: 4.7558 - mean_absolute_error: 1.4123 - mean_absolute_percentage_error: 7.2949 - val_loss: 83.8678 - val_mean_squared_error: 96.0382 - val_mean_absolute_error: 8.0869 - val_mean_absolute_percentage_error: 74.0830 - 50ms/epoch - 4ms/step\n",
      "Epoch 103/3500\n",
      "12/12 - 0s - loss: 7.1730 - mean_squared_error: 4.9697 - mean_absolute_error: 1.3901 - mean_absolute_percentage_error: 7.1730 - val_loss: 81.5667 - val_mean_squared_error: 91.9410 - val_mean_absolute_error: 8.0258 - val_mean_absolute_percentage_error: 72.3431 - 64ms/epoch - 5ms/step\n",
      "Epoch 104/3500\n",
      "12/12 - 0s - loss: 7.0528 - mean_squared_error: 4.2606 - mean_absolute_error: 1.3475 - mean_absolute_percentage_error: 7.0528 - val_loss: 77.9881 - val_mean_squared_error: 87.5301 - val_mean_absolute_error: 7.7981 - val_mean_absolute_percentage_error: 69.2390 - 49ms/epoch - 4ms/step\n",
      "Epoch 105/3500\n",
      "12/12 - 0s - loss: 7.2955 - mean_squared_error: 4.8858 - mean_absolute_error: 1.3716 - mean_absolute_percentage_error: 7.2955 - val_loss: 82.5615 - val_mean_squared_error: 91.1609 - val_mean_absolute_error: 8.1374 - val_mean_absolute_percentage_error: 72.4937 - 45ms/epoch - 4ms/step\n",
      "Epoch 106/3500\n",
      "12/12 - 0s - loss: 7.0195 - mean_squared_error: 4.9572 - mean_absolute_error: 1.3881 - mean_absolute_percentage_error: 7.0195 - val_loss: 81.2839 - val_mean_squared_error: 93.5702 - val_mean_absolute_error: 8.0946 - val_mean_absolute_percentage_error: 72.1757 - 54ms/epoch - 4ms/step\n",
      "Epoch 107/3500\n",
      "12/12 - 0s - loss: 6.7717 - mean_squared_error: 5.1700 - mean_absolute_error: 1.2983 - mean_absolute_percentage_error: 6.7717 - val_loss: 78.4209 - val_mean_squared_error: 88.7668 - val_mean_absolute_error: 7.9474 - val_mean_absolute_percentage_error: 69.7614 - 59ms/epoch - 5ms/step\n",
      "Epoch 108/3500\n",
      "12/12 - 0s - loss: 7.0358 - mean_squared_error: 4.8755 - mean_absolute_error: 1.3536 - mean_absolute_percentage_error: 7.0358 - val_loss: 84.0756 - val_mean_squared_error: 94.7017 - val_mean_absolute_error: 8.1943 - val_mean_absolute_percentage_error: 73.6394 - 59ms/epoch - 5ms/step\n",
      "Epoch 109/3500\n",
      "12/12 - 0s - loss: 6.6364 - mean_squared_error: 4.4046 - mean_absolute_error: 1.2850 - mean_absolute_percentage_error: 6.6364 - val_loss: 83.0507 - val_mean_squared_error: 93.7986 - val_mean_absolute_error: 8.2236 - val_mean_absolute_percentage_error: 72.9073 - 51ms/epoch - 4ms/step\n",
      "Epoch 110/3500\n",
      "12/12 - 0s - loss: 6.1648 - mean_squared_error: 4.6654 - mean_absolute_error: 1.1872 - mean_absolute_percentage_error: 6.1648 - val_loss: 78.6936 - val_mean_squared_error: 84.5723 - val_mean_absolute_error: 7.8357 - val_mean_absolute_percentage_error: 69.3422 - 50ms/epoch - 4ms/step\n",
      "1/1 [==============================] - 0s 21ms/step - loss: 78.6936 - mean_squared_error: 84.5723 - mean_absolute_error: 7.8357 - mean_absolute_percentage_error: 78.6936\n"
     ]
    }
   ],
   "source": [
    "early_stopping = tf.keras.callbacks.EarlyStopping(monitor='val_loss',\n",
    "                                                    patience=100,\n",
    "                                                    mode='min')\n",
    "callbacks = [early_stopping]\n",
    "\n",
    "history = model.fit(xtrain,ytrain,verbose=2,epochs=3500,\n",
    "                    validation_data=(xval,yval),\n",
    "                    batch_size = 3,\n",
    "                    callbacks=callbacks)  # ,tensorboard,checkpoint]))\n",
    "\n",
    "val_performance = model.evaluate(xval,yval)\n",
    "performance = model.evaluate(xtest,ytest, verbose=0)\n",
    "# print(val_performance[modelName])\n",
    "# print(performance[modelName])"
   ]
  },
  {
   "cell_type": "code",
   "execution_count": 10,
   "metadata": {},
   "outputs": [
    {
     "data": {
      "text/plain": [
       "[<matplotlib.lines.Line2D at 0x7f56c4463f40>]"
      ]
     },
     "execution_count": 10,
     "metadata": {},
     "output_type": "execute_result"
    },
    {
     "data": {
      "image/png": "[encoded data removed]",
      "text/plain": [
       "<Figure size 432x288 with 1 Axes>"
      ]
     },
     "metadata": {
      "needs_background": "light"
     },
     "output_type": "display_data"
    }
   ],
   "source": [
    "plt.plot(history.history['mean_absolute_error'])\n",
    "plt.plot(history.history['val_mean_absolute_error'])\n",
    "# plt.yscale('log')"
   ]
  },
  {
   "cell_type": "code",
   "execution_count": 11,
   "metadata": {},
   "outputs": [
    {
     "name": "stdout",
     "output_type": "stream",
     "text": [
      "2/2 [==============================] - 0s 2ms/step\n",
      "1/1 [==============================] - 0s 21ms/step\n",
      "1/1 [==============================] - 0s 21ms/step\n"
     ]
    },
    {
     "data": {
      "text/plain": [
       "Text(0, 0.5, 'UTS Prediction')"
      ]
     },
     "execution_count": 11,
     "metadata": {},
     "output_type": "execute_result"
    },
    {
     "data": {
      "image/png": "[encoded data removed]",
      "text/plain": [
       "<Figure size 432x288 with 1 Axes>"
      ]
     },
     "metadata": {
      "needs_background": "light"
     },
     "output_type": "display_data"
    }
   ],
   "source": [
    "ypredtr =  model.predict(xtrain).squeeze()\n",
    "ypredts = model.predict(xtest).squeeze()\n",
    "ypredvl = model.predict(xval).squeeze()\n",
    "\n",
    "y = [*ytrain,*ytest,*yval]\n",
    "plt.plot(y,y,'r')\n",
    "plt.plot(ytrain,ypredtr,'bo',label=\"Train\")\n",
    "plt.plot(yval,ypredvl,'ro',label=\"val\")\n",
    "plt.plot(ytest,ypredts,'ko',label = 'Test')\n",
    "plt.legend()\n",
    "plt.xlabel(CASE)\n",
    "plt.ylabel(CASE +' Prediction')"
   ]
  },
  {
   "cell_type": "code",
   "execution_count": 12,
   "metadata": {},
   "outputs": [
    {
     "name": "stdout",
     "output_type": "stream",
     "text": [
      "1/1 [==============================] - 0s 31ms/step - loss: 78.6936 - mean_squared_error: 84.5723 - mean_absolute_error: 7.8357 - mean_absolute_percentage_error: 78.6936\n",
      "1/1 [==============================] - 0s 30ms/step - loss: 39.9140 - mean_squared_error: 39.2050 - mean_absolute_error: 5.1090 - mean_absolute_percentage_error: 39.9140\n",
      "2/2 [==============================] - 0s 2ms/step - loss: 7.5892 - mean_squared_error: 4.6528 - mean_absolute_error: 1.4165 - mean_absolute_percentage_error: 5.0378\n"
     ]
    },
    {
     "data": {
      "text/plain": [
       "[7.589166641235352, 4.652796745300293, 1.4164708852767944, 5.037774562835693]"
      ]
     },
     "execution_count": 12,
     "metadata": {},
     "output_type": "execute_result"
    }
   ],
   "source": [
    "model.evaluate(xval,yval)\n",
    "model.evaluate(xtest,ytest)\n",
    "model.evaluate(xtrain,ytrain)"
   ]
  }
 ],
 "metadata": {
  "kernelspec": {
   "display_name": "Python 3.9.15 ('tf')",
   "language": "python",
   "name": "python3"
  },
  "language_info": {
   "codemirror_mode": {
    "name": "ipython",
    "version": 3
   },
   "file_extension": ".py",
   "mimetype": "text/x-python",
   "name": "python",
   "nbconvert_exporter": "python",
   "pygments_lexer": "ipython3",
   "version": "3.9.15"
  },
  "orig_nbformat": 4,
  "vscode": {
   "interpreter": {
    "hash": "a8477db803d2ebe70aa0971410c968e2c89bebd74bd07aee6f225349be8a6b47"
   }
  }
 },
 "nbformat": 4,
 "nbformat_minor": 2
}
