{
 "cells": [
  {
   "cell_type": "code",
   "execution_count": 98,
   "metadata": {},
   "outputs": [],
   "source": [
    "import os\n",
    "import time\n",
    "from datetime import datetime\n",
    "\n",
    "import IPython\n",
    "import IPython.display\n",
    "\n",
    "import numpy as np\n",
    "from math import *\n",
    "\n",
    "import tensorflow as tf\n",
    "from tensorflow.keras.layers import Input, Dense\n",
    "from tensorflow.keras.callbacks import TensorBoard, ModelCheckpoint\n",
    "\n",
    "import matplotlib.pyplot as plt\n",
    "import pandas as pd\n",
    "import random "
   ]
  },
  {
   "cell_type": "markdown",
   "metadata": {},
   "source": [
    "# Tensorflow"
   ]
  },
  {
   "cell_type": "code",
   "execution_count": 99,
   "metadata": {},
   "outputs": [
    {
     "data": {
      "text/plain": [
       "True"
      ]
     },
     "execution_count": 99,
     "metadata": {},
     "output_type": "execute_result"
    }
   ],
   "source": [
    "gpus = tf.config.experimental.list_physical_devices('GPU')\n",
    "if gpus:\n",
    "    try:\n",
    "        # Currently, memory growth needs to be the same across GPUs\n",
    "        for gpu in gpus:\n",
    "            tf.config.experimental.set_memory_growth(gpu, True)\n",
    "        logical_gpus = tf.config.experimental.list_logical_devices('GPU')\n",
    "        print(len(gpus), \"Physical GPUs,\", len(logical_gpus), \"Logical GPUs\")\n",
    "    except RuntimeError as e:\n",
    "        # Memory growth must be set before GPUs have been initialized\n",
    "        print(e)\n",
    "tf.test.is_built_with_cuda()"
   ]
  },
  {
   "cell_type": "markdown",
   "metadata": {},
   "source": [
    "# Case "
   ]
  },
  {
   "cell_type": "code",
   "execution_count": 100,
   "metadata": {},
   "outputs": [],
   "source": [
    "folders = ['Rough','UTS','Elon']\n",
    "index = 1\n",
    "CASE = folders[index]"
   ]
  },
  {
   "cell_type": "code",
   "execution_count": 101,
   "metadata": {},
   "outputs": [],
   "source": [
    "from prepross import importAndProcess\n",
    "xtrain,xval,xtest,ytrain,yval,ytest = importAndProcess(index)\n",
    "x = pd.concat((xtrain,xtest,xval),axis=0)\n",
    "y = pd.concat((ytrain,ytest,yval),axis=0)"
   ]
  },
  {
   "cell_type": "markdown",
   "metadata": {},
   "source": [
    "# Network"
   ]
  },
  {
   "cell_type": "code",
   "execution_count": 102,
   "metadata": {},
   "outputs": [],
   "source": [
    "# Hyperparameters\n",
    "lossfn = [tf.keras.losses.MeanSquaredError(),tf.keras.losses.MeanAbsolutePercentageError(),tf.keras.losses.MeanAbsoluteError()]\n",
    "lossfn = lossfn[2]\n",
    "optimizer = [tf.keras.optimizers.Adam(learning_rate=i,beta_1=0.09,beta_2=0.9) for i in [5e-2,1e-2,5e-3]]\n",
    "optimizer = optimizer[index]\n",
    "metrics = ['mean_squared_error','mean_absolute_error',tf.keras.losses.MeanAbsolutePercentageError()]"
   ]
  },
  {
   "cell_type": "code",
   "execution_count": 103,
   "metadata": {},
   "outputs": [],
   "source": [
    "# modelArchitecture = [[4,'tanh',1],[5,'relu',1],[1,'linear',1]]\n",
    "# modelArchitecture = [[3,'tanh',1],[4,'tanh',1],[4,'relu',1],[1,'linear',1]]\n",
    "modelArchitecture = [[4,'tanh',1],[9,'relu',1],[1,'linear',1]]\n"
   ]
  },
  {
   "cell_type": "code",
   "execution_count": 104,
   "metadata": {},
   "outputs": [],
   "source": [
    "#Give a random seed\n",
    "tf.random.set_seed(random.randint(1,1000))\n",
    "from networks import create_model"
   ]
  },
  {
   "cell_type": "code",
   "execution_count": 105,
   "metadata": {},
   "outputs": [
    {
     "name": "stdout",
     "output_type": "stream",
     "text": [
      "Model: \"4tanh1_9relu1_1linear1_\"\n",
      "_________________________________________________________________\n",
      " Layer (type)                Output Shape              Param #   \n",
      "=================================================================\n",
      " dense_28 (Dense)            (None, 4)                 36        \n",
      "                                                                 \n",
      " dense_29 (Dense)            (None, 9)                 45        \n",
      "                                                                 \n",
      " dense_30 (Dense)            (None, 1)                 10        \n",
      "                                                                 \n",
      "=================================================================\n",
      "Total params: 91\n",
      "Trainable params: 91\n",
      "Non-trainable params: 0\n",
      "_________________________________________________________________\n"
     ]
    }
   ],
   "source": [
    "# Create a basic model Architecture\n",
    "modelName = ''\n",
    "for u,fn,b in modelArchitecture:\n",
    "    modelName += str(u)+fn+str(b)+'_'\n",
    "# Create Model\n",
    "model = create_model(modelArchitecture,modelName,len(xtrain.columns))\n",
    "# Display the model's architecture\n",
    "model.summary()\n",
    "model.compile(optimizer=optimizer,\n",
    "                loss=lossfn, #tf.keras.losses.MSE\n",
    "                metrics=metrics) #tf.keras.losses.Huber()\n"
   ]
  },
  {
   "cell_type": "code",
   "execution_count": 106,
   "metadata": {},
   "outputs": [
    {
     "name": "stdout",
     "output_type": "stream",
     "text": [
      "Epoch 1/3500\n",
      "4/4 [==============================] - 0s 47ms/step - loss: 20.1352 - mean_squared_error: 479.9515 - mean_absolute_error: 20.1352 - mean_absolute_percentage_error: 99.0249 - val_loss: 19.6785 - val_mean_squared_error: 476.4483 - val_mean_absolute_error: 19.6785 - val_mean_absolute_percentage_error: 97.0629\n",
      "Epoch 2/3500\n",
      "4/4 [==============================] - 0s 11ms/step - loss: 19.8151 - mean_squared_error: 466.7391 - mean_absolute_error: 19.8151 - mean_absolute_percentage_error: 97.1521 - val_loss: 19.4095 - val_mean_squared_error: 466.8009 - val_mean_absolute_error: 19.4095 - val_mean_absolute_percentage_error: 94.7432\n",
      "Epoch 3/3500\n",
      "4/4 [==============================] - 0s 11ms/step - loss: 19.4773 - mean_squared_error: 453.4186 - mean_absolute_error: 19.4773 - mean_absolute_percentage_error: 94.8147 - val_loss: 19.1033 - val_mean_squared_error: 456.0078 - val_mean_absolute_error: 19.1033 - val_mean_absolute_percentage_error: 92.1572\n",
      "Epoch 4/3500\n",
      "4/4 [==============================] - 0s 10ms/step - loss: 19.0828 - mean_squared_error: 437.9992 - mean_absolute_error: 19.0828 - mean_absolute_percentage_error: 93.1640 - val_loss: 18.7578 - val_mean_squared_error: 443.6738 - val_mean_absolute_error: 18.7578 - val_mean_absolute_percentage_error: 89.4043\n",
      "Epoch 5/3500\n",
      "4/4 [==============================] - 0s 11ms/step - loss: 18.5701 - mean_squared_error: 417.6733 - mean_absolute_error: 18.5701 - mean_absolute_percentage_error: 89.7966 - val_loss: 18.3190 - val_mean_squared_error: 428.6151 - val_mean_absolute_error: 18.3190 - val_mean_absolute_percentage_error: 85.8633\n",
      "Epoch 6/3500\n",
      "4/4 [==============================] - 0s 14ms/step - loss: 17.8656 - mean_squared_error: 392.3336 - mean_absolute_error: 17.8656 - mean_absolute_percentage_error: 85.3023 - val_loss: 17.7415 - val_mean_squared_error: 410.6405 - val_mean_absolute_error: 17.7415 - val_mean_absolute_percentage_error: 80.8773\n",
      "Epoch 7/3500\n",
      "4/4 [==============================] - 0s 12ms/step - loss: 16.9698 - mean_squared_error: 361.1122 - mean_absolute_error: 16.9698 - mean_absolute_percentage_error: 79.9310 - val_loss: 17.0668 - val_mean_squared_error: 391.4311 - val_mean_absolute_error: 17.0668 - val_mean_absolute_percentage_error: 74.8024\n",
      "Epoch 8/3500\n",
      "4/4 [==============================] - 0s 11ms/step - loss: 15.9138 - mean_squared_error: 324.9746 - mean_absolute_error: 15.9138 - mean_absolute_percentage_error: 73.1470 - val_loss: 16.4986 - val_mean_squared_error: 369.4746 - val_mean_absolute_error: 16.4986 - val_mean_absolute_percentage_error: 72.4195\n",
      "Epoch 9/3500\n",
      "4/4 [==============================] - 0s 10ms/step - loss: 14.7406 - mean_squared_error: 288.3394 - mean_absolute_error: 14.7406 - mean_absolute_percentage_error: 67.9298 - val_loss: 16.0700 - val_mean_squared_error: 346.2101 - val_mean_absolute_error: 16.0700 - val_mean_absolute_percentage_error: 74.0243\n",
      "Epoch 10/3500\n",
      "4/4 [==============================] - 0s 11ms/step - loss: 13.4063 - mean_squared_error: 249.7336 - mean_absolute_error: 13.4063 - mean_absolute_percentage_error: 59.6055 - val_loss: 15.5124 - val_mean_squared_error: 320.5121 - val_mean_absolute_error: 15.5124 - val_mean_absolute_percentage_error: 75.2079\n",
      "Epoch 11/3500\n",
      "4/4 [==============================] - 0s 12ms/step - loss: 12.0929 - mean_squared_error: 213.7518 - mean_absolute_error: 12.0929 - mean_absolute_percentage_error: 51.9131 - val_loss: 14.8534 - val_mean_squared_error: 293.5513 - val_mean_absolute_error: 14.8534 - val_mean_absolute_percentage_error: 75.7154\n",
      "Epoch 12/3500\n",
      "4/4 [==============================] - 0s 15ms/step - loss: 10.8597 - mean_squared_error: 180.6435 - mean_absolute_error: 10.8597 - mean_absolute_percentage_error: 46.0677 - val_loss: 14.0355 - val_mean_squared_error: 263.0085 - val_mean_absolute_error: 14.0355 - val_mean_absolute_percentage_error: 75.3444\n",
      "Epoch 13/3500\n",
      "4/4 [==============================] - 0s 13ms/step - loss: 9.8262 - mean_squared_error: 151.1025 - mean_absolute_error: 9.8262 - mean_absolute_percentage_error: 42.1706 - val_loss: 13.3096 - val_mean_squared_error: 237.5501 - val_mean_absolute_error: 13.3096 - val_mean_absolute_percentage_error: 75.0064\n",
      "Epoch 14/3500\n",
      "4/4 [==============================] - 0s 11ms/step - loss: 8.9846 - mean_squared_error: 126.6304 - mean_absolute_error: 8.9846 - mean_absolute_percentage_error: 39.8933 - val_loss: 12.7706 - val_mean_squared_error: 219.5054 - val_mean_absolute_error: 12.7706 - val_mean_absolute_percentage_error: 75.3724\n",
      "Epoch 15/3500\n",
      "4/4 [==============================] - 0s 11ms/step - loss: 8.3433 - mean_squared_error: 109.8213 - mean_absolute_error: 8.3433 - mean_absolute_percentage_error: 37.2112 - val_loss: 12.2215 - val_mean_squared_error: 202.3912 - val_mean_absolute_error: 12.2215 - val_mean_absolute_percentage_error: 74.9432\n",
      "Epoch 16/3500\n",
      "4/4 [==============================] - 0s 12ms/step - loss: 7.8362 - mean_squared_error: 95.0803 - mean_absolute_error: 7.8362 - mean_absolute_percentage_error: 36.0557 - val_loss: 11.7202 - val_mean_squared_error: 187.7941 - val_mean_absolute_error: 11.7202 - val_mean_absolute_percentage_error: 75.2468\n",
      "Epoch 17/3500\n",
      "4/4 [==============================] - 0s 12ms/step - loss: 7.3081 - mean_squared_error: 81.2703 - mean_absolute_error: 7.3081 - mean_absolute_percentage_error: 34.9826 - val_loss: 11.2279 - val_mean_squared_error: 174.8469 - val_mean_absolute_error: 11.2279 - val_mean_absolute_percentage_error: 74.8809\n",
      "Epoch 18/3500\n",
      "4/4 [==============================] - 0s 11ms/step - loss: 6.9355 - mean_squared_error: 72.5957 - mean_absolute_error: 6.9355 - mean_absolute_percentage_error: 32.0074 - val_loss: 10.4745 - val_mean_squared_error: 156.7302 - val_mean_absolute_error: 10.4745 - val_mean_absolute_percentage_error: 73.1828\n",
      "Epoch 19/3500\n",
      "4/4 [==============================] - 0s 12ms/step - loss: 6.6602 - mean_squared_error: 64.1784 - mean_absolute_error: 6.6602 - mean_absolute_percentage_error: 33.4790 - val_loss: 10.2472 - val_mean_squared_error: 150.3132 - val_mean_absolute_error: 10.2472 - val_mean_absolute_percentage_error: 73.5321\n",
      "Epoch 20/3500\n",
      "4/4 [==============================] - 0s 11ms/step - loss: 6.4366 - mean_squared_error: 57.9665 - mean_absolute_error: 6.4366 - mean_absolute_percentage_error: 32.8446 - val_loss: 9.8796 - val_mean_squared_error: 142.1319 - val_mean_absolute_error: 9.8796 - val_mean_absolute_percentage_error: 73.4568\n",
      "Epoch 21/3500\n",
      "4/4 [==============================] - 0s 11ms/step - loss: 6.2158 - mean_squared_error: 53.2765 - mean_absolute_error: 6.2158 - mean_absolute_percentage_error: 31.4581 - val_loss: 9.4783 - val_mean_squared_error: 134.3249 - val_mean_absolute_error: 9.4783 - val_mean_absolute_percentage_error: 73.8226\n",
      "Epoch 22/3500\n",
      "4/4 [==============================] - 0s 11ms/step - loss: 5.9013 - mean_squared_error: 46.8633 - mean_absolute_error: 5.9013 - mean_absolute_percentage_error: 32.5064 - val_loss: 9.1329 - val_mean_squared_error: 127.9786 - val_mean_absolute_error: 9.1329 - val_mean_absolute_percentage_error: 74.1091\n",
      "Epoch 23/3500\n",
      "4/4 [==============================] - 0s 12ms/step - loss: 5.6029 - mean_squared_error: 41.9617 - mean_absolute_error: 5.6029 - mean_absolute_percentage_error: 33.7460 - val_loss: 8.6241 - val_mean_squared_error: 117.5041 - val_mean_absolute_error: 8.6241 - val_mean_absolute_percentage_error: 71.7728\n",
      "Epoch 24/3500\n",
      "4/4 [==============================] - 0s 10ms/step - loss: 5.3019 - mean_squared_error: 38.3371 - mean_absolute_error: 5.3019 - mean_absolute_percentage_error: 29.9441 - val_loss: 8.5762 - val_mean_squared_error: 112.3077 - val_mean_absolute_error: 8.5762 - val_mean_absolute_percentage_error: 71.5678\n",
      "Epoch 25/3500\n",
      "4/4 [==============================] - 0s 10ms/step - loss: 5.0575 - mean_squared_error: 35.5465 - mean_absolute_error: 5.0575 - mean_absolute_percentage_error: 30.1583 - val_loss: 8.2778 - val_mean_squared_error: 102.8016 - val_mean_absolute_error: 8.2778 - val_mean_absolute_percentage_error: 70.5625\n",
      "Epoch 26/3500\n",
      "4/4 [==============================] - 0s 10ms/step - loss: 4.7535 - mean_squared_error: 33.0142 - mean_absolute_error: 4.7535 - mean_absolute_percentage_error: 30.4100 - val_loss: 8.2570 - val_mean_squared_error: 98.3682 - val_mean_absolute_error: 8.2570 - val_mean_absolute_percentage_error: 70.2832\n",
      "Epoch 27/3500\n",
      "4/4 [==============================] - 0s 12ms/step - loss: 4.5571 - mean_squared_error: 32.9931 - mean_absolute_error: 4.5571 - mean_absolute_percentage_error: 28.5988 - val_loss: 8.1159 - val_mean_squared_error: 94.0622 - val_mean_absolute_error: 8.1159 - val_mean_absolute_percentage_error: 66.9340\n",
      "Epoch 28/3500\n",
      "4/4 [==============================] - 0s 12ms/step - loss: 4.3067 - mean_squared_error: 28.2042 - mean_absolute_error: 4.3067 - mean_absolute_percentage_error: 25.9481 - val_loss: 7.8631 - val_mean_squared_error: 86.4846 - val_mean_absolute_error: 7.8631 - val_mean_absolute_percentage_error: 65.2031\n",
      "Epoch 29/3500\n",
      "4/4 [==============================] - 0s 12ms/step - loss: 4.2091 - mean_squared_error: 27.5948 - mean_absolute_error: 4.2091 - mean_absolute_percentage_error: 24.8717 - val_loss: 7.7822 - val_mean_squared_error: 83.5167 - val_mean_absolute_error: 7.7822 - val_mean_absolute_percentage_error: 63.5710\n",
      "Epoch 30/3500\n",
      "4/4 [==============================] - 0s 10ms/step - loss: 3.9004 - mean_squared_error: 24.6869 - mean_absolute_error: 3.9004 - mean_absolute_percentage_error: 23.6901 - val_loss: 7.6187 - val_mean_squared_error: 79.8457 - val_mean_absolute_error: 7.6187 - val_mean_absolute_percentage_error: 61.4865\n",
      "Epoch 31/3500\n",
      "4/4 [==============================] - 0s 7ms/step - loss: 3.7595 - mean_squared_error: 23.8070 - mean_absolute_error: 3.7595 - mean_absolute_percentage_error: 25.2000 - val_loss: 7.6882 - val_mean_squared_error: 80.6482 - val_mean_absolute_error: 7.6882 - val_mean_absolute_percentage_error: 59.5022\n",
      "Epoch 32/3500\n",
      "4/4 [==============================] - 0s 10ms/step - loss: 3.6292 - mean_squared_error: 21.7840 - mean_absolute_error: 3.6292 - mean_absolute_percentage_error: 22.1397 - val_loss: 7.6061 - val_mean_squared_error: 76.9672 - val_mean_absolute_error: 7.6061 - val_mean_absolute_percentage_error: 59.0928\n",
      "Epoch 33/3500\n",
      "4/4 [==============================] - 0s 7ms/step - loss: 3.3536 - mean_squared_error: 19.5608 - mean_absolute_error: 3.3536 - mean_absolute_percentage_error: 19.7150 - val_loss: 7.7001 - val_mean_squared_error: 78.3845 - val_mean_absolute_error: 7.7001 - val_mean_absolute_percentage_error: 58.0843\n",
      "Epoch 34/3500\n",
      "4/4 [==============================] - 0s 11ms/step - loss: 3.2987 - mean_squared_error: 19.3479 - mean_absolute_error: 3.2987 - mean_absolute_percentage_error: 19.1156 - val_loss: 7.2464 - val_mean_squared_error: 69.6365 - val_mean_absolute_error: 7.2464 - val_mean_absolute_percentage_error: 55.4761\n",
      "Epoch 35/3500\n",
      "4/4 [==============================] - 0s 11ms/step - loss: 3.0520 - mean_squared_error: 17.9059 - mean_absolute_error: 3.0520 - mean_absolute_percentage_error: 17.3689 - val_loss: 7.2227 - val_mean_squared_error: 69.1556 - val_mean_absolute_error: 7.2227 - val_mean_absolute_percentage_error: 54.1333\n",
      "Epoch 36/3500\n",
      "4/4 [==============================] - 0s 10ms/step - loss: 3.0392 - mean_squared_error: 18.6057 - mean_absolute_error: 3.0392 - mean_absolute_percentage_error: 16.8678 - val_loss: 7.0373 - val_mean_squared_error: 63.3487 - val_mean_absolute_error: 7.0373 - val_mean_absolute_percentage_error: 55.9872\n",
      "Epoch 37/3500\n",
      "4/4 [==============================] - 0s 7ms/step - loss: 2.9620 - mean_squared_error: 16.9952 - mean_absolute_error: 2.9620 - mean_absolute_percentage_error: 16.7317 - val_loss: 7.3277 - val_mean_squared_error: 69.2762 - val_mean_absolute_error: 7.3277 - val_mean_absolute_percentage_error: 54.8030\n",
      "Epoch 38/3500\n",
      "4/4 [==============================] - 0s 6ms/step - loss: 2.9482 - mean_squared_error: 17.1609 - mean_absolute_error: 2.9482 - mean_absolute_percentage_error: 15.8188 - val_loss: 7.1917 - val_mean_squared_error: 67.0346 - val_mean_absolute_error: 7.1917 - val_mean_absolute_percentage_error: 53.9534\n",
      "Epoch 39/3500\n",
      "4/4 [==============================] - 0s 10ms/step - loss: 2.8558 - mean_squared_error: 16.3223 - mean_absolute_error: 2.8558 - mean_absolute_percentage_error: 15.8656 - val_loss: 6.9410 - val_mean_squared_error: 62.7015 - val_mean_absolute_error: 6.9410 - val_mean_absolute_percentage_error: 53.6109\n",
      "Epoch 40/3500\n",
      "4/4 [==============================] - 0s 8ms/step - loss: 2.7916 - mean_squared_error: 16.2629 - mean_absolute_error: 2.7916 - mean_absolute_percentage_error: 14.9810 - val_loss: 7.0562 - val_mean_squared_error: 64.2698 - val_mean_absolute_error: 7.0562 - val_mean_absolute_percentage_error: 53.6043\n",
      "Epoch 41/3500\n",
      "4/4 [==============================] - 0s 7ms/step - loss: 2.7117 - mean_squared_error: 15.3847 - mean_absolute_error: 2.7117 - mean_absolute_percentage_error: 13.7546 - val_loss: 6.9691 - val_mean_squared_error: 61.8791 - val_mean_absolute_error: 6.9691 - val_mean_absolute_percentage_error: 54.4404\n",
      "Epoch 42/3500\n",
      "4/4 [==============================] - 0s 7ms/step - loss: 2.8218 - mean_squared_error: 16.1959 - mean_absolute_error: 2.8218 - mean_absolute_percentage_error: 14.8160 - val_loss: 7.0792 - val_mean_squared_error: 61.5702 - val_mean_absolute_error: 7.0792 - val_mean_absolute_percentage_error: 56.5637\n",
      "Epoch 43/3500\n",
      "4/4 [==============================] - 0s 7ms/step - loss: 2.8475 - mean_squared_error: 15.0506 - mean_absolute_error: 2.8475 - mean_absolute_percentage_error: 15.4219 - val_loss: 7.1724 - val_mean_squared_error: 64.1074 - val_mean_absolute_error: 7.1724 - val_mean_absolute_percentage_error: 56.1338\n",
      "Epoch 44/3500\n",
      "4/4 [==============================] - 0s 7ms/step - loss: 2.6720 - mean_squared_error: 15.0691 - mean_absolute_error: 2.6720 - mean_absolute_percentage_error: 14.5266 - val_loss: 7.2683 - val_mean_squared_error: 65.5733 - val_mean_absolute_error: 7.2683 - val_mean_absolute_percentage_error: 56.5479\n",
      "Epoch 45/3500\n",
      "4/4 [==============================] - 0s 7ms/step - loss: 2.6163 - mean_squared_error: 14.6268 - mean_absolute_error: 2.6163 - mean_absolute_percentage_error: 13.7517 - val_loss: 7.0036 - val_mean_squared_error: 60.8992 - val_mean_absolute_error: 7.0036 - val_mean_absolute_percentage_error: 54.5744\n",
      "Epoch 46/3500\n",
      "4/4 [==============================] - 0s 8ms/step - loss: 2.5927 - mean_squared_error: 14.4358 - mean_absolute_error: 2.5927 - mean_absolute_percentage_error: 14.5722 - val_loss: 7.2981 - val_mean_squared_error: 65.4545 - val_mean_absolute_error: 7.2981 - val_mean_absolute_percentage_error: 55.3321\n",
      "Epoch 47/3500\n",
      "4/4 [==============================] - 0s 7ms/step - loss: 2.6495 - mean_squared_error: 13.7899 - mean_absolute_error: 2.6495 - mean_absolute_percentage_error: 13.6201 - val_loss: 7.2914 - val_mean_squared_error: 65.6510 - val_mean_absolute_error: 7.2914 - val_mean_absolute_percentage_error: 55.4187\n",
      "Epoch 48/3500\n",
      "4/4 [==============================] - 0s 8ms/step - loss: 2.5212 - mean_squared_error: 13.4993 - mean_absolute_error: 2.5212 - mean_absolute_percentage_error: 14.4359 - val_loss: 7.3860 - val_mean_squared_error: 68.0848 - val_mean_absolute_error: 7.3860 - val_mean_absolute_percentage_error: 54.0617\n",
      "Epoch 49/3500\n",
      "4/4 [==============================] - 0s 11ms/step - loss: 2.6306 - mean_squared_error: 14.6646 - mean_absolute_error: 2.6306 - mean_absolute_percentage_error: 13.2653 - val_loss: 6.7786 - val_mean_squared_error: 57.0480 - val_mean_absolute_error: 6.7786 - val_mean_absolute_percentage_error: 53.1305\n",
      "Epoch 50/3500\n",
      "4/4 [==============================] - 0s 9ms/step - loss: 2.5035 - mean_squared_error: 13.1164 - mean_absolute_error: 2.5035 - mean_absolute_percentage_error: 14.3457 - val_loss: 6.8370 - val_mean_squared_error: 57.8978 - val_mean_absolute_error: 6.8370 - val_mean_absolute_percentage_error: 53.4204\n",
      "Epoch 51/3500\n",
      "4/4 [==============================] - 0s 7ms/step - loss: 2.5683 - mean_squared_error: 13.8123 - mean_absolute_error: 2.5683 - mean_absolute_percentage_error: 14.2273 - val_loss: 6.8717 - val_mean_squared_error: 58.3015 - val_mean_absolute_error: 6.8717 - val_mean_absolute_percentage_error: 53.5942\n",
      "Epoch 52/3500\n",
      "4/4 [==============================] - 0s 8ms/step - loss: 2.5389 - mean_squared_error: 13.1718 - mean_absolute_error: 2.5389 - mean_absolute_percentage_error: 14.9083 - val_loss: 6.8830 - val_mean_squared_error: 58.4906 - val_mean_absolute_error: 6.8830 - val_mean_absolute_percentage_error: 53.9024\n",
      "Epoch 53/3500\n",
      "4/4 [==============================] - 0s 8ms/step - loss: 2.5441 - mean_squared_error: 13.6228 - mean_absolute_error: 2.5441 - mean_absolute_percentage_error: 13.0382 - val_loss: 7.1513 - val_mean_squared_error: 62.8711 - val_mean_absolute_error: 7.1513 - val_mean_absolute_percentage_error: 54.3760\n",
      "Epoch 54/3500\n",
      "4/4 [==============================] - 0s 7ms/step - loss: 2.3851 - mean_squared_error: 12.7542 - mean_absolute_error: 2.3851 - mean_absolute_percentage_error: 12.5920 - val_loss: 6.9538 - val_mean_squared_error: 60.1735 - val_mean_absolute_error: 6.9538 - val_mean_absolute_percentage_error: 53.1707\n",
      "Epoch 55/3500\n",
      "4/4 [==============================] - 0s 6ms/step - loss: 2.4106 - mean_squared_error: 12.8659 - mean_absolute_error: 2.4106 - mean_absolute_percentage_error: 13.8177 - val_loss: 6.8940 - val_mean_squared_error: 58.7152 - val_mean_absolute_error: 6.8940 - val_mean_absolute_percentage_error: 53.9980\n",
      "Epoch 56/3500\n",
      "4/4 [==============================] - 0s 6ms/step - loss: 2.4420 - mean_squared_error: 12.3671 - mean_absolute_error: 2.4420 - mean_absolute_percentage_error: 13.4948 - val_loss: 6.7953 - val_mean_squared_error: 57.0042 - val_mean_absolute_error: 6.7953 - val_mean_absolute_percentage_error: 52.5164\n",
      "Epoch 57/3500\n",
      "4/4 [==============================] - 0s 11ms/step - loss: 2.4572 - mean_squared_error: 12.3227 - mean_absolute_error: 2.4572 - mean_absolute_percentage_error: 12.8157 - val_loss: 6.6811 - val_mean_squared_error: 55.1882 - val_mean_absolute_error: 6.6811 - val_mean_absolute_percentage_error: 52.2799\n",
      "Epoch 58/3500\n",
      "4/4 [==============================] - 0s 7ms/step - loss: 2.3524 - mean_squared_error: 11.9334 - mean_absolute_error: 2.3524 - mean_absolute_percentage_error: 12.7167 - val_loss: 6.7162 - val_mean_squared_error: 55.8736 - val_mean_absolute_error: 6.7162 - val_mean_absolute_percentage_error: 52.4182\n",
      "Epoch 59/3500\n",
      "4/4 [==============================] - 0s 11ms/step - loss: 2.3492 - mean_squared_error: 11.8422 - mean_absolute_error: 2.3492 - mean_absolute_percentage_error: 14.3000 - val_loss: 6.2892 - val_mean_squared_error: 50.7736 - val_mean_absolute_error: 6.2892 - val_mean_absolute_percentage_error: 48.0166\n",
      "Epoch 60/3500\n",
      "4/4 [==============================] - 0s 8ms/step - loss: 2.3434 - mean_squared_error: 11.6840 - mean_absolute_error: 2.3434 - mean_absolute_percentage_error: 12.7133 - val_loss: 6.5895 - val_mean_squared_error: 53.8783 - val_mean_absolute_error: 6.5895 - val_mean_absolute_percentage_error: 50.8685\n",
      "Epoch 61/3500\n",
      "4/4 [==============================] - 0s 11ms/step - loss: 2.2816 - mean_squared_error: 11.5961 - mean_absolute_error: 2.2816 - mean_absolute_percentage_error: 13.8116 - val_loss: 6.1713 - val_mean_squared_error: 48.6926 - val_mean_absolute_error: 6.1713 - val_mean_absolute_percentage_error: 48.8717\n",
      "Epoch 62/3500\n",
      "4/4 [==============================] - 0s 11ms/step - loss: 2.3505 - mean_squared_error: 12.1487 - mean_absolute_error: 2.3505 - mean_absolute_percentage_error: 13.0598 - val_loss: 6.1088 - val_mean_squared_error: 47.6065 - val_mean_absolute_error: 6.1088 - val_mean_absolute_percentage_error: 48.8043\n",
      "Epoch 63/3500\n",
      "4/4 [==============================] - 0s 6ms/step - loss: 2.2259 - mean_squared_error: 11.1881 - mean_absolute_error: 2.2259 - mean_absolute_percentage_error: 12.7650 - val_loss: 6.2307 - val_mean_squared_error: 48.9717 - val_mean_absolute_error: 6.2307 - val_mean_absolute_percentage_error: 49.2477\n",
      "Epoch 64/3500\n",
      "4/4 [==============================] - 0s 7ms/step - loss: 2.1490 - mean_squared_error: 10.9227 - mean_absolute_error: 2.1490 - mean_absolute_percentage_error: 12.2757 - val_loss: 6.3926 - val_mean_squared_error: 50.7640 - val_mean_absolute_error: 6.3926 - val_mean_absolute_percentage_error: 50.8494\n",
      "Epoch 65/3500\n",
      "4/4 [==============================] - 0s 10ms/step - loss: 2.1729 - mean_squared_error: 10.2593 - mean_absolute_error: 2.1729 - mean_absolute_percentage_error: 12.2111 - val_loss: 5.9074 - val_mean_squared_error: 45.4591 - val_mean_absolute_error: 5.9074 - val_mean_absolute_percentage_error: 47.7744\n",
      "Epoch 66/3500\n",
      "4/4 [==============================] - 0s 9ms/step - loss: 2.1665 - mean_squared_error: 9.7659 - mean_absolute_error: 2.1665 - mean_absolute_percentage_error: 12.3459 - val_loss: 6.1677 - val_mean_squared_error: 47.7495 - val_mean_absolute_error: 6.1677 - val_mean_absolute_percentage_error: 48.7983\n",
      "Epoch 67/3500\n",
      "4/4 [==============================] - 0s 7ms/step - loss: 2.1700 - mean_squared_error: 10.0248 - mean_absolute_error: 2.1700 - mean_absolute_percentage_error: 13.3360 - val_loss: 6.0745 - val_mean_squared_error: 46.3931 - val_mean_absolute_error: 6.0745 - val_mean_absolute_percentage_error: 48.2905\n",
      "Epoch 68/3500\n",
      "4/4 [==============================] - 0s 19ms/step - loss: 2.0947 - mean_squared_error: 9.8556 - mean_absolute_error: 2.0947 - mean_absolute_percentage_error: 10.6134 - val_loss: 5.6581 - val_mean_squared_error: 41.6170 - val_mean_absolute_error: 5.6581 - val_mean_absolute_percentage_error: 45.7495\n",
      "Epoch 69/3500\n",
      "4/4 [==============================] - 0s 7ms/step - loss: 2.0538 - mean_squared_error: 9.4284 - mean_absolute_error: 2.0538 - mean_absolute_percentage_error: 12.6090 - val_loss: 5.7450 - val_mean_squared_error: 41.7718 - val_mean_absolute_error: 5.7450 - val_mean_absolute_percentage_error: 46.1891\n",
      "Epoch 70/3500\n",
      "4/4 [==============================] - 0s 12ms/step - loss: 2.1180 - mean_squared_error: 9.0944 - mean_absolute_error: 2.1180 - mean_absolute_percentage_error: 11.5817 - val_loss: 5.5912 - val_mean_squared_error: 40.5254 - val_mean_absolute_error: 5.5912 - val_mean_absolute_percentage_error: 45.2836\n",
      "Epoch 71/3500\n",
      "4/4 [==============================] - 0s 11ms/step - loss: 2.0381 - mean_squared_error: 9.0888 - mean_absolute_error: 2.0381 - mean_absolute_percentage_error: 12.0326 - val_loss: 5.2885 - val_mean_squared_error: 38.0018 - val_mean_absolute_error: 5.2885 - val_mean_absolute_percentage_error: 45.3627\n",
      "Epoch 72/3500\n",
      "4/4 [==============================] - 0s 11ms/step - loss: 1.9890 - mean_squared_error: 8.9010 - mean_absolute_error: 1.9890 - mean_absolute_percentage_error: 10.9217 - val_loss: 5.2267 - val_mean_squared_error: 37.4071 - val_mean_absolute_error: 5.2267 - val_mean_absolute_percentage_error: 45.4965\n",
      "Epoch 73/3500\n",
      "4/4 [==============================] - 0s 7ms/step - loss: 2.0113 - mean_squared_error: 8.5725 - mean_absolute_error: 2.0113 - mean_absolute_percentage_error: 11.5211 - val_loss: 5.5349 - val_mean_squared_error: 39.4566 - val_mean_absolute_error: 5.5349 - val_mean_absolute_percentage_error: 46.3996\n",
      "Epoch 74/3500\n",
      "4/4 [==============================] - 0s 13ms/step - loss: 1.9540 - mean_squared_error: 8.0468 - mean_absolute_error: 1.9540 - mean_absolute_percentage_error: 10.9409 - val_loss: 5.1395 - val_mean_squared_error: 37.3341 - val_mean_absolute_error: 5.1395 - val_mean_absolute_percentage_error: 46.9008\n",
      "Epoch 75/3500\n",
      "4/4 [==============================] - 0s 7ms/step - loss: 2.1382 - mean_squared_error: 8.2174 - mean_absolute_error: 2.1382 - mean_absolute_percentage_error: 12.2694 - val_loss: 5.3222 - val_mean_squared_error: 37.9135 - val_mean_absolute_error: 5.3222 - val_mean_absolute_percentage_error: 46.4352\n",
      "Epoch 76/3500\n",
      "4/4 [==============================] - 0s 11ms/step - loss: 1.8935 - mean_squared_error: 7.9514 - mean_absolute_error: 1.8935 - mean_absolute_percentage_error: 10.9042 - val_loss: 4.9086 - val_mean_squared_error: 34.7510 - val_mean_absolute_error: 4.9086 - val_mean_absolute_percentage_error: 43.5752\n",
      "Epoch 77/3500\n",
      "4/4 [==============================] - 0s 7ms/step - loss: 1.9083 - mean_squared_error: 7.5987 - mean_absolute_error: 1.9083 - mean_absolute_percentage_error: 10.2377 - val_loss: 5.2367 - val_mean_squared_error: 36.6916 - val_mean_absolute_error: 5.2367 - val_mean_absolute_percentage_error: 45.1813\n",
      "Epoch 78/3500\n",
      "4/4 [==============================] - 0s 11ms/step - loss: 1.9184 - mean_squared_error: 7.7976 - mean_absolute_error: 1.9184 - mean_absolute_percentage_error: 11.1112 - val_loss: 4.9082 - val_mean_squared_error: 33.6082 - val_mean_absolute_error: 4.9082 - val_mean_absolute_percentage_error: 42.8614\n",
      "Epoch 79/3500\n",
      "4/4 [==============================] - 0s 10ms/step - loss: 1.9178 - mean_squared_error: 7.6409 - mean_absolute_error: 1.9178 - mean_absolute_percentage_error: 10.8182 - val_loss: 4.5353 - val_mean_squared_error: 32.0133 - val_mean_absolute_error: 4.5353 - val_mean_absolute_percentage_error: 43.1525\n",
      "Epoch 80/3500\n",
      "4/4 [==============================] - 0s 6ms/step - loss: 1.8349 - mean_squared_error: 7.3453 - mean_absolute_error: 1.8349 - mean_absolute_percentage_error: 9.6397 - val_loss: 4.9167 - val_mean_squared_error: 33.4380 - val_mean_absolute_error: 4.9167 - val_mean_absolute_percentage_error: 44.3687\n",
      "Epoch 81/3500\n",
      "4/4 [==============================] - 0s 6ms/step - loss: 1.7952 - mean_squared_error: 6.6603 - mean_absolute_error: 1.7952 - mean_absolute_percentage_error: 9.8493 - val_loss: 4.5794 - val_mean_squared_error: 30.4024 - val_mean_absolute_error: 4.5794 - val_mean_absolute_percentage_error: 41.5038\n",
      "Epoch 82/3500\n",
      "4/4 [==============================] - 0s 15ms/step - loss: 1.7288 - mean_squared_error: 6.3017 - mean_absolute_error: 1.7288 - mean_absolute_percentage_error: 9.4539 - val_loss: 4.4654 - val_mean_squared_error: 29.9403 - val_mean_absolute_error: 4.4654 - val_mean_absolute_percentage_error: 41.2767\n",
      "Epoch 83/3500\n",
      "4/4 [==============================] - 0s 8ms/step - loss: 1.6875 - mean_squared_error: 5.7739 - mean_absolute_error: 1.6875 - mean_absolute_percentage_error: 10.6627 - val_loss: 4.8473 - val_mean_squared_error: 31.8138 - val_mean_absolute_error: 4.8473 - val_mean_absolute_percentage_error: 42.9772\n",
      "Epoch 84/3500\n",
      "4/4 [==============================] - 0s 6ms/step - loss: 1.7795 - mean_squared_error: 6.3123 - mean_absolute_error: 1.7795 - mean_absolute_percentage_error: 10.6914 - val_loss: 4.4912 - val_mean_squared_error: 30.5640 - val_mean_absolute_error: 4.4912 - val_mean_absolute_percentage_error: 43.4714\n",
      "Epoch 85/3500\n",
      "4/4 [==============================] - 0s 7ms/step - loss: 1.7544 - mean_squared_error: 6.0977 - mean_absolute_error: 1.7544 - mean_absolute_percentage_error: 10.3477 - val_loss: 4.5471 - val_mean_squared_error: 30.0071 - val_mean_absolute_error: 4.5471 - val_mean_absolute_percentage_error: 42.4314\n",
      "Epoch 86/3500\n",
      "4/4 [==============================] - 0s 7ms/step - loss: 1.7131 - mean_squared_error: 5.6356 - mean_absolute_error: 1.7131 - mean_absolute_percentage_error: 10.0554 - val_loss: 4.6004 - val_mean_squared_error: 29.4991 - val_mean_absolute_error: 4.6004 - val_mean_absolute_percentage_error: 42.1728\n",
      "Epoch 87/3500\n",
      "4/4 [==============================] - 0s 10ms/step - loss: 1.7573 - mean_squared_error: 5.7027 - mean_absolute_error: 1.7573 - mean_absolute_percentage_error: 10.0024 - val_loss: 4.2696 - val_mean_squared_error: 28.7852 - val_mean_absolute_error: 4.2696 - val_mean_absolute_percentage_error: 42.8888\n",
      "Epoch 88/3500\n",
      "4/4 [==============================] - 0s 6ms/step - loss: 1.6388 - mean_squared_error: 5.4876 - mean_absolute_error: 1.6388 - mean_absolute_percentage_error: 9.5426 - val_loss: 4.2707 - val_mean_squared_error: 28.3078 - val_mean_absolute_error: 4.2707 - val_mean_absolute_percentage_error: 41.4353\n",
      "Epoch 89/3500\n",
      "4/4 [==============================] - 0s 11ms/step - loss: 1.6249 - mean_squared_error: 4.9892 - mean_absolute_error: 1.6249 - mean_absolute_percentage_error: 9.6049 - val_loss: 4.2237 - val_mean_squared_error: 27.7351 - val_mean_absolute_error: 4.2237 - val_mean_absolute_percentage_error: 42.1343\n",
      "Epoch 90/3500\n",
      "4/4 [==============================] - 0s 11ms/step - loss: 1.6359 - mean_squared_error: 5.2485 - mean_absolute_error: 1.6359 - mean_absolute_percentage_error: 9.0988 - val_loss: 4.1192 - val_mean_squared_error: 28.3387 - val_mean_absolute_error: 4.1192 - val_mean_absolute_percentage_error: 42.9777\n",
      "Epoch 91/3500\n",
      "4/4 [==============================] - 0s 6ms/step - loss: 1.6452 - mean_squared_error: 5.4285 - mean_absolute_error: 1.6452 - mean_absolute_percentage_error: 10.0426 - val_loss: 4.3002 - val_mean_squared_error: 28.2103 - val_mean_absolute_error: 4.3002 - val_mean_absolute_percentage_error: 42.9869\n",
      "Epoch 92/3500\n",
      "4/4 [==============================] - 0s 11ms/step - loss: 1.5298 - mean_squared_error: 4.7793 - mean_absolute_error: 1.5298 - mean_absolute_percentage_error: 8.3409 - val_loss: 4.0818 - val_mean_squared_error: 26.7246 - val_mean_absolute_error: 4.0818 - val_mean_absolute_percentage_error: 41.5952\n",
      "Epoch 93/3500\n",
      "4/4 [==============================] - 0s 10ms/step - loss: 1.5796 - mean_squared_error: 4.8104 - mean_absolute_error: 1.5796 - mean_absolute_percentage_error: 9.6837 - val_loss: 3.9792 - val_mean_squared_error: 26.6889 - val_mean_absolute_error: 3.9792 - val_mean_absolute_percentage_error: 41.8496\n",
      "Epoch 94/3500\n",
      "4/4 [==============================] - 0s 11ms/step - loss: 1.4499 - mean_squared_error: 4.0679 - mean_absolute_error: 1.4499 - mean_absolute_percentage_error: 9.1908 - val_loss: 3.9764 - val_mean_squared_error: 25.6301 - val_mean_absolute_error: 3.9764 - val_mean_absolute_percentage_error: 41.3433\n",
      "Epoch 95/3500\n",
      "4/4 [==============================] - 0s 12ms/step - loss: 1.4788 - mean_squared_error: 4.1251 - mean_absolute_error: 1.4788 - mean_absolute_percentage_error: 8.9891 - val_loss: 3.8215 - val_mean_squared_error: 25.2654 - val_mean_absolute_error: 3.8215 - val_mean_absolute_percentage_error: 40.9968\n",
      "Epoch 96/3500\n",
      "4/4 [==============================] - 0s 12ms/step - loss: 1.4349 - mean_squared_error: 4.2763 - mean_absolute_error: 1.4349 - mean_absolute_percentage_error: 8.8286 - val_loss: 3.7649 - val_mean_squared_error: 24.2684 - val_mean_absolute_error: 3.7649 - val_mean_absolute_percentage_error: 40.8174\n",
      "Epoch 97/3500\n",
      "4/4 [==============================] - 0s 7ms/step - loss: 1.5510 - mean_squared_error: 4.4211 - mean_absolute_error: 1.5510 - mean_absolute_percentage_error: 9.4553 - val_loss: 3.7965 - val_mean_squared_error: 23.8927 - val_mean_absolute_error: 3.7965 - val_mean_absolute_percentage_error: 40.2210\n",
      "Epoch 98/3500\n",
      "4/4 [==============================] - 0s 7ms/step - loss: 1.4969 - mean_squared_error: 4.3310 - mean_absolute_error: 1.4969 - mean_absolute_percentage_error: 8.8776 - val_loss: 3.9837 - val_mean_squared_error: 24.3285 - val_mean_absolute_error: 3.9837 - val_mean_absolute_percentage_error: 40.4155\n",
      "Epoch 99/3500\n",
      "4/4 [==============================] - 0s 24ms/step - loss: 1.4638 - mean_squared_error: 4.2141 - mean_absolute_error: 1.4638 - mean_absolute_percentage_error: 9.6219 - val_loss: 3.6070 - val_mean_squared_error: 23.7677 - val_mean_absolute_error: 3.6070 - val_mean_absolute_percentage_error: 39.7245\n",
      "Epoch 100/3500\n",
      "4/4 [==============================] - 0s 8ms/step - loss: 1.4010 - mean_squared_error: 4.0431 - mean_absolute_error: 1.4010 - mean_absolute_percentage_error: 8.1749 - val_loss: 3.8619 - val_mean_squared_error: 24.5411 - val_mean_absolute_error: 3.8619 - val_mean_absolute_percentage_error: 41.5278\n",
      "Epoch 101/3500\n",
      "4/4 [==============================] - 0s 7ms/step - loss: 1.4646 - mean_squared_error: 4.2480 - mean_absolute_error: 1.4646 - mean_absolute_percentage_error: 8.6493 - val_loss: 3.7664 - val_mean_squared_error: 22.1503 - val_mean_absolute_error: 3.7664 - val_mean_absolute_percentage_error: 39.1757\n",
      "Epoch 102/3500\n",
      "4/4 [==============================] - 0s 7ms/step - loss: 1.4593 - mean_squared_error: 4.2318 - mean_absolute_error: 1.4593 - mean_absolute_percentage_error: 8.8235 - val_loss: 3.9362 - val_mean_squared_error: 24.4435 - val_mean_absolute_error: 3.9362 - val_mean_absolute_percentage_error: 41.8694\n",
      "Epoch 103/3500\n",
      "4/4 [==============================] - 0s 11ms/step - loss: 1.4263 - mean_squared_error: 4.1528 - mean_absolute_error: 1.4263 - mean_absolute_percentage_error: 7.7197 - val_loss: 3.4756 - val_mean_squared_error: 22.7792 - val_mean_absolute_error: 3.4756 - val_mean_absolute_percentage_error: 38.9428\n",
      "Epoch 104/3500\n",
      "4/4 [==============================] - 0s 6ms/step - loss: 1.4391 - mean_squared_error: 3.9001 - mean_absolute_error: 1.4391 - mean_absolute_percentage_error: 9.4467 - val_loss: 3.9109 - val_mean_squared_error: 22.7695 - val_mean_absolute_error: 3.9109 - val_mean_absolute_percentage_error: 40.8305\n",
      "Epoch 105/3500\n",
      "4/4 [==============================] - 0s 6ms/step - loss: 1.4945 - mean_squared_error: 3.9457 - mean_absolute_error: 1.4945 - mean_absolute_percentage_error: 8.9749 - val_loss: 3.7508 - val_mean_squared_error: 22.2029 - val_mean_absolute_error: 3.7508 - val_mean_absolute_percentage_error: 40.1377\n",
      "Epoch 106/3500\n",
      "4/4 [==============================] - 0s 7ms/step - loss: 1.3790 - mean_squared_error: 3.6176 - mean_absolute_error: 1.3790 - mean_absolute_percentage_error: 8.1629 - val_loss: 3.5560 - val_mean_squared_error: 21.6812 - val_mean_absolute_error: 3.5560 - val_mean_absolute_percentage_error: 39.2096\n",
      "Epoch 107/3500\n",
      "4/4 [==============================] - 0s 7ms/step - loss: 1.4315 - mean_squared_error: 4.0865 - mean_absolute_error: 1.4315 - mean_absolute_percentage_error: 9.4660 - val_loss: 3.6322 - val_mean_squared_error: 23.0856 - val_mean_absolute_error: 3.6322 - val_mean_absolute_percentage_error: 40.9796\n",
      "Epoch 108/3500\n",
      "4/4 [==============================] - 0s 6ms/step - loss: 1.4291 - mean_squared_error: 3.4136 - mean_absolute_error: 1.4291 - mean_absolute_percentage_error: 9.0315 - val_loss: 3.6747 - val_mean_squared_error: 23.4862 - val_mean_absolute_error: 3.6747 - val_mean_absolute_percentage_error: 41.5088\n",
      "Epoch 109/3500\n",
      "4/4 [==============================] - 0s 7ms/step - loss: 1.3515 - mean_squared_error: 3.4322 - mean_absolute_error: 1.3515 - mean_absolute_percentage_error: 8.2683 - val_loss: 3.6867 - val_mean_squared_error: 23.1603 - val_mean_absolute_error: 3.6867 - val_mean_absolute_percentage_error: 41.8529\n",
      "Epoch 110/3500\n",
      "4/4 [==============================] - 0s 7ms/step - loss: 1.3395 - mean_squared_error: 3.4399 - mean_absolute_error: 1.3395 - mean_absolute_percentage_error: 8.5910 - val_loss: 3.6479 - val_mean_squared_error: 21.5517 - val_mean_absolute_error: 3.6479 - val_mean_absolute_percentage_error: 39.8583\n",
      "Epoch 111/3500\n",
      "4/4 [==============================] - 0s 12ms/step - loss: 1.3456 - mean_squared_error: 3.3655 - mean_absolute_error: 1.3456 - mean_absolute_percentage_error: 7.3451 - val_loss: 3.3199 - val_mean_squared_error: 24.9429 - val_mean_absolute_error: 3.3199 - val_mean_absolute_percentage_error: 41.8335\n",
      "Epoch 112/3500\n",
      "4/4 [==============================] - 0s 7ms/step - loss: 1.4073 - mean_squared_error: 3.6095 - mean_absolute_error: 1.4073 - mean_absolute_percentage_error: 8.2947 - val_loss: 3.8339 - val_mean_squared_error: 23.0879 - val_mean_absolute_error: 3.8339 - val_mean_absolute_percentage_error: 42.5601\n",
      "Epoch 113/3500\n",
      "4/4 [==============================] - 0s 7ms/step - loss: 1.3192 - mean_squared_error: 3.4131 - mean_absolute_error: 1.3192 - mean_absolute_percentage_error: 7.7136 - val_loss: 3.7530 - val_mean_squared_error: 24.1983 - val_mean_absolute_error: 3.7530 - val_mean_absolute_percentage_error: 43.4468\n",
      "Epoch 114/3500\n",
      "4/4 [==============================] - 0s 9ms/step - loss: 1.3232 - mean_squared_error: 3.1773 - mean_absolute_error: 1.3232 - mean_absolute_percentage_error: 8.1540 - val_loss: 3.8008 - val_mean_squared_error: 23.3212 - val_mean_absolute_error: 3.8008 - val_mean_absolute_percentage_error: 42.5548\n",
      "Epoch 115/3500\n",
      "4/4 [==============================] - 0s 7ms/step - loss: 1.2782 - mean_squared_error: 3.1745 - mean_absolute_error: 1.2782 - mean_absolute_percentage_error: 7.5867 - val_loss: 3.7974 - val_mean_squared_error: 23.6061 - val_mean_absolute_error: 3.7974 - val_mean_absolute_percentage_error: 42.8871\n",
      "Epoch 116/3500\n",
      "4/4 [==============================] - 0s 7ms/step - loss: 1.3238 - mean_squared_error: 3.1524 - mean_absolute_error: 1.3238 - mean_absolute_percentage_error: 8.2450 - val_loss: 3.8049 - val_mean_squared_error: 22.2680 - val_mean_absolute_error: 3.8049 - val_mean_absolute_percentage_error: 42.2324\n",
      "Epoch 117/3500\n",
      "4/4 [==============================] - 0s 6ms/step - loss: 1.2364 - mean_squared_error: 3.0116 - mean_absolute_error: 1.2364 - mean_absolute_percentage_error: 7.3721 - val_loss: 3.5497 - val_mean_squared_error: 22.7675 - val_mean_absolute_error: 3.5497 - val_mean_absolute_percentage_error: 41.5439\n",
      "Epoch 118/3500\n",
      "4/4 [==============================] - 0s 7ms/step - loss: 1.3877 - mean_squared_error: 3.5478 - mean_absolute_error: 1.3877 - mean_absolute_percentage_error: 8.4184 - val_loss: 3.9347 - val_mean_squared_error: 23.1563 - val_mean_absolute_error: 3.9347 - val_mean_absolute_percentage_error: 43.0129\n",
      "Epoch 119/3500\n",
      "4/4 [==============================] - 0s 7ms/step - loss: 1.3118 - mean_squared_error: 3.1463 - mean_absolute_error: 1.3118 - mean_absolute_percentage_error: 8.3807 - val_loss: 3.5270 - val_mean_squared_error: 24.4789 - val_mean_absolute_error: 3.5270 - val_mean_absolute_percentage_error: 42.2037\n",
      "Epoch 120/3500\n",
      "4/4 [==============================] - 0s 9ms/step - loss: 1.1947 - mean_squared_error: 2.8406 - mean_absolute_error: 1.1947 - mean_absolute_percentage_error: 7.7505 - val_loss: 4.0627 - val_mean_squared_error: 24.2063 - val_mean_absolute_error: 4.0627 - val_mean_absolute_percentage_error: 44.3890\n",
      "Epoch 121/3500\n",
      "4/4 [==============================] - 0s 10ms/step - loss: 1.3320 - mean_squared_error: 3.2038 - mean_absolute_error: 1.3320 - mean_absolute_percentage_error: 7.7552 - val_loss: 3.4732 - val_mean_squared_error: 25.5739 - val_mean_absolute_error: 3.4732 - val_mean_absolute_percentage_error: 43.1490\n",
      "Epoch 122/3500\n",
      "4/4 [==============================] - 0s 7ms/step - loss: 1.3046 - mean_squared_error: 2.9936 - mean_absolute_error: 1.3046 - mean_absolute_percentage_error: 8.4145 - val_loss: 3.7033 - val_mean_squared_error: 21.9001 - val_mean_absolute_error: 3.7033 - val_mean_absolute_percentage_error: 41.7015\n",
      "Epoch 123/3500\n",
      "4/4 [==============================] - 0s 7ms/step - loss: 1.2146 - mean_squared_error: 2.7491 - mean_absolute_error: 1.2146 - mean_absolute_percentage_error: 7.4509 - val_loss: 3.6436 - val_mean_squared_error: 21.6165 - val_mean_absolute_error: 3.6436 - val_mean_absolute_percentage_error: 41.7190\n",
      "Epoch 124/3500\n",
      "4/4 [==============================] - 0s 6ms/step - loss: 1.2088 - mean_squared_error: 2.8172 - mean_absolute_error: 1.2088 - mean_absolute_percentage_error: 6.6841 - val_loss: 3.6993 - val_mean_squared_error: 23.6494 - val_mean_absolute_error: 3.6993 - val_mean_absolute_percentage_error: 43.3686\n",
      "Epoch 125/3500\n",
      "4/4 [==============================] - 0s 7ms/step - loss: 1.1825 - mean_squared_error: 2.7720 - mean_absolute_error: 1.1825 - mean_absolute_percentage_error: 6.9017 - val_loss: 3.5146 - val_mean_squared_error: 22.5948 - val_mean_absolute_error: 3.5146 - val_mean_absolute_percentage_error: 41.9443\n",
      "Epoch 126/3500\n",
      "4/4 [==============================] - 0s 7ms/step - loss: 1.3130 - mean_squared_error: 2.9885 - mean_absolute_error: 1.3130 - mean_absolute_percentage_error: 7.6303 - val_loss: 3.6843 - val_mean_squared_error: 21.7359 - val_mean_absolute_error: 3.6843 - val_mean_absolute_percentage_error: 41.6673\n",
      "Epoch 127/3500\n",
      "4/4 [==============================] - 0s 6ms/step - loss: 1.1680 - mean_squared_error: 2.5112 - mean_absolute_error: 1.1680 - mean_absolute_percentage_error: 7.1581 - val_loss: 3.7116 - val_mean_squared_error: 21.2853 - val_mean_absolute_error: 3.7116 - val_mean_absolute_percentage_error: 41.5280\n",
      "Epoch 128/3500\n",
      "4/4 [==============================] - 0s 7ms/step - loss: 1.3541 - mean_squared_error: 2.9459 - mean_absolute_error: 1.3541 - mean_absolute_percentage_error: 7.7707 - val_loss: 3.6974 - val_mean_squared_error: 21.7153 - val_mean_absolute_error: 3.6974 - val_mean_absolute_percentage_error: 41.6862\n",
      "Epoch 129/3500\n",
      "4/4 [==============================] - 0s 11ms/step - loss: 1.1564 - mean_squared_error: 2.6556 - mean_absolute_error: 1.1564 - mean_absolute_percentage_error: 7.3296 - val_loss: 3.1633 - val_mean_squared_error: 22.9747 - val_mean_absolute_error: 3.1633 - val_mean_absolute_percentage_error: 40.6661\n",
      "Epoch 130/3500\n",
      "4/4 [==============================] - 0s 6ms/step - loss: 1.1200 - mean_squared_error: 2.4515 - mean_absolute_error: 1.1200 - mean_absolute_percentage_error: 6.8429 - val_loss: 3.5812 - val_mean_squared_error: 21.9099 - val_mean_absolute_error: 3.5812 - val_mean_absolute_percentage_error: 42.1306\n",
      "Epoch 131/3500\n",
      "4/4 [==============================] - 0s 6ms/step - loss: 1.1126 - mean_squared_error: 2.4542 - mean_absolute_error: 1.1126 - mean_absolute_percentage_error: 6.6826 - val_loss: 3.3211 - val_mean_squared_error: 26.2555 - val_mean_absolute_error: 3.3211 - val_mean_absolute_percentage_error: 43.8959\n",
      "Epoch 132/3500\n",
      "4/4 [==============================] - 0s 7ms/step - loss: 1.2628 - mean_squared_error: 2.9321 - mean_absolute_error: 1.2628 - mean_absolute_percentage_error: 7.4970 - val_loss: 3.4183 - val_mean_squared_error: 22.6742 - val_mean_absolute_error: 3.4183 - val_mean_absolute_percentage_error: 41.6344\n",
      "Epoch 133/3500\n",
      "4/4 [==============================] - 0s 7ms/step - loss: 1.1176 - mean_squared_error: 2.3828 - mean_absolute_error: 1.1176 - mean_absolute_percentage_error: 6.4200 - val_loss: 3.6994 - val_mean_squared_error: 21.0663 - val_mean_absolute_error: 3.6994 - val_mean_absolute_percentage_error: 41.7141\n",
      "Epoch 134/3500\n",
      "4/4 [==============================] - 0s 7ms/step - loss: 1.2495 - mean_squared_error: 2.8722 - mean_absolute_error: 1.2495 - mean_absolute_percentage_error: 6.9116 - val_loss: 3.4120 - val_mean_squared_error: 21.4265 - val_mean_absolute_error: 3.4120 - val_mean_absolute_percentage_error: 41.4290\n",
      "Epoch 135/3500\n",
      "4/4 [==============================] - 0s 7ms/step - loss: 1.1801 - mean_squared_error: 2.6795 - mean_absolute_error: 1.1801 - mean_absolute_percentage_error: 7.2628 - val_loss: 3.6611 - val_mean_squared_error: 20.8318 - val_mean_absolute_error: 3.6611 - val_mean_absolute_percentage_error: 41.3396\n",
      "Epoch 136/3500\n",
      "4/4 [==============================] - 0s 6ms/step - loss: 1.2013 - mean_squared_error: 2.5849 - mean_absolute_error: 1.2013 - mean_absolute_percentage_error: 7.1107 - val_loss: 3.3356 - val_mean_squared_error: 22.8108 - val_mean_absolute_error: 3.3356 - val_mean_absolute_percentage_error: 42.0011\n",
      "Epoch 137/3500\n",
      "4/4 [==============================] - 0s 8ms/step - loss: 1.1714 - mean_squared_error: 2.6915 - mean_absolute_error: 1.1714 - mean_absolute_percentage_error: 7.5452 - val_loss: 3.5323 - val_mean_squared_error: 23.2580 - val_mean_absolute_error: 3.5323 - val_mean_absolute_percentage_error: 42.9955\n",
      "Epoch 138/3500\n",
      "4/4 [==============================] - 0s 7ms/step - loss: 1.1870 - mean_squared_error: 2.6472 - mean_absolute_error: 1.1870 - mean_absolute_percentage_error: 7.3155 - val_loss: 3.7015 - val_mean_squared_error: 23.5402 - val_mean_absolute_error: 3.7015 - val_mean_absolute_percentage_error: 43.5113\n",
      "Epoch 139/3500\n",
      "4/4 [==============================] - 0s 8ms/step - loss: 1.1334 - mean_squared_error: 2.6578 - mean_absolute_error: 1.1334 - mean_absolute_percentage_error: 7.0209 - val_loss: 3.5263 - val_mean_squared_error: 21.7746 - val_mean_absolute_error: 3.5263 - val_mean_absolute_percentage_error: 41.4110\n",
      "Epoch 140/3500\n",
      "4/4 [==============================] - 0s 6ms/step - loss: 1.0607 - mean_squared_error: 2.3222 - mean_absolute_error: 1.0607 - mean_absolute_percentage_error: 6.3219 - val_loss: 3.7611 - val_mean_squared_error: 23.7611 - val_mean_absolute_error: 3.7611 - val_mean_absolute_percentage_error: 44.4401\n",
      "Epoch 141/3500\n",
      "4/4 [==============================] - 0s 7ms/step - loss: 1.1517 - mean_squared_error: 2.6607 - mean_absolute_error: 1.1517 - mean_absolute_percentage_error: 7.5142 - val_loss: 3.6504 - val_mean_squared_error: 22.5673 - val_mean_absolute_error: 3.6504 - val_mean_absolute_percentage_error: 42.5958\n",
      "Epoch 142/3500\n",
      "4/4 [==============================] - 0s 7ms/step - loss: 1.0591 - mean_squared_error: 2.2201 - mean_absolute_error: 1.0591 - mean_absolute_percentage_error: 6.6728 - val_loss: 3.5682 - val_mean_squared_error: 22.2602 - val_mean_absolute_error: 3.5682 - val_mean_absolute_percentage_error: 41.9504\n",
      "Epoch 143/3500\n",
      "4/4 [==============================] - 0s 9ms/step - loss: 1.1197 - mean_squared_error: 2.4951 - mean_absolute_error: 1.1197 - mean_absolute_percentage_error: 6.7667 - val_loss: 3.4428 - val_mean_squared_error: 23.9690 - val_mean_absolute_error: 3.4428 - val_mean_absolute_percentage_error: 42.7803\n",
      "Epoch 144/3500\n",
      "4/4 [==============================] - 0s 7ms/step - loss: 1.1072 - mean_squared_error: 2.4052 - mean_absolute_error: 1.1072 - mean_absolute_percentage_error: 7.2736 - val_loss: 3.6626 - val_mean_squared_error: 23.9647 - val_mean_absolute_error: 3.6626 - val_mean_absolute_percentage_error: 43.5118\n",
      "Epoch 145/3500\n",
      "4/4 [==============================] - 0s 7ms/step - loss: 1.1106 - mean_squared_error: 2.4012 - mean_absolute_error: 1.1106 - mean_absolute_percentage_error: 6.8110 - val_loss: 3.7746 - val_mean_squared_error: 24.6982 - val_mean_absolute_error: 3.7746 - val_mean_absolute_percentage_error: 44.5695\n",
      "Epoch 146/3500\n",
      "4/4 [==============================] - 0s 7ms/step - loss: 1.0636 - mean_squared_error: 2.4597 - mean_absolute_error: 1.0636 - mean_absolute_percentage_error: 7.0161 - val_loss: 3.5904 - val_mean_squared_error: 26.1232 - val_mean_absolute_error: 3.5904 - val_mean_absolute_percentage_error: 45.0208\n",
      "Epoch 147/3500\n",
      "4/4 [==============================] - 0s 9ms/step - loss: 1.0974 - mean_squared_error: 2.3595 - mean_absolute_error: 1.0974 - mean_absolute_percentage_error: 6.4175 - val_loss: 3.7272 - val_mean_squared_error: 22.4451 - val_mean_absolute_error: 3.7272 - val_mean_absolute_percentage_error: 42.8505\n",
      "Epoch 148/3500\n",
      "4/4 [==============================] - 0s 8ms/step - loss: 1.2121 - mean_squared_error: 2.7154 - mean_absolute_error: 1.2121 - mean_absolute_percentage_error: 7.4318 - val_loss: 3.6777 - val_mean_squared_error: 23.4862 - val_mean_absolute_error: 3.6777 - val_mean_absolute_percentage_error: 43.6364\n",
      "Epoch 149/3500\n",
      "4/4 [==============================] - 0s 8ms/step - loss: 1.0236 - mean_squared_error: 2.2647 - mean_absolute_error: 1.0236 - mean_absolute_percentage_error: 6.3756 - val_loss: 3.5667 - val_mean_squared_error: 23.8666 - val_mean_absolute_error: 3.5667 - val_mean_absolute_percentage_error: 43.8086\n",
      "Epoch 150/3500\n",
      "4/4 [==============================] - 0s 7ms/step - loss: 1.0513 - mean_squared_error: 2.4241 - mean_absolute_error: 1.0513 - mean_absolute_percentage_error: 6.4873 - val_loss: 3.8782 - val_mean_squared_error: 23.2816 - val_mean_absolute_error: 3.8782 - val_mean_absolute_percentage_error: 44.0682\n",
      "Epoch 151/3500\n",
      "4/4 [==============================] - 0s 7ms/step - loss: 1.2201 - mean_squared_error: 3.0520 - mean_absolute_error: 1.2201 - mean_absolute_percentage_error: 7.8261 - val_loss: 3.9619 - val_mean_squared_error: 23.9096 - val_mean_absolute_error: 3.9619 - val_mean_absolute_percentage_error: 44.6454\n",
      "Epoch 152/3500\n",
      "4/4 [==============================] - 0s 7ms/step - loss: 1.0918 - mean_squared_error: 2.4491 - mean_absolute_error: 1.0918 - mean_absolute_percentage_error: 6.8599 - val_loss: 3.7576 - val_mean_squared_error: 24.7249 - val_mean_absolute_error: 3.7576 - val_mean_absolute_percentage_error: 44.7144\n",
      "Epoch 153/3500\n",
      "4/4 [==============================] - 0s 8ms/step - loss: 0.9979 - mean_squared_error: 2.2216 - mean_absolute_error: 0.9979 - mean_absolute_percentage_error: 6.2149 - val_loss: 3.4896 - val_mean_squared_error: 23.8382 - val_mean_absolute_error: 3.4896 - val_mean_absolute_percentage_error: 42.5916\n",
      "Epoch 154/3500\n",
      "4/4 [==============================] - 0s 11ms/step - loss: 1.0292 - mean_squared_error: 2.1026 - mean_absolute_error: 1.0292 - mean_absolute_percentage_error: 5.9947 - val_loss: 3.9081 - val_mean_squared_error: 23.1440 - val_mean_absolute_error: 3.9081 - val_mean_absolute_percentage_error: 43.9060\n",
      "Epoch 155/3500\n",
      "4/4 [==============================] - 0s 8ms/step - loss: 1.0547 - mean_squared_error: 2.2351 - mean_absolute_error: 1.0547 - mean_absolute_percentage_error: 6.4478 - val_loss: 3.7579 - val_mean_squared_error: 23.4823 - val_mean_absolute_error: 3.7579 - val_mean_absolute_percentage_error: 43.5292\n",
      "Epoch 156/3500\n",
      "4/4 [==============================] - 0s 6ms/step - loss: 1.0487 - mean_squared_error: 2.3649 - mean_absolute_error: 1.0487 - mean_absolute_percentage_error: 5.8448 - val_loss: 3.9023 - val_mean_squared_error: 24.6167 - val_mean_absolute_error: 3.9023 - val_mean_absolute_percentage_error: 44.6067\n",
      "Epoch 157/3500\n",
      "4/4 [==============================] - 0s 6ms/step - loss: 1.0955 - mean_squared_error: 2.5630 - mean_absolute_error: 1.0955 - mean_absolute_percentage_error: 6.6901 - val_loss: 4.0519 - val_mean_squared_error: 26.9601 - val_mean_absolute_error: 4.0519 - val_mean_absolute_percentage_error: 45.9016\n",
      "Epoch 158/3500\n",
      "4/4 [==============================] - 0s 7ms/step - loss: 1.1832 - mean_squared_error: 2.7232 - mean_absolute_error: 1.1832 - mean_absolute_percentage_error: 7.3968 - val_loss: 3.8803 - val_mean_squared_error: 26.2603 - val_mean_absolute_error: 3.8803 - val_mean_absolute_percentage_error: 45.6976\n",
      "Epoch 159/3500\n",
      "4/4 [==============================] - 0s 7ms/step - loss: 1.0479 - mean_squared_error: 2.2825 - mean_absolute_error: 1.0479 - mean_absolute_percentage_error: 7.0234 - val_loss: 3.7939 - val_mean_squared_error: 24.1617 - val_mean_absolute_error: 3.7939 - val_mean_absolute_percentage_error: 43.5968\n",
      "Epoch 160/3500\n",
      "4/4 [==============================] - 0s 7ms/step - loss: 1.2350 - mean_squared_error: 2.8033 - mean_absolute_error: 1.2350 - mean_absolute_percentage_error: 7.5438 - val_loss: 3.8145 - val_mean_squared_error: 23.3836 - val_mean_absolute_error: 3.8145 - val_mean_absolute_percentage_error: 43.7200\n",
      "Epoch 161/3500\n",
      "4/4 [==============================] - 0s 7ms/step - loss: 0.9378 - mean_squared_error: 2.0270 - mean_absolute_error: 0.9378 - mean_absolute_percentage_error: 6.0385 - val_loss: 3.6935 - val_mean_squared_error: 26.0512 - val_mean_absolute_error: 3.6935 - val_mean_absolute_percentage_error: 44.5804\n",
      "Epoch 162/3500\n",
      "4/4 [==============================] - 0s 7ms/step - loss: 1.0295 - mean_squared_error: 2.4510 - mean_absolute_error: 1.0295 - mean_absolute_percentage_error: 6.1801 - val_loss: 3.7034 - val_mean_squared_error: 26.1967 - val_mean_absolute_error: 3.7034 - val_mean_absolute_percentage_error: 45.1738\n",
      "Epoch 163/3500\n",
      "4/4 [==============================] - 0s 7ms/step - loss: 1.0137 - mean_squared_error: 2.1758 - mean_absolute_error: 1.0137 - mean_absolute_percentage_error: 6.8227 - val_loss: 3.6353 - val_mean_squared_error: 26.0534 - val_mean_absolute_error: 3.6353 - val_mean_absolute_percentage_error: 44.4423\n",
      "Epoch 164/3500\n",
      "4/4 [==============================] - 0s 7ms/step - loss: 0.9890 - mean_squared_error: 2.0379 - mean_absolute_error: 0.9890 - mean_absolute_percentage_error: 6.9717 - val_loss: 3.9011 - val_mean_squared_error: 25.3544 - val_mean_absolute_error: 3.9011 - val_mean_absolute_percentage_error: 45.1667\n",
      "Epoch 165/3500\n",
      "4/4 [==============================] - 0s 7ms/step - loss: 1.0997 - mean_squared_error: 2.4767 - mean_absolute_error: 1.0997 - mean_absolute_percentage_error: 6.7755 - val_loss: 4.0386 - val_mean_squared_error: 24.5457 - val_mean_absolute_error: 4.0386 - val_mean_absolute_percentage_error: 45.2236\n",
      "Epoch 166/3500\n",
      "4/4 [==============================] - 0s 7ms/step - loss: 0.9846 - mean_squared_error: 2.1551 - mean_absolute_error: 0.9846 - mean_absolute_percentage_error: 5.7660 - val_loss: 4.1554 - val_mean_squared_error: 27.4387 - val_mean_absolute_error: 4.1554 - val_mean_absolute_percentage_error: 47.2611\n",
      "Epoch 167/3500\n",
      "4/4 [==============================] - 0s 7ms/step - loss: 1.0470 - mean_squared_error: 2.3664 - mean_absolute_error: 1.0470 - mean_absolute_percentage_error: 6.6047 - val_loss: 3.9575 - val_mean_squared_error: 26.9673 - val_mean_absolute_error: 3.9575 - val_mean_absolute_percentage_error: 45.7670\n",
      "Epoch 168/3500\n",
      "4/4 [==============================] - 0s 8ms/step - loss: 1.1283 - mean_squared_error: 2.3909 - mean_absolute_error: 1.1283 - mean_absolute_percentage_error: 6.7203 - val_loss: 4.2512 - val_mean_squared_error: 27.6021 - val_mean_absolute_error: 4.2512 - val_mean_absolute_percentage_error: 47.4649\n",
      "Epoch 169/3500\n",
      "4/4 [==============================] - 0s 12ms/step - loss: 1.0230 - mean_squared_error: 2.1992 - mean_absolute_error: 1.0230 - mean_absolute_percentage_error: 6.7106 - val_loss: 4.1282 - val_mean_squared_error: 27.5368 - val_mean_absolute_error: 4.1282 - val_mean_absolute_percentage_error: 46.8558\n",
      "Epoch 170/3500\n",
      "4/4 [==============================] - 0s 9ms/step - loss: 0.9230 - mean_squared_error: 1.9684 - mean_absolute_error: 0.9230 - mean_absolute_percentage_error: 5.5218 - val_loss: 4.0691 - val_mean_squared_error: 26.3222 - val_mean_absolute_error: 4.0691 - val_mean_absolute_percentage_error: 46.1059\n",
      "Epoch 171/3500\n",
      "4/4 [==============================] - 0s 7ms/step - loss: 1.0150 - mean_squared_error: 2.1028 - mean_absolute_error: 1.0150 - mean_absolute_percentage_error: 6.3441 - val_loss: 3.9829 - val_mean_squared_error: 25.2428 - val_mean_absolute_error: 3.9829 - val_mean_absolute_percentage_error: 45.3394\n",
      "Epoch 172/3500\n",
      "4/4 [==============================] - 0s 7ms/step - loss: 1.0014 - mean_squared_error: 2.0160 - mean_absolute_error: 1.0014 - mean_absolute_percentage_error: 6.6747 - val_loss: 3.7802 - val_mean_squared_error: 27.2178 - val_mean_absolute_error: 3.7802 - val_mean_absolute_percentage_error: 45.5492\n",
      "Epoch 173/3500\n",
      "4/4 [==============================] - 0s 7ms/step - loss: 0.9877 - mean_squared_error: 2.4626 - mean_absolute_error: 0.9877 - mean_absolute_percentage_error: 5.7148 - val_loss: 3.9806 - val_mean_squared_error: 25.8389 - val_mean_absolute_error: 3.9806 - val_mean_absolute_percentage_error: 45.5131\n",
      "Epoch 174/3500\n",
      "4/4 [==============================] - 0s 7ms/step - loss: 1.0508 - mean_squared_error: 2.4166 - mean_absolute_error: 1.0508 - mean_absolute_percentage_error: 6.4018 - val_loss: 4.0095 - val_mean_squared_error: 24.8751 - val_mean_absolute_error: 4.0095 - val_mean_absolute_percentage_error: 44.5931\n",
      "Epoch 175/3500\n",
      "4/4 [==============================] - 0s 7ms/step - loss: 1.0090 - mean_squared_error: 2.3384 - mean_absolute_error: 1.0090 - mean_absolute_percentage_error: 6.3067 - val_loss: 3.8210 - val_mean_squared_error: 27.2696 - val_mean_absolute_error: 3.8210 - val_mean_absolute_percentage_error: 45.1637\n",
      "Epoch 176/3500\n",
      "4/4 [==============================] - 0s 7ms/step - loss: 1.0433 - mean_squared_error: 2.2381 - mean_absolute_error: 1.0433 - mean_absolute_percentage_error: 6.2187 - val_loss: 3.7372 - val_mean_squared_error: 27.6505 - val_mean_absolute_error: 3.7372 - val_mean_absolute_percentage_error: 45.5507\n",
      "Epoch 177/3500\n",
      "4/4 [==============================] - 0s 7ms/step - loss: 1.0537 - mean_squared_error: 2.0907 - mean_absolute_error: 1.0537 - mean_absolute_percentage_error: 7.2236 - val_loss: 4.1503 - val_mean_squared_error: 25.9753 - val_mean_absolute_error: 4.1503 - val_mean_absolute_percentage_error: 45.8390\n",
      "Epoch 178/3500\n",
      "4/4 [==============================] - 0s 7ms/step - loss: 1.0354 - mean_squared_error: 2.2234 - mean_absolute_error: 1.0354 - mean_absolute_percentage_error: 6.5523 - val_loss: 4.0579 - val_mean_squared_error: 25.3651 - val_mean_absolute_error: 4.0579 - val_mean_absolute_percentage_error: 44.9331\n",
      "Epoch 179/3500\n",
      "4/4 [==============================] - 0s 7ms/step - loss: 0.9710 - mean_squared_error: 2.2999 - mean_absolute_error: 0.9710 - mean_absolute_percentage_error: 5.5818 - val_loss: 3.7680 - val_mean_squared_error: 27.8250 - val_mean_absolute_error: 3.7680 - val_mean_absolute_percentage_error: 45.0508\n",
      "1/1 [==============================] - 0s 15ms/step - loss: 3.7680 - mean_squared_error: 27.8250 - mean_absolute_error: 3.7680 - mean_absolute_percentage_error: 45.0508\n"
     ]
    }
   ],
   "source": [
    "early_stopping = tf.keras.callbacks.EarlyStopping(monitor='val_loss',\n",
    "                                                    patience=50,\n",
    "                                                    mode='min')\n",
    "checkpoint = ModelCheckpoint(CASE+'/' + CASE + 'model.h5', monitor='val_loss', verbose=0,\n",
    "                                save_best_only=True, mode='min', save_weights_only=False)\n",
    "callbacks = [early_stopping,checkpoint]\n",
    "\n",
    "history = model.fit(xtrain,ytrain,verbose=1,epochs=3500,\n",
    "                    validation_data=(xval,yval),\n",
    "                    batch_size = 10,\n",
    "                    callbacks=callbacks)  # ,tensorboard,checkpoint]))\n",
    "\n",
    "val_performance = model.evaluate(xval,yval)\n",
    "performance = model.evaluate(xtest,ytest, verbose=0)\n",
    "# print(val_performance[modelName])\n",
    "# print(performance[modelName])"
   ]
  },
  {
   "cell_type": "code",
   "execution_count": 107,
   "metadata": {},
   "outputs": [
    {
     "data": {
      "text/plain": [
       "[<matplotlib.lines.Line2D at 0x7fa198e36070>]"
      ]
     },
     "execution_count": 107,
     "metadata": {},
     "output_type": "execute_result"
    },
    {
     "data": {
      "image/png": "[encoded data removed]",
      "text/plain": [
       "<Figure size 432x288 with 1 Axes>"
      ]
     },
     "metadata": {
      "needs_background": "light"
     },
     "output_type": "display_data"
    }
   ],
   "source": [
    "plt.plot(history.history['mean_absolute_error'])\n",
    "plt.plot(history.history['val_mean_absolute_error'])\n",
    "# plt.yscale('log')"
   ]
  },
  {
   "cell_type": "code",
   "execution_count": 108,
   "metadata": {},
   "outputs": [
    {
     "name": "stdout",
     "output_type": "stream",
     "text": [
      "2/2 [==============================] - 0s 2ms/step\n",
      "1/1 [==============================] - 0s 21ms/step\n",
      "1/1 [==============================] - 0s 16ms/step\n"
     ]
    },
    {
     "data": {
      "text/plain": [
       "Text(0, 0.5, 'UTS Prediction')"
      ]
     },
     "execution_count": 108,
     "metadata": {},
     "output_type": "execute_result"
    },
    {
     "data": {
      "image/png": "[encoded data removed]",
      "text/plain": [
       "<Figure size 432x288 with 1 Axes>"
      ]
     },
     "metadata": {
      "needs_background": "light"
     },
     "output_type": "display_data"
    }
   ],
   "source": [
    "ypredtr =  model.predict(xtrain).squeeze()\n",
    "ypredts = model.predict(xtest).squeeze()\n",
    "ypredvl = model.predict(xval).squeeze()\n",
    "\n",
    "y = [*ytrain,*ytest,*yval]\n",
    "plt.plot(y,y,'r')\n",
    "plt.plot(ytrain,ypredtr,'bo',label=\"Train\")\n",
    "plt.plot(yval,ypredvl,'ro',label=\"val\")\n",
    "plt.plot(ytest,ypredts,'ko',label = 'Test')\n",
    "plt.legend()\n",
    "plt.xlabel(CASE)\n",
    "plt.ylabel(CASE +' Prediction')"
   ]
  },
  {
   "cell_type": "code",
   "execution_count": 109,
   "metadata": {},
   "outputs": [
    {
     "name": "stdout",
     "output_type": "stream",
     "text": [
      "Performance on validation Dataset:\n",
      "1/1 [==============================] - 0s 16ms/step - loss: 3.7680 - mean_squared_error: 27.8250 - mean_absolute_error: 3.7680 - mean_absolute_percentage_error: 45.0508\n",
      "Performance on Test dataset:\n",
      "1/1 [==============================] - 0s 17ms/step - loss: 4.3493 - mean_squared_error: 42.5144 - mean_absolute_error: 4.3493 - mean_absolute_percentage_error: 33.6857\n",
      "Performance on Train Dataset:\n",
      "2/2 [==============================] - 0s 3ms/step - loss: 1.0540 - mean_squared_error: 2.2933 - mean_absolute_error: 1.0540 - mean_absolute_percentage_error: 5.1629\n"
     ]
    },
    {
     "data": {
      "text/plain": [
       "[1.0539737939834595, 2.293332815170288, 1.0539737939834595, 5.162924766540527]"
      ]
     },
     "execution_count": 109,
     "metadata": {},
     "output_type": "execute_result"
    }
   ],
   "source": [
    "print('Performance on validation Dataset:')\n",
    "model.evaluate(xval,yval)\n",
    "print('Performance on Test dataset:')\n",
    "model.evaluate(xtest,ytest)\n",
    "print('Performance on Train Dataset:')\n",
    "model.evaluate(xtrain,ytrain)"
   ]
  },
  {
   "cell_type": "code",
   "execution_count": null,
   "metadata": {},
   "outputs": [],
   "source": []
  }
 ],
 "metadata": {
  "kernelspec": {
   "display_name": "Python 3.9.15 ('tf')",
   "language": "python",
   "name": "python3"
  },
  "language_info": {
   "codemirror_mode": {
    "name": "ipython",
    "version": 3
   },
   "file_extension": ".py",
   "mimetype": "text/x-python",
   "name": "python",
   "nbconvert_exporter": "python",
   "pygments_lexer": "ipython3",
   "version": "3.9.15"
  },
  "orig_nbformat": 4,
  "vscode": {
   "interpreter": {
    "hash": "a8477db803d2ebe70aa0971410c968e2c89bebd74bd07aee6f225349be8a6b47"
   }
  }
 },
 "nbformat": 4,
 "nbformat_minor": 2
}
