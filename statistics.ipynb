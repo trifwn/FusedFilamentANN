{
 "cells": [
  {
   "cell_type": "code",
   "execution_count": 27,
   "metadata": {},
   "outputs": [],
   "source": [
    "import pandas as pd\n",
    "import matplotlib.pyplot as plt\n",
    "import numpy as np\n",
    "\n",
    "df = pd.read_csv('data.csv')"
   ]
  },
  {
   "cell_type": "code",
   "execution_count": 28,
   "metadata": {},
   "outputs": [],
   "source": [
    "df['grid'] = df['infill_pattern'].replace(['grid','honeycomb'], ['1','0']).astype(int)\n",
    "df['honeycomb'] = df['infill_pattern'].replace(['grid','honeycomb'], ['0','1']).astype(int)\n",
    "junk = df.pop('infill_pattern')\n",
    "\n",
    "df['pla'] = df['material'].replace(['pla','abs'], ['0','1']).astype(int)\n",
    "df['abs'] = df['material'].replace(['pla','abs'], ['1','0']).astype(int)\n",
    "junk = df.pop('material')\n",
    "junk = df.pop('bed_temperature (0C)')"
   ]
  },
  {
   "cell_type": "code",
   "execution_count": 29,
   "metadata": {},
   "outputs": [],
   "source": [
    "cols = ['layer_height (mm)', 'wall_thickness (mm)', 'infill_density (%)',\n",
    "        'nozzle_temperature (0C)',\n",
    "       'print_speed (mm/s)', 'pla','abs','grid','honeycomb', 'fan_speed (%)']"
   ]
  },
  {
   "cell_type": "code",
   "execution_count": 30,
   "metadata": {},
   "outputs": [],
   "source": [
    "cov = df.cov()"
   ]
  },
  {
   "cell_type": "code",
   "execution_count": 31,
   "metadata": {},
   "outputs": [
    {
     "data": {
      "text/html": [
       "<div>\n",
       "<style scoped>\n",
       "    .dataframe tbody tr th:only-of-type {\n",
       "        vertical-align: middle;\n",
       "    }\n",
       "\n",
       "    .dataframe tbody tr th {\n",
       "        vertical-align: top;\n",
       "    }\n",
       "\n",
       "    .dataframe thead th {\n",
       "        text-align: right;\n",
       "    }\n",
       "</style>\n",
       "<table border=\"1\" class=\"dataframe\">\n",
       "  <thead>\n",
       "    <tr style=\"text-align: right;\">\n",
       "      <th></th>\n",
       "      <th>roughness (μm)</th>\n",
       "      <th>tension_strength (MPa)</th>\n",
       "      <th>elongation (%)</th>\n",
       "    </tr>\n",
       "  </thead>\n",
       "  <tbody>\n",
       "    <tr>\n",
       "      <th>wall_thickness (mm)</th>\n",
       "      <td>-65.701633</td>\n",
       "      <td>10.431020</td>\n",
       "      <td>0.406286</td>\n",
       "    </tr>\n",
       "    <tr>\n",
       "      <th>abs</th>\n",
       "      <td>-11.663265</td>\n",
       "      <td>1.306122</td>\n",
       "      <td>0.157143</td>\n",
       "    </tr>\n",
       "    <tr>\n",
       "      <th>honeycomb</th>\n",
       "      <td>-3.418367</td>\n",
       "      <td>0.040816</td>\n",
       "      <td>0.018367</td>\n",
       "    </tr>\n",
       "    <tr>\n",
       "      <th>grid</th>\n",
       "      <td>3.418367</td>\n",
       "      <td>-0.040816</td>\n",
       "      <td>-0.018367</td>\n",
       "    </tr>\n",
       "    <tr>\n",
       "      <th>layer_height (mm)</th>\n",
       "      <td>5.110531</td>\n",
       "      <td>0.194408</td>\n",
       "      <td>0.025763</td>\n",
       "    </tr>\n",
       "    <tr>\n",
       "      <th>elongation (%)</th>\n",
       "      <td>7.724735</td>\n",
       "      <td>5.896163</td>\n",
       "      <td>0.621241</td>\n",
       "    </tr>\n",
       "    <tr>\n",
       "      <th>pla</th>\n",
       "      <td>11.663265</td>\n",
       "      <td>-1.306122</td>\n",
       "      <td>-0.157143</td>\n",
       "    </tr>\n",
       "    <tr>\n",
       "      <th>tension_strength (MPa)</th>\n",
       "      <td>45.626122</td>\n",
       "      <td>79.666939</td>\n",
       "      <td>5.896163</td>\n",
       "    </tr>\n",
       "    <tr>\n",
       "      <th>infill_density (%)</th>\n",
       "      <td>297.375510</td>\n",
       "      <td>81.151020</td>\n",
       "      <td>3.178776</td>\n",
       "    </tr>\n",
       "    <tr>\n",
       "      <th>print_speed (mm/s)</th>\n",
       "      <td>356.000000</td>\n",
       "      <td>-70.122449</td>\n",
       "      <td>-5.477551</td>\n",
       "    </tr>\n",
       "    <tr>\n",
       "      <th>nozzle_temperature (0C)</th>\n",
       "      <td>511.663265</td>\n",
       "      <td>-53.693878</td>\n",
       "      <td>-6.161224</td>\n",
       "    </tr>\n",
       "    <tr>\n",
       "      <th>fan_speed (%)</th>\n",
       "      <td>679.591837</td>\n",
       "      <td>-80.612245</td>\n",
       "      <td>-8.469388</td>\n",
       "    </tr>\n",
       "    <tr>\n",
       "      <th>roughness (μm)</th>\n",
       "      <td>9807.758776</td>\n",
       "      <td>45.626122</td>\n",
       "      <td>7.724735</td>\n",
       "    </tr>\n",
       "  </tbody>\n",
       "</table>\n",
       "</div>"
      ],
      "text/plain": [
       "                         roughness (μm)  tension_strength (MPa)  \\\n",
       "wall_thickness (mm)          -65.701633               10.431020   \n",
       "abs                          -11.663265                1.306122   \n",
       "honeycomb                     -3.418367                0.040816   \n",
       "grid                           3.418367               -0.040816   \n",
       "layer_height (mm)              5.110531                0.194408   \n",
       "elongation (%)                 7.724735                5.896163   \n",
       "pla                           11.663265               -1.306122   \n",
       "tension_strength (MPa)        45.626122               79.666939   \n",
       "infill_density (%)           297.375510               81.151020   \n",
       "print_speed (mm/s)           356.000000              -70.122449   \n",
       "nozzle_temperature (0C)      511.663265              -53.693878   \n",
       "fan_speed (%)                679.591837              -80.612245   \n",
       "roughness (μm)              9807.758776               45.626122   \n",
       "\n",
       "                         elongation (%)  \n",
       "wall_thickness (mm)            0.406286  \n",
       "abs                            0.157143  \n",
       "honeycomb                      0.018367  \n",
       "grid                          -0.018367  \n",
       "layer_height (mm)              0.025763  \n",
       "elongation (%)                 0.621241  \n",
       "pla                           -0.157143  \n",
       "tension_strength (MPa)         5.896163  \n",
       "infill_density (%)             3.178776  \n",
       "print_speed (mm/s)            -5.477551  \n",
       "nozzle_temperature (0C)       -6.161224  \n",
       "fan_speed (%)                 -8.469388  \n",
       "roughness (μm)                 7.724735  "
      ]
     },
     "execution_count": 31,
     "metadata": {},
     "output_type": "execute_result"
    }
   ],
   "source": [
    "cov = df.cov()\n",
    "for col in cols:\n",
    "    cov.pop(col)\n",
    "cov.sort_values(by=['roughness (μm)'])"
   ]
  },
  {
   "cell_type": "markdown",
   "metadata": {},
   "source": [
    "# Correlation with Targets"
   ]
  },
  {
   "cell_type": "code",
   "execution_count": 32,
   "metadata": {},
   "outputs": [],
   "source": [
    "corr = df.corr(method='pearson')\n",
    "for col in cols:\n",
    "    corr.pop(col)"
   ]
  },
  {
   "cell_type": "code",
   "execution_count": 33,
   "metadata": {},
   "outputs": [
    {
     "data": {
      "text/html": [
       "<div>\n",
       "<style scoped>\n",
       "    .dataframe tbody tr th:only-of-type {\n",
       "        vertical-align: middle;\n",
       "    }\n",
       "\n",
       "    .dataframe tbody tr th {\n",
       "        vertical-align: top;\n",
       "    }\n",
       "\n",
       "    .dataframe thead th {\n",
       "        text-align: right;\n",
       "    }\n",
       "</style>\n",
       "<table border=\"1\" class=\"dataframe\">\n",
       "  <thead>\n",
       "    <tr style=\"text-align: right;\">\n",
       "      <th></th>\n",
       "      <th>roughness (μm)</th>\n",
       "      <th>tension_strength (MPa)</th>\n",
       "      <th>elongation (%)</th>\n",
       "    </tr>\n",
       "  </thead>\n",
       "  <tbody>\n",
       "    <tr>\n",
       "      <th>layer_height (mm)</th>\n",
       "      <td>0.801341</td>\n",
       "      <td>0.338230</td>\n",
       "      <td>0.507583</td>\n",
       "    </tr>\n",
       "    <tr>\n",
       "      <th>wall_thickness (mm)</th>\n",
       "      <td>-0.226987</td>\n",
       "      <td>0.399849</td>\n",
       "      <td>0.176364</td>\n",
       "    </tr>\n",
       "    <tr>\n",
       "      <th>infill_density (%)</th>\n",
       "      <td>0.118389</td>\n",
       "      <td>0.358464</td>\n",
       "      <td>0.159009</td>\n",
       "    </tr>\n",
       "    <tr>\n",
       "      <th>nozzle_temperature (0C)</th>\n",
       "      <td>0.348611</td>\n",
       "      <td>-0.405908</td>\n",
       "      <td>-0.527447</td>\n",
       "    </tr>\n",
       "    <tr>\n",
       "      <th>print_speed (mm/s)</th>\n",
       "      <td>0.121066</td>\n",
       "      <td>-0.264590</td>\n",
       "      <td>-0.234052</td>\n",
       "    </tr>\n",
       "    <tr>\n",
       "      <th>fan_speed (%)</th>\n",
       "      <td>0.192142</td>\n",
       "      <td>-0.252883</td>\n",
       "      <td>-0.300871</td>\n",
       "    </tr>\n",
       "    <tr>\n",
       "      <th>roughness (μm)</th>\n",
       "      <td>1.000000</td>\n",
       "      <td>0.051617</td>\n",
       "      <td>0.098962</td>\n",
       "    </tr>\n",
       "    <tr>\n",
       "      <th>tension_strength (MPa)</th>\n",
       "      <td>0.051617</td>\n",
       "      <td>1.000000</td>\n",
       "      <td>0.838109</td>\n",
       "    </tr>\n",
       "    <tr>\n",
       "      <th>elongation (%)</th>\n",
       "      <td>0.098962</td>\n",
       "      <td>0.838109</td>\n",
       "      <td>1.000000</td>\n",
       "    </tr>\n",
       "    <tr>\n",
       "      <th>grid</th>\n",
       "      <td>0.068340</td>\n",
       "      <td>-0.009054</td>\n",
       "      <td>-0.046138</td>\n",
       "    </tr>\n",
       "    <tr>\n",
       "      <th>honeycomb</th>\n",
       "      <td>-0.068340</td>\n",
       "      <td>0.009054</td>\n",
       "      <td>0.046138</td>\n",
       "    </tr>\n",
       "    <tr>\n",
       "      <th>pla</th>\n",
       "      <td>0.233173</td>\n",
       "      <td>-0.289726</td>\n",
       "      <td>-0.394737</td>\n",
       "    </tr>\n",
       "    <tr>\n",
       "      <th>abs</th>\n",
       "      <td>-0.233173</td>\n",
       "      <td>0.289726</td>\n",
       "      <td>0.394737</td>\n",
       "    </tr>\n",
       "  </tbody>\n",
       "</table>\n",
       "</div>"
      ],
      "text/plain": [
       "                         roughness (μm)  tension_strength (MPa)  \\\n",
       "layer_height (mm)              0.801341                0.338230   \n",
       "wall_thickness (mm)           -0.226987                0.399849   \n",
       "infill_density (%)             0.118389                0.358464   \n",
       "nozzle_temperature (0C)        0.348611               -0.405908   \n",
       "print_speed (mm/s)             0.121066               -0.264590   \n",
       "fan_speed (%)                  0.192142               -0.252883   \n",
       "roughness (μm)                 1.000000                0.051617   \n",
       "tension_strength (MPa)         0.051617                1.000000   \n",
       "elongation (%)                 0.098962                0.838109   \n",
       "grid                           0.068340               -0.009054   \n",
       "honeycomb                     -0.068340                0.009054   \n",
       "pla                            0.233173               -0.289726   \n",
       "abs                           -0.233173                0.289726   \n",
       "\n",
       "                         elongation (%)  \n",
       "layer_height (mm)              0.507583  \n",
       "wall_thickness (mm)            0.176364  \n",
       "infill_density (%)             0.159009  \n",
       "nozzle_temperature (0C)       -0.527447  \n",
       "print_speed (mm/s)            -0.234052  \n",
       "fan_speed (%)                 -0.300871  \n",
       "roughness (μm)                 0.098962  \n",
       "tension_strength (MPa)         0.838109  \n",
       "elongation (%)                 1.000000  \n",
       "grid                          -0.046138  \n",
       "honeycomb                      0.046138  \n",
       "pla                           -0.394737  \n",
       "abs                            0.394737  "
      ]
     },
     "execution_count": 33,
     "metadata": {},
     "output_type": "execute_result"
    }
   ],
   "source": [
    "corr"
   ]
  },
  {
   "cell_type": "code",
   "execution_count": 34,
   "metadata": {},
   "outputs": [
    {
     "data": {
      "text/plain": [
       "tension_strength (MPa)     0.051617\n",
       "honeycomb                  0.068340\n",
       "grid                       0.068340\n",
       "elongation (%)             0.098962\n",
       "infill_density (%)         0.118389\n",
       "print_speed (mm/s)         0.121066\n",
       "fan_speed (%)              0.192142\n",
       "wall_thickness (mm)        0.226987\n",
       "pla                        0.233173\n",
       "abs                        0.233173\n",
       "nozzle_temperature (0C)    0.348611\n",
       "layer_height (mm)          0.801341\n",
       "roughness (μm)             1.000000\n",
       "Name: roughness (μm), dtype: float64"
      ]
     },
     "execution_count": 34,
     "metadata": {},
     "output_type": "execute_result"
    }
   ],
   "source": [
    "corr['roughness (μm)'].abs().sort_values()"
   ]
  },
  {
   "cell_type": "code",
   "execution_count": 35,
   "metadata": {},
   "outputs": [
    {
     "data": {
      "text/plain": [
       "grid                       0.009054\n",
       "honeycomb                  0.009054\n",
       "roughness (μm)             0.051617\n",
       "fan_speed (%)              0.252883\n",
       "print_speed (mm/s)         0.264590\n",
       "pla                        0.289726\n",
       "abs                        0.289726\n",
       "layer_height (mm)          0.338230\n",
       "infill_density (%)         0.358464\n",
       "wall_thickness (mm)        0.399849\n",
       "nozzle_temperature (0C)    0.405908\n",
       "elongation (%)             0.838109\n",
       "tension_strength (MPa)     1.000000\n",
       "Name: tension_strength (MPa), dtype: float64"
      ]
     },
     "execution_count": 35,
     "metadata": {},
     "output_type": "execute_result"
    }
   ],
   "source": [
    "corr['tension_strength (MPa)'].abs().sort_values()"
   ]
  },
  {
   "cell_type": "code",
   "execution_count": 36,
   "metadata": {},
   "outputs": [
    {
     "data": {
      "text/plain": [
       "grid                       0.046138\n",
       "honeycomb                  0.046138\n",
       "roughness (μm)             0.098962\n",
       "infill_density (%)         0.159009\n",
       "wall_thickness (mm)        0.176364\n",
       "print_speed (mm/s)         0.234052\n",
       "fan_speed (%)              0.300871\n",
       "pla                        0.394737\n",
       "abs                        0.394737\n",
       "layer_height (mm)          0.507583\n",
       "nozzle_temperature (0C)    0.527447\n",
       "tension_strength (MPa)     0.838109\n",
       "elongation (%)             1.000000\n",
       "Name: elongation (%), dtype: float64"
      ]
     },
     "execution_count": 36,
     "metadata": {},
     "output_type": "execute_result"
    }
   ],
   "source": [
    "corr['elongation (%)'].abs().sort_values()"
   ]
  },
  {
   "cell_type": "markdown",
   "metadata": {},
   "source": [
    "# Categorical Corr"
   ]
  },
  {
   "cell_type": "code",
   "execution_count": 37,
   "metadata": {},
   "outputs": [],
   "source": [
    "from scipy.stats import pointbiserialr"
   ]
  },
  {
   "cell_type": "code",
   "execution_count": 38,
   "metadata": {},
   "outputs": [
    {
     "name": "stdout",
     "output_type": "stream",
     "text": [
      "PointbiserialrResult(correlation=-0.06834029938091876, pvalue=0.6372349047085676)\n"
     ]
    }
   ],
   "source": [
    "# get data\n",
    "data = df\n",
    "\n",
    "# get continuous and dichotomous data\n",
    "grades = data['roughness (μm)']\n",
    "question_1 = data['honeycomb']\n",
    "\n",
    "# pbc of first question\n",
    "pbc = pointbiserialr(question_1, grades)\n",
    "print(pbc)"
   ]
  },
  {
   "cell_type": "code",
   "execution_count": 39,
   "metadata": {},
   "outputs": [
    {
     "name": "stdout",
     "output_type": "stream",
     "text": [
      "PointbiserialrResult(correlation=0.04613807514837846, pvalue=0.7503610944942998)\n"
     ]
    }
   ],
   "source": [
    "# get data\n",
    "data = df\n",
    "\n",
    "# get continuous and dichotomous data\n",
    "grades = data['elongation (%)']\n",
    "question_1 = data['honeycomb']\n",
    "\n",
    "# pbc of first question\n",
    "pbc = pointbiserialr(question_1, grades)\n",
    "print(pbc)"
   ]
  },
  {
   "cell_type": "code",
   "execution_count": 40,
   "metadata": {},
   "outputs": [
    {
     "name": "stdout",
     "output_type": "stream",
     "text": [
      "PointbiserialrResult(correlation=0.009053945675203266, pvalue=0.9502418872501852)\n"
     ]
    }
   ],
   "source": [
    "# get data\n",
    "data = df\n",
    "\n",
    "# get continuous and dichotomous data\n",
    "grades = data['tension_strength (MPa)']\n",
    "question_1 = data['honeycomb']\n",
    "\n",
    "# pbc of first question\n",
    "pbc = pointbiserialr(question_1, grades)\n",
    "print(pbc)"
   ]
  },
  {
   "cell_type": "markdown",
   "metadata": {},
   "source": [
    "# Logistic Regression"
   ]
  },
  {
   "cell_type": "markdown",
   "metadata": {},
   "source": [
    "# PCA"
   ]
  },
  {
   "cell_type": "code",
   "execution_count": 41,
   "metadata": {},
   "outputs": [],
   "source": [
    "from sklearn.decomposition import PCA\n",
    "from sklearn.preprocessing import StandardScaler\n",
    "from sklearn.pipeline import Pipeline\n",
    "from mpl_toolkits.axes_grid1 import make_axes_locatable\n"
   ]
  },
  {
   "cell_type": "code",
   "execution_count": 42,
   "metadata": {},
   "outputs": [],
   "source": [
    "x = df.copy(deep=False)\n",
    "y1 = x.pop('roughness (μm)')\n",
    "y2 = x.pop('tension_strength (MPa)')\n",
    "y3 = x.pop('elongation (%)')"
   ]
  },
  {
   "cell_type": "code",
   "execution_count": 43,
   "metadata": {},
   "outputs": [],
   "source": [
    "# pca = PCA(n_components=2)\n",
    "# principalComponents = pca.fit_transform(x)\n",
    "# principalDf = pd.DataFrame(data = principalComponents\n",
    "#                         ,columns = ['principal component 1', 'principal component 2'])"
   ]
  },
  {
   "cell_type": "code",
   "execution_count": 44,
   "metadata": {},
   "outputs": [
    {
     "data": {
      "image/png": "[encoded data removed]",
      "text/plain": [
       "<Figure size 1440x720 with 6 Axes>"
      ]
     },
     "metadata": {
      "needs_background": "light"
     },
     "output_type": "display_data"
    }
   ],
   "source": [
    "pca = PCA()\n",
    "pipe = Pipeline([('scaler', StandardScaler()), ('pca', pca)])\n",
    "Xt = pipe.fit_transform(df)\n",
    "\n",
    "\n",
    "fig = plt.figure(figsize=(20, 10))\n",
    "\n",
    "ax1 = fig.add_subplot(121)\n",
    "im1 = ax1.scatter(Xt[:, 0], Xt[:, 1], c=y1)\n",
    "divider = make_axes_locatable(ax1)\n",
    "cax = divider.append_axes('right', size='5%', pad=0.05)\n",
    "fig.colorbar(im1, cax=cax, orientation='vertical')\n",
    "\n",
    "ax2 = fig.add_subplot(222)\n",
    "im2 = ax2.scatter(Xt[:, 0], Xt[:, 1], c=y2)\n",
    "divider = make_axes_locatable(ax2)\n",
    "cax = divider.append_axes('right', size='5%', pad=0.05)\n",
    "fig.colorbar(im2, cax=cax, orientation='vertical')\n",
    "\n",
    "ax3 = fig.add_subplot(224)\n",
    "im2 = ax3.scatter(Xt[:, 0], Xt[:, 1], c=y3)\n",
    "divider = make_axes_locatable(ax3)\n",
    "cax = divider.append_axes('right', size='5%', pad=0.05)\n",
    "fig.colorbar(im2, cax=cax, orientation='vertical')\n",
    "ax1.set_title('roughness (μm)')\n",
    "ax2.set_title('tension_strength (MPa)')\n",
    "ax3.set_title('elongation (%)')\n",
    "\n",
    "plt.show()"
   ]
  },
  {
   "cell_type": "markdown",
   "metadata": {},
   "source": [
    "# Test Datapoints Choice"
   ]
  },
  {
   "cell_type": "code",
   "execution_count": 45,
   "metadata": {},
   "outputs": [],
   "source": [
    "df =df.sort_values('roughness (μm)').reset_index()"
   ]
  },
  {
   "cell_type": "code",
   "execution_count": 63,
   "metadata": {},
   "outputs": [],
   "source": [
    "from sklearn.model_selection import train_test_split as ttsp\n",
    "xtrain, xtest, ytrain, ytest = ttsp(x, y1, test_size=0.2, random_state=32)\n",
    "xtrain2, xtest2, ytrain2, ytest2 = ttsp(x, y1, test_size=0.2, random_state=0)"
   ]
  },
  {
   "cell_type": "code",
   "execution_count": 64,
   "metadata": {},
   "outputs": [
    {
     "data": {
      "text/plain": [
       "Text(0, 0.5, 'Rough')"
      ]
     },
     "execution_count": 64,
     "metadata": {},
     "output_type": "execute_result"
    },
    {
     "data": {
      "image/png": "[encoded data removed]",
      "text/plain": [
       "<Figure size 720x720 with 2 Axes>"
      ]
     },
     "metadata": {
      "needs_background": "light"
     },
     "output_type": "display_data"
    }
   ],
   "source": [
    "fig = plt.figure(figsize=(10,10))\n",
    "ax1 = fig.add_subplot(221)\n",
    "ax1.plot(ytrain,ytrain,'bo',label=\"Train\")\n",
    "ax1.plot(ytest,ytest,'ko',label = 'Test')\n",
    "ax1.legend()\n",
    "ax1.set_title('Split 1')\n",
    "ax1.set_xlabel('Rough')\n",
    "ax1.set_ylabel('Rough')\n",
    "\n",
    "ax2 = fig.add_subplot(222)\n",
    "ax2.plot(ytrain2,ytrain2,'bo',label=\"Train\")\n",
    "ax2.plot(ytest2,ytest2,'ko',label = 'Test')\n",
    "ax2.legend()\n",
    "ax2.set_title('Split 2')\n",
    "ax2.set_xlabel('Rough')\n",
    "ax2.set_ylabel('Rough')"
   ]
  },
  {
   "cell_type": "code",
   "execution_count": null,
   "metadata": {},
   "outputs": [
    {
     "data": {
      "text/plain": [
       "[<matplotlib.lines.Line2D at 0x7f3a5494c3a0>]"
      ]
     },
     "execution_count": 21,
     "metadata": {},
     "output_type": "execute_result"
    },
    {
     "data": {
      "image/png": "[encoded data removed]",
      "text/plain": [
       "<Figure size 432x288 with 1 Axes>"
      ]
     },
     "metadata": {
      "needs_background": "light"
     },
     "output_type": "display_data"
    }
   ],
   "source": [
    "plt.plot(df['roughness (μm)'],'x')"
   ]
  },
  {
   "cell_type": "code",
   "execution_count": null,
   "metadata": {},
   "outputs": [],
   "source": [
    "from sklearn.cluster import KMeans\n",
    "kmeans = KMeans(n_clusters=8,n_init=10,random_state=10)\n",
    "df['label'] = kmeans.fit_predict(df[['roughness (μm)']])\n",
    "# df['label'] = kmeans.fit_predict(df)\n",
    "ord_idx=np.argsort(kmeans.cluster_centers_.flatten())\n",
    "\n",
    "cntrs = np.zeros_like(df['label'])-1\n",
    "for i in np.arange(8):\n",
    "    cntrs[df['label']==ord_idx[i]]=i\n",
    "df['label'] = cntrs"
   ]
  },
  {
   "cell_type": "code",
   "execution_count": null,
   "metadata": {},
   "outputs": [
    {
     "data": {
      "image/png": "[encoded data removed]",
      "text/plain": [
       "<Figure size 432x288 with 1 Axes>"
      ]
     },
     "metadata": {
      "needs_background": "light"
     },
     "output_type": "display_data"
    }
   ],
   "source": [
    "ax = df[df['label']==4].plot.scatter(x='roughness (μm)', y='label', s=50, color='white', edgecolor='black')\n",
    "df[df['label']==1].plot.scatter(x='roughness (μm)', y='label', s=50, color='white', ax=ax, edgecolor='red')\n",
    "df[df['label']==2].plot.scatter(x='roughness (μm)', y='label', s=50, color='white', ax=ax, edgecolor='red')\n",
    "df[df['label']==3].plot.scatter(x='roughness (μm)', y='label', s=50, color='white', ax=ax, edgecolor='red')\n",
    "df[df['label']==5].plot.scatter(x='roughness (μm)', y='label', s=50, color='white', ax=ax, edgecolor='red')\n",
    "df[df['label']==6].plot.scatter(x='roughness (μm)', y='label', s=50, color='white', ax=ax, edgecolor='red')\n",
    "df[df['label']==7].plot.scatter(x='roughness (μm)', y='label', s=50, color='white', ax=ax, edgecolor='red')\n",
    "df[df['label']==0].plot.scatter(x='roughness (μm)', y='label', s=50, color='white', ax=ax, edgecolor='red')\n",
    "\n",
    "plt.scatter(kmeans.cluster_centers_.ravel(), [-0.5]*len(kmeans.cluster_centers_), s=100, color='green', marker='*')\n",
    "plt.grid()"
   ]
  },
  {
   "cell_type": "code",
   "execution_count": null,
   "metadata": {},
   "outputs": [
    {
     "data": {
      "image/png": "[encoded data removed]",
      "text/plain": [
       "<Figure size 432x288 with 1 Axes>"
      ]
     },
     "metadata": {
      "needs_background": "light"
     },
     "output_type": "display_data"
    }
   ],
   "source": [
    "plt.plot(df['roughness (μm)'],'x')\n",
    "plt.plot(df[df['label']==0]['roughness (μm)'],'x')\n",
    "plt.plot(df[df['label']==1]['roughness (μm)'],'x')\n",
    "plt.plot(df[df['label']==2]['roughness (μm)'],'x')\n",
    "plt.plot(df[df['label']==3]['roughness (μm)'],'x')\n",
    "plt.plot(df[df['label']==4]['roughness (μm)'],'x')\n",
    "plt.plot(df[df['label']==5]['roughness (μm)'],'x')\n",
    "plt.plot(df[df['label']==6]['roughness (μm)'],'x')\n",
    "plt.plot(df[df['label']==7]['roughness (μm)'],'x')\n",
    "plt.grid()"
   ]
  }
 ],
 "metadata": {
  "kernelspec": {
   "display_name": "Python 3.9.15 ('tf')",
   "language": "python",
   "name": "python3"
  },
  "language_info": {
   "codemirror_mode": {
    "name": "ipython",
    "version": 3
   },
   "file_extension": ".py",
   "mimetype": "text/x-python",
   "name": "python",
   "nbconvert_exporter": "python",
   "pygments_lexer": "ipython3",
   "version": "3.9.15"
  },
  "orig_nbformat": 4,
  "vscode": {
   "interpreter": {
    "hash": "a8477db803d2ebe70aa0971410c968e2c89bebd74bd07aee6f225349be8a6b47"
   }
  }
 },
 "nbformat": 4,
 "nbformat_minor": 2
}
