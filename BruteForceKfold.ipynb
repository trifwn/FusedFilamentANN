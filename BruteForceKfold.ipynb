{
 "cells": [
  {
   "cell_type": "code",
   "execution_count": null,
   "metadata": {},
   "outputs": [],
   "source": [
    "import os\n",
    "from datetime import datetime\n",
    "import random\n",
    "\n",
    "import numpy as np\n",
    "from math import *\n",
    "\n",
    "import tensorflow as tf\n",
    "\n",
    "import matplotlib.pyplot as plt\n",
    "import pandas as pd\n",
    "from sklearn.model_selection import KFold"
   ]
  },
  {
   "cell_type": "markdown",
   "metadata": {},
   "source": [
    "# Tensorflow"
   ]
  },
  {
   "cell_type": "code",
   "execution_count": null,
   "metadata": {},
   "outputs": [],
   "source": [
    "gpus = tf.config.experimental.list_physical_devices('GPU')\n",
    "if gpus:\n",
    "    try:\n",
    "        # Currently, memory growth needs to be the same across GPUs\n",
    "        for gpu in gpus:\n",
    "            tf.config.experimental.set_memory_growth(gpu, True)\n",
    "        logical_gpus = tf.config.experimental.list_logical_devices('GPU')\n",
    "        print(len(gpus), \"Physical GPUs,\", len(logical_gpus), \"Logical GPUs\")\n",
    "    except RuntimeError as e:\n",
    "        # Memory growth must be set before GPUs have been initialized\n",
    "        print(e)\n",
    "tf.test.is_built_with_cuda()"
   ]
  },
  {
   "cell_type": "markdown",
   "metadata": {},
   "source": [
    "# Case"
   ]
  },
  {
   "cell_type": "code",
   "execution_count": 3,
   "metadata": {},
   "outputs": [],
   "source": [
    "folders = ['Rough','UTS','Elon']\n",
    "index = 1\n",
    "CASE = folders[index]"
   ]
  },
  {
   "cell_type": "code",
   "execution_count": 4,
   "metadata": {},
   "outputs": [],
   "source": [
    "from prepross import importForK\n",
    "x,y = importForK(index)"
   ]
  },
  {
   "cell_type": "markdown",
   "metadata": {},
   "source": [
    "# Network"
   ]
  },
  {
   "cell_type": "code",
   "execution_count": null,
   "metadata": {},
   "outputs": [],
   "source": [
    "# Hyperparameters\n",
    "lossfn = [tf.keras.losses.MeanSquaredError(),tf.keras.losses.MeanAbsolutePercentageError(),tf.keras.losses.MeanAbsoluteError()]\n",
    "lossfn = lossfn[index]\n",
    "optimizer = [tf.keras.optimizers.Adam(learning_rate=i,beta_1=0.09,beta_2=0.9) for i in [5e-2,1e-2,5e-3]]\n",
    "optimizer = optimizer[index]\n",
    "metrics = ['mean_squared_error','mean_absolute_error',tf.keras.losses.MeanAbsolutePercentageError()]"
   ]
  },
  {
   "cell_type": "code",
   "execution_count": null,
   "metadata": {},
   "outputs": [],
   "source": [
    "#Give a random seed\n",
    "tf.random.set_seed(random.randint(1,1000))\n",
    "from networks import create_model,compile_and_fit"
   ]
  },
  {
   "cell_type": "markdown",
   "metadata": {},
   "source": [
    "# K-Fold cross validation"
   ]
  },
  {
   "cell_type": "code",
   "execution_count": null,
   "metadata": {},
   "outputs": [],
   "source": [
    "mArch = []\n",
    "for l2 in range(3,11):\n",
    "    for l3 in range(2,73):\n",
    "        if l2*(len(x.columns)+l3) + l3 < 100 and l2*(len(x.columns)+l3) + l3 > 50:\n",
    "            mArch.append([[l2,'tanh',1],[l3,'linear',1]])\n",
    "            mArch.append([[l2,'tanh',1],[l3,'relu',1],1])"
   ]
  },
  {
   "cell_type": "code",
   "execution_count": null,
   "metadata": {},
   "outputs": [],
   "source": [
    "def kfoldTrain(xd,yd,lossfn,mArch,n_split,modelName):\n",
    "  error = {}\n",
    "  error['MAE'] = 0\n",
    "  error[\"MSE\"] = 0\n",
    "  error['MRE'] = 0\n",
    "  i=1\n",
    "  for train_index,test_index in KFold(n_split).split(xd):\n",
    "    x_train,x_test=xd.values[train_index],xd.values[test_index]\n",
    "    y_train,y_test=yd.values[train_index],yd.values[test_index]\n",
    "    \n",
    "    model = create_model(mArch,modelName+\"_v\"+str(i),len(x.columns))\n",
    "    # Print Model Summary\n",
    "    model.summary()\n",
    "\n",
    "    # Compile And Fit\n",
    "    history = compile_and_fit(CASE,model,optimizer,lossfn,metrics,\n",
    "                            modelName+'_v'+str(i),x_train,y_train,\n",
    "                            verbose = 0,batch_size=3,MAX_EPOCHS=300,\n",
    "                            patience = 50,record = True)\n",
    " \n",
    "    error['MSE'] += model.evaluate(x_test,y_test)[0]\n",
    "    error['MAE'] += model.evaluate(x_test,y_test)[1]\n",
    "    error['MRE'] += model.evaluate(x_test,y_test)[2]\n",
    "    i+=1\n",
    "  return error"
   ]
  },
  {
   "cell_type": "code",
   "execution_count": null,
   "metadata": {},
   "outputs": [],
   "source": [
    "performance = {}\n",
    "for ele in mArch:\n",
    "    print(ele)\n",
    "    # Create a basic model Architecture\n",
    "    modelArchitecture = [ele[0],ele[1],[1,'linear',1]]\n",
    "    modelName = ''\n",
    "    for u,fn,b in modelArchitecture:\n",
    "        modelName += str(u)+fn+str(b)+'_'\n",
    "   \n",
    "    performance[modelName] = kfoldTrain(x,y,lossfn,modelArchitecture,10,modelName)\n",
    "    # print(val_performance[modelName])\n",
    "    # print(performance[modelName])"
   ]
  }
 ],
 "metadata": {
  "kernelspec": {
   "display_name": "Python 3.9.15 ('tf')",
   "language": "python",
   "name": "python3"
  },
  "language_info": {
   "codemirror_mode": {
    "name": "ipython",
    "version": 3
   },
   "file_extension": ".py",
   "mimetype": "text/x-python",
   "name": "python",
   "nbconvert_exporter": "python",
   "pygments_lexer": "ipython3",
   "version": "3.9.15"
  },
  "orig_nbformat": 4,
  "vscode": {
   "interpreter": {
    "hash": "a8477db803d2ebe70aa0971410c968e2c89bebd74bd07aee6f225349be8a6b47"
   }
  }
 },
 "nbformat": 4,
 "nbformat_minor": 2
}
