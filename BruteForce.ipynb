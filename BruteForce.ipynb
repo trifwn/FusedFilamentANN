{
 "cells": [
  {
   "cell_type": "code",
   "execution_count": null,
   "metadata": {},
   "outputs": [],
   "source": [
    "import random\n",
    "\n",
    "import IPython\n",
    "import IPython.display\n",
    "\n",
    "import numpy as np\n",
    "\n",
    "import tensorflow as tf\n",
    "\n",
    "\n",
    "from sklearn.cluster import KMeans\n",
    "\n",
    "import matplotlib.pyplot as plt\n",
    "import pandas as pd"
   ]
  },
  {
   "cell_type": "markdown",
   "metadata": {},
   "source": [
    "# TF CHECK"
   ]
  },
  {
   "cell_type": "code",
   "execution_count": null,
   "metadata": {},
   "outputs": [],
   "source": [
    "\n",
    "gpus = tf.config.experimental.list_physical_devices('GPU')\n",
    "if gpus:\n",
    "    try:\n",
    "        # Currently, memory growth needs to be the same across GPUs\n",
    "        for gpu in gpus:\n",
    "            tf.config.experimental.set_memory_growth(gpu, True)\n",
    "        logical_gpus = tf.config.experimental.list_logical_devices('GPU')\n",
    "        print(len(gpus), \"Physical GPUs,\", len(logical_gpus), \"Logical GPUs\")\n",
    "    except RuntimeError as e:\n",
    "        # Memory growth must be set before GPUs have been initialized\n",
    "        print(e)\n",
    "# tf.test.is_built_with_cuda()\n",
    "# tf.executing_eagerly()"
   ]
  },
  {
   "cell_type": "markdown",
   "metadata": {},
   "source": [
    "# Case "
   ]
  },
  {
   "cell_type": "code",
   "execution_count": null,
   "metadata": {},
   "outputs": [],
   "source": [
    "folders = ['Rough','UTS','Elon']\n",
    "target = ['roughness (μm)','tension_strength (MPa)','elongation (%)']\n",
    "index = 2\n",
    "CASE = folders[index]"
   ]
  },
  {
   "cell_type": "code",
   "execution_count": null,
   "metadata": {},
   "outputs": [],
   "source": [
    "from prepross import importAndProcess\n",
    "xtrain,xval,xtest,ytrain,yval,ytest = importAndProcess(index)\n",
    "x = pd.concat((xtrain,xtest,xval),axis=0)\n",
    "y = pd.concat((ytrain,ytest,yval),axis=0)"
   ]
  },
  {
   "cell_type": "markdown",
   "metadata": {},
   "source": [
    "# Network"
   ]
  },
  {
   "cell_type": "code",
   "execution_count": null,
   "metadata": {},
   "outputs": [],
   "source": [
    "# Hyperparameters\n",
    "lossfn = [tf.keras.losses.MeanSquaredError(),tf.keras.losses.MeanAbsolutePercentageError(),tf.keras.losses.MeanAbsoluteError()]\n",
    "lossfn = lossfn[index]\n",
    "optimizer = [tf.keras.optimizers.Adam(learning_rate=i,beta_1=0.09,beta_2=0.9) for i in [5e-2,1e-2,5e-3]]\n",
    "optimizer = optimizer[index]\n",
    "metrics = ['mean_squared_error','mean_absolute_error',tf.keras.losses.MeanAbsolutePercentageError()]"
   ]
  },
  {
   "cell_type": "code",
   "execution_count": null,
   "metadata": {},
   "outputs": [],
   "source": [
    "#Give a random seed\n",
    "tf.random.set_seed(random.randint(1,1000))\n",
    "from networks import create_model,compile_and_fit"
   ]
  },
  {
   "cell_type": "code",
   "execution_count": null,
   "metadata": {},
   "outputs": [],
   "source": [
    "mArch = []\n",
    "for l2 in range(2,11):\n",
    "    for l3 in range(2,12):\n",
    "        if l2*(len(xtrain.columns)+l3) + l3 < 100 and l2*(len(xtrain.columns)+l3) + l3 > 30:\n",
    "            mArch.append([[l2,'sigmoid',1],[l3,'tanh',1]])\n",
    "            mArch.append([[l2,'linear',1],[l3,'relu',1]])"
   ]
  },
  {
   "cell_type": "code",
   "execution_count": null,
   "metadata": {},
   "outputs": [],
   "source": [
    "len(mArch)"
   ]
  },
  {
   "cell_type": "code",
   "execution_count": null,
   "metadata": {},
   "outputs": [],
   "source": [
    "val_performance = {}\n",
    "performance = {}\n",
    "\n",
    "for ele in mArch:\n",
    "    # Create a basic model Architecture\n",
    "    modelArchitecture = [ele[0],ele[1],[1,'linear',1]]\n",
    "    modelName = ''\n",
    "    for u,fn,b in modelArchitecture:\n",
    "        modelName += str(u)+fn+str(b)+'_'\n",
    "\n",
    "    # Create Model\n",
    "    model = create_model(modelArchitecture,modelName,len(xtrain.columns))\n",
    "    # Display the model's architecture\n",
    "    model.summary()\n",
    "\n",
    "    history = compile_and_fit(CASE,model,optimizer,lossfn,metrics,\n",
    "                            modelName,xtrain,ytrain,xval,yval,\n",
    "                            verbose = 0,batch_size=3,MAX_EPOCHS=1000,\n",
    "                            patience = 100,record = True)\n",
    "\n",
    "    val_performance[modelName] = model.evaluate(xval,yval,verbose=1)\n",
    "    performance[modelName] = model.evaluate(xtest,ytest, verbose=1)\n",
    "    # print(val_performance[modelName])\n",
    "    # print(performance[modelName])"
   ]
  }
 ],
 "metadata": {
  "kernelspec": {
   "display_name": "Python 3.9.15 ('tf')",
   "language": "python",
   "name": "python3"
  },
  "language_info": {
   "codemirror_mode": {
    "name": "ipython",
    "version": 3
   },
   "file_extension": ".py",
   "mimetype": "text/x-python",
   "name": "python",
   "nbconvert_exporter": "python",
   "pygments_lexer": "ipython3",
   "version": "3.9.15"
  },
  "orig_nbformat": 4,
  "vscode": {
   "interpreter": {
    "hash": "a8477db803d2ebe70aa0971410c968e2c89bebd74bd07aee6f225349be8a6b47"
   }
  }
 },
 "nbformat": 4,
 "nbformat_minor": 2
}
