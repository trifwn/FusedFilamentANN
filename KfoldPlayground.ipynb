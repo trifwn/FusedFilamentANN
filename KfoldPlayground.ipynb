{
 "cells": [
  {
   "cell_type": "code",
   "execution_count": 9,
   "metadata": {},
   "outputs": [],
   "source": [
    "import os\n",
    "from datetime import datetime\n",
    "import random\n",
    "\n",
    "import numpy as np\n",
    "from math import *\n",
    "\n",
    "import tensorflow as tf\n",
    "\n",
    "import matplotlib.pyplot as plt\n",
    "import pandas as pd\n",
    "from sklearn.model_selection import KFold"
   ]
  },
  {
   "cell_type": "markdown",
   "metadata": {},
   "source": [
    "# Tensorflow"
   ]
  },
  {
   "cell_type": "code",
   "execution_count": 10,
   "metadata": {},
   "outputs": [
    {
     "data": {
      "text/plain": [
       "True"
      ]
     },
     "execution_count": 10,
     "metadata": {},
     "output_type": "execute_result"
    }
   ],
   "source": [
    "gpus = tf.config.experimental.list_physical_devices('GPU')\n",
    "if gpus:\n",
    "    try:\n",
    "        # Currently, memory growth needs to be the same across GPUs\n",
    "        for gpu in gpus:\n",
    "            tf.config.experimental.set_memory_growth(gpu, True)\n",
    "        logical_gpus = tf.config.experimental.list_logical_devices('GPU')\n",
    "        print(len(gpus), \"Physical GPUs,\", len(logical_gpus), \"Logical GPUs\")\n",
    "    except RuntimeError as e:\n",
    "        # Memory growth must be set before GPUs have been initialized\n",
    "        print(e)\n",
    "tf.test.is_built_with_cuda()"
   ]
  },
  {
   "cell_type": "markdown",
   "metadata": {},
   "source": [
    "# Case"
   ]
  },
  {
   "cell_type": "code",
   "execution_count": 11,
   "metadata": {},
   "outputs": [],
   "source": [
    "folders = ['Rough','UTS','Elon']\n",
    "index = 0\n",
    "CASE = folders[index]"
   ]
  },
  {
   "cell_type": "code",
   "execution_count": 12,
   "metadata": {},
   "outputs": [],
   "source": [
    "from prepross import importForK\n",
    "x,y = importForK(index)"
   ]
  },
  {
   "cell_type": "markdown",
   "metadata": {},
   "source": [
    "# Network"
   ]
  },
  {
   "cell_type": "code",
   "execution_count": 13,
   "metadata": {},
   "outputs": [],
   "source": [
    "# Hyperparameters\n",
    "lossfn = [tf.keras.losses.MeanSquaredError(),tf.keras.losses.MeanAbsolutePercentageError(),tf.keras.losses.MeanAbsoluteError()]\n",
    "lossfn = lossfn[index]\n",
    "optimizer = [tf.keras.optimizers.Adam(learning_rate=i,beta_1=0.09,beta_2=0.9) for i in [5e-2,1e-2,5e-3]]\n",
    "optimizer = optimizer[index]\n",
    "metrics = ['mean_squared_error','mean_absolute_error',tf.keras.losses.MeanAbsolutePercentageError()]"
   ]
  },
  {
   "cell_type": "code",
   "execution_count": 14,
   "metadata": {},
   "outputs": [],
   "source": [
    "#Give a random seed\n",
    "tf.random.set_seed(random.randint(1,1000))\n",
    "from networks import create_model,compile_and_fit"
   ]
  },
  {
   "cell_type": "markdown",
   "metadata": {},
   "source": [
    "# K-Fold cross validation"
   ]
  },
  {
   "cell_type": "code",
   "execution_count": 15,
   "metadata": {},
   "outputs": [],
   "source": [
    "def kfoldTrain(xd,yd,lossfn,mArch,n_split,modelName):\n",
    "  error = {}\n",
    "  error['MAE'] = 0\n",
    "  error[\"MSE\"] = 0\n",
    "  error['MRE'] = 0\n",
    "  i=1\n",
    "  for train_index,test_index in KFold(n_split).split(xd):\n",
    "    x_train,x_test=xd.values[train_index],xd.values[test_index]\n",
    "    y_train,y_test=yd.values[train_index],yd.values[test_index]\n",
    "    \n",
    "    model = create_model(mArch,modelName+\"_v\"+str(i),len(x.columns))\n",
    "    # Print Model Summary\n",
    "    model.summary()\n",
    "\n",
    "    # Compile And Fit\n",
    "    history = compile_and_fit(CASE,model,optimizer,lossfn,metrics,\n",
    "                            modelName+'_v'+str(i),x_train,y_train,\n",
    "                            verbose = 0,batch_size=3,MAX_EPOCHS=120,\n",
    "                            patience = 50,record = True)\n",
    " \n",
    "    error['MSE'] += model.evaluate(x_test,y_test)[0]\n",
    "    error['MAE'] += model.evaluate(x_test,y_test)[1]\n",
    "    error['MRE'] += model.evaluate(x_test,y_test)[2]\n",
    "    i+=1\n",
    "  return error"
   ]
  },
  {
   "cell_type": "code",
   "execution_count": 16,
   "metadata": {},
   "outputs": [
    {
     "name": "stdout",
     "output_type": "stream",
     "text": [
      "[[4, 'tanh', 1], [5, 'linear', 1], [1, 'linear', 1]]\n",
      "Model: \"4tanh1_5linear1_1linear1__v1\"\n",
      "_________________________________________________________________\n",
      " Layer (type)                Output Shape              Param #   \n",
      "=================================================================\n",
      " dense_30 (Dense)            (None, 4)                 32        \n",
      "                                                                 \n",
      " dense_31 (Dense)            (None, 5)                 25        \n",
      "                                                                 \n",
      " dense_32 (Dense)            (None, 1)                 6         \n",
      "                                                                 \n",
      "=================================================================\n",
      "Total params: 63\n",
      "Trainable params: 63\n",
      "Non-trainable params: 0\n",
      "_________________________________________________________________\n",
      "1/1 [==============================] - 0s 136ms/step - loss: 16532.2988 - mean_squared_error: 16532.2988 - mean_absolute_error: 126.0070 - mean_absolute_percentage_error: 490.6319\n",
      "1/1 [==============================] - 0s 20ms/step - loss: 16532.2988 - mean_squared_error: 16532.2988 - mean_absolute_error: 126.0070 - mean_absolute_percentage_error: 490.6319\n",
      "1/1 [==============================] - 0s 20ms/step - loss: 16532.2988 - mean_squared_error: 16532.2988 - mean_absolute_error: 126.0070 - mean_absolute_percentage_error: 490.6319\n",
      "Model: \"4tanh1_5linear1_1linear1__v2\"\n",
      "_________________________________________________________________\n",
      " Layer (type)                Output Shape              Param #   \n",
      "=================================================================\n",
      " dense_33 (Dense)            (None, 4)                 32        \n",
      "                                                                 \n",
      " dense_34 (Dense)            (None, 5)                 25        \n",
      "                                                                 \n",
      " dense_35 (Dense)            (None, 1)                 6         \n",
      "                                                                 \n",
      "=================================================================\n",
      "Total params: 63\n",
      "Trainable params: 63\n",
      "Non-trainable params: 0\n",
      "_________________________________________________________________\n",
      "1/1 [==============================] - 0s 263ms/step - loss: 16857.3125 - mean_squared_error: 16857.3125 - mean_absolute_error: 118.2726 - mean_absolute_percentage_error: 208.3788\n",
      "1/1 [==============================] - 0s 35ms/step - loss: 16857.3125 - mean_squared_error: 16857.3125 - mean_absolute_error: 118.2726 - mean_absolute_percentage_error: 208.3788\n",
      "1/1 [==============================] - 0s 40ms/step - loss: 16857.3125 - mean_squared_error: 16857.3125 - mean_absolute_error: 118.2726 - mean_absolute_percentage_error: 208.3788\n",
      "Model: \"4tanh1_5linear1_1linear1__v3\"\n",
      "_________________________________________________________________\n",
      " Layer (type)                Output Shape              Param #   \n",
      "=================================================================\n",
      " dense_36 (Dense)            (None, 4)                 32        \n",
      "                                                                 \n",
      " dense_37 (Dense)            (None, 5)                 25        \n",
      "                                                                 \n",
      " dense_38 (Dense)            (None, 1)                 6         \n",
      "                                                                 \n",
      "=================================================================\n",
      "Total params: 63\n",
      "Trainable params: 63\n",
      "Non-trainable params: 0\n",
      "_________________________________________________________________\n",
      "1/1 [==============================] - 0s 159ms/step - loss: 24180.5664 - mean_squared_error: 24180.5664 - mean_absolute_error: 140.8668 - mean_absolute_percentage_error: 163.1670\n",
      "1/1 [==============================] - 0s 31ms/step - loss: 24180.5664 - mean_squared_error: 24180.5664 - mean_absolute_error: 140.8668 - mean_absolute_percentage_error: 163.1670\n",
      "1/1 [==============================] - 0s 20ms/step - loss: 24180.5664 - mean_squared_error: 24180.5664 - mean_absolute_error: 140.8668 - mean_absolute_percentage_error: 163.1670\n",
      "Model: \"4tanh1_5linear1_1linear1__v4\"\n",
      "_________________________________________________________________\n",
      " Layer (type)                Output Shape              Param #   \n",
      "=================================================================\n",
      " dense_39 (Dense)            (None, 4)                 32        \n",
      "                                                                 \n",
      " dense_40 (Dense)            (None, 5)                 25        \n",
      "                                                                 \n",
      " dense_41 (Dense)            (None, 1)                 6         \n",
      "                                                                 \n",
      "=================================================================\n",
      "Total params: 63\n",
      "Trainable params: 63\n",
      "Non-trainable params: 0\n",
      "_________________________________________________________________\n",
      "1/1 [==============================] - 0s 181ms/step - loss: 11502.4707 - mean_squared_error: 11502.4707 - mean_absolute_error: 86.6329 - mean_absolute_percentage_error: 70.3547\n",
      "1/1 [==============================] - 0s 33ms/step - loss: 11502.4707 - mean_squared_error: 11502.4707 - mean_absolute_error: 86.6329 - mean_absolute_percentage_error: 70.3547\n",
      "1/1 [==============================] - 0s 23ms/step - loss: 11502.4707 - mean_squared_error: 11502.4707 - mean_absolute_error: 86.6329 - mean_absolute_percentage_error: 70.3547\n",
      "Model: \"4tanh1_5linear1_1linear1__v5\"\n",
      "_________________________________________________________________\n",
      " Layer (type)                Output Shape              Param #   \n",
      "=================================================================\n",
      " dense_42 (Dense)            (None, 4)                 32        \n",
      "                                                                 \n",
      " dense_43 (Dense)            (None, 5)                 25        \n",
      "                                                                 \n",
      " dense_44 (Dense)            (None, 1)                 6         \n",
      "                                                                 \n",
      "=================================================================\n",
      "Total params: 63\n",
      "Trainable params: 63\n",
      "Non-trainable params: 0\n",
      "_________________________________________________________________\n",
      "1/1 [==============================] - 1s 1s/step - loss: 8053.5264 - mean_squared_error: 8053.5264 - mean_absolute_error: 73.7825 - mean_absolute_percentage_error: 48.6799\n",
      "1/1 [==============================] - 0s 18ms/step - loss: 8053.5264 - mean_squared_error: 8053.5264 - mean_absolute_error: 73.7825 - mean_absolute_percentage_error: 48.6799\n",
      "1/1 [==============================] - 0s 20ms/step - loss: 8053.5264 - mean_squared_error: 8053.5264 - mean_absolute_error: 73.7825 - mean_absolute_percentage_error: 48.6799\n",
      "Model: \"4tanh1_5linear1_1linear1__v6\"\n",
      "_________________________________________________________________\n",
      " Layer (type)                Output Shape              Param #   \n",
      "=================================================================\n",
      " dense_45 (Dense)            (None, 4)                 32        \n",
      "                                                                 \n",
      " dense_46 (Dense)            (None, 5)                 25        \n",
      "                                                                 \n",
      " dense_47 (Dense)            (None, 1)                 6         \n",
      "                                                                 \n",
      "=================================================================\n",
      "Total params: 63\n",
      "Trainable params: 63\n",
      "Non-trainable params: 0\n",
      "_________________________________________________________________\n",
      "1/1 [==============================] - 1s 1s/step - loss: 4849.3818 - mean_squared_error: 4849.3818 - mean_absolute_error: 63.0348 - mean_absolute_percentage_error: 36.3306\n",
      "1/1 [==============================] - 0s 75ms/step - loss: 4849.3818 - mean_squared_error: 4849.3818 - mean_absolute_error: 63.0348 - mean_absolute_percentage_error: 36.3306\n",
      "1/1 [==============================] - 0s 27ms/step - loss: 4849.3818 - mean_squared_error: 4849.3818 - mean_absolute_error: 63.0348 - mean_absolute_percentage_error: 36.3306\n",
      "Model: \"4tanh1_5linear1_1linear1__v7\"\n",
      "_________________________________________________________________\n",
      " Layer (type)                Output Shape              Param #   \n",
      "=================================================================\n",
      " dense_48 (Dense)            (None, 4)                 32        \n",
      "                                                                 \n",
      " dense_49 (Dense)            (None, 5)                 25        \n",
      "                                                                 \n",
      " dense_50 (Dense)            (None, 1)                 6         \n",
      "                                                                 \n",
      "=================================================================\n",
      "Total params: 63\n",
      "Trainable params: 63\n",
      "Non-trainable params: 0\n",
      "_________________________________________________________________\n",
      "1/1 [==============================] - 0s 219ms/step - loss: 7788.1689 - mean_squared_error: 7788.1689 - mean_absolute_error: 85.0681 - mean_absolute_percentage_error: 41.1979\n",
      "1/1 [==============================] - 0s 33ms/step - loss: 7788.1689 - mean_squared_error: 7788.1689 - mean_absolute_error: 85.0681 - mean_absolute_percentage_error: 41.1979\n",
      "1/1 [==============================] - 0s 24ms/step - loss: 7788.1689 - mean_squared_error: 7788.1689 - mean_absolute_error: 85.0681 - mean_absolute_percentage_error: 41.1979\n",
      "Model: \"4tanh1_5linear1_1linear1__v8\"\n",
      "_________________________________________________________________\n",
      " Layer (type)                Output Shape              Param #   \n",
      "=================================================================\n",
      " dense_51 (Dense)            (None, 4)                 32        \n",
      "                                                                 \n",
      " dense_52 (Dense)            (None, 5)                 25        \n",
      "                                                                 \n",
      " dense_53 (Dense)            (None, 1)                 6         \n",
      "                                                                 \n",
      "=================================================================\n",
      "Total params: 63\n",
      "Trainable params: 63\n",
      "Non-trainable params: 0\n",
      "_________________________________________________________________\n",
      "1/1 [==============================] - 1s 552ms/step - loss: 20602.6992 - mean_squared_error: 20602.6992 - mean_absolute_error: 113.3243 - mean_absolute_percentage_error: 45.5974\n",
      "1/1 [==============================] - 0s 26ms/step - loss: 20602.6992 - mean_squared_error: 20602.6992 - mean_absolute_error: 113.3243 - mean_absolute_percentage_error: 45.5974\n",
      "1/1 [==============================] - 0s 19ms/step - loss: 20602.6992 - mean_squared_error: 20602.6992 - mean_absolute_error: 113.3243 - mean_absolute_percentage_error: 45.5974\n",
      "Model: \"4tanh1_5linear1_1linear1__v9\"\n",
      "_________________________________________________________________\n",
      " Layer (type)                Output Shape              Param #   \n",
      "=================================================================\n",
      " dense_54 (Dense)            (None, 4)                 32        \n",
      "                                                                 \n",
      " dense_55 (Dense)            (None, 5)                 25        \n",
      "                                                                 \n",
      " dense_56 (Dense)            (None, 1)                 6         \n",
      "                                                                 \n",
      "=================================================================\n",
      "Total params: 63\n",
      "Trainable params: 63\n",
      "Non-trainable params: 0\n",
      "_________________________________________________________________\n",
      "1/1 [==============================] - 0s 381ms/step - loss: 23935.0039 - mean_squared_error: 23935.0039 - mean_absolute_error: 124.6216 - mean_absolute_percentage_error: 42.5722\n",
      "1/1 [==============================] - 0s 20ms/step - loss: 23935.0039 - mean_squared_error: 23935.0039 - mean_absolute_error: 124.6216 - mean_absolute_percentage_error: 42.5722\n",
      "1/1 [==============================] - 0s 76ms/step - loss: 23935.0039 - mean_squared_error: 23935.0039 - mean_absolute_error: 124.6216 - mean_absolute_percentage_error: 42.5722\n",
      "Model: \"4tanh1_5linear1_1linear1__v10\"\n",
      "_________________________________________________________________\n",
      " Layer (type)                Output Shape              Param #   \n",
      "=================================================================\n",
      " dense_57 (Dense)            (None, 4)                 32        \n",
      "                                                                 \n",
      " dense_58 (Dense)            (None, 5)                 25        \n",
      "                                                                 \n",
      " dense_59 (Dense)            (None, 1)                 6         \n",
      "                                                                 \n",
      "=================================================================\n",
      "Total params: 63\n",
      "Trainable params: 63\n",
      "Non-trainable params: 0\n",
      "_________________________________________________________________\n",
      "1/1 [==============================] - 0s 195ms/step - loss: 25884.5215 - mean_squared_error: 25884.5215 - mean_absolute_error: 158.6535 - mean_absolute_percentage_error: 45.8745\n",
      "1/1 [==============================] - 0s 32ms/step - loss: 25884.5215 - mean_squared_error: 25884.5215 - mean_absolute_error: 158.6535 - mean_absolute_percentage_error: 45.8745\n",
      "1/1 [==============================] - 0s 28ms/step - loss: 25884.5215 - mean_squared_error: 25884.5215 - mean_absolute_error: 158.6535 - mean_absolute_percentage_error: 45.8745\n"
     ]
    }
   ],
   "source": [
    "performance = {}\n",
    "# Create a basic model Architecture\n",
    "mArch = [[4,'tanh',1],[5,'linear',1]]\n",
    "\n",
    "modelArchitecture = [mArch[0],mArch[1],[1,'linear',1]]\n",
    "print(modelArchitecture)\n",
    "modelName = ''\n",
    "for u,fn,b in modelArchitecture:\n",
    "    modelName += str(u)+fn+str(b)+'_'\n",
    "\n",
    "performance[modelName] = kfoldTrain(x,y,lossfn,modelArchitecture,10,modelName)\n",
    "# print(val_performance[modelName])\n",
    "# print(performance[modelName])"
   ]
  }
 ],
 "metadata": {
  "kernelspec": {
   "display_name": "Python 3.9.15 ('tf')",
   "language": "python",
   "name": "python3"
  },
  "language_info": {
   "codemirror_mode": {
    "name": "ipython",
    "version": 3
   },
   "file_extension": ".py",
   "mimetype": "text/x-python",
   "name": "python",
   "nbconvert_exporter": "python",
   "pygments_lexer": "ipython3",
   "version": "3.9.15"
  },
  "orig_nbformat": 4,
  "vscode": {
   "interpreter": {
    "hash": "a8477db803d2ebe70aa0971410c968e2c89bebd74bd07aee6f225349be8a6b47"
   }
  }
 },
 "nbformat": 4,
 "nbformat_minor": 2
}
